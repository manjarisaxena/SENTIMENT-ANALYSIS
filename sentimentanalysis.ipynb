{
  "nbformat": 4,
  "nbformat_minor": 0,
  "metadata": {
    "colab": {
      "provenance": []
    },
    "kernelspec": {
      "name": "python3",
      "display_name": "Python 3"
    },
    "language_info": {
      "name": "python"
    }
  },
  "cells": [
    {
      "cell_type": "markdown",
      "source": [
        "1. **importing dependencies and review dataset**"
      ],
      "metadata": {
        "id": "90u6ehpgyETZ"
      }
    },
    {
      "cell_type": "code",
      "source": [
        "import warnings\n",
        "warnings.filterwarnings('ignore')\n",
        "import pandas as pd\n",
        "import nltk\n",
        "import matplotlib.pyplot as plt\n",
        "import seaborn as sns\n",
        "import re\n",
        "from sklearn.feature_extraction.text import TfidfVectorizer\n",
        "from wordcloud import WordCloud\n",
        "import nltk\n",
        "nltk.download('stopwords')\n",
        "from nltk.corpus import stopwords\n",
        "from textblob import TextBlob"
      ],
      "metadata": {
        "id": "_oWQ4c0JEcGn",
        "colab": {
          "base_uri": "https://localhost:8080/"
        },
        "outputId": "6593ed34-c640-4c4d-a3d2-c5633f25ccb6"
      },
      "execution_count": 1,
      "outputs": [
        {
          "output_type": "stream",
          "name": "stderr",
          "text": [
            "[nltk_data] Downloading package stopwords to /root/nltk_data...\n",
            "[nltk_data]   Unzipping corpora/stopwords.zip.\n"
          ]
        }
      ]
    },
    {
      "cell_type": "code",
      "source": [
        "import pandas as pd\n",
        "\n",
        "# Load the dataset\n",
        "sentiment_data = pd.read_csv('/content/sentiment_analysis.csv', encoding='latin-1')\n",
        "\n",
        "# Display the first 1963 rows as a table\n",
        "from google.colab.data_table import DataTable\n",
        "\n",
        "DataTable(sentiment_data.head(1963))  # This will display an interactive table\n"
      ],
      "metadata": {
        "colab": {
          "base_uri": "https://localhost:8080/",
          "height": 2882
        },
        "id": "VOyxdbIvEkoI",
        "outputId": "f8b596c4-1093-4d5a-828d-7c712387bc59"
      },
      "execution_count": 3,
      "outputs": [
        {
          "output_type": "execute_result",
          "data": {
            "text/html": [
              "<div>\n",
              "<style scoped>\n",
              "    .dataframe tbody tr th:only-of-type {\n",
              "        vertical-align: middle;\n",
              "    }\n",
              "\n",
              "    .dataframe tbody tr th {\n",
              "        vertical-align: top;\n",
              "    }\n",
              "\n",
              "    .dataframe thead th {\n",
              "        text-align: right;\n",
              "    }\n",
              "</style>\n",
              "<table border=\"1\" class=\"dataframe\">\n",
              "  <thead>\n",
              "    <tr style=\"text-align: right;\">\n",
              "      <th></th>\n",
              "      <th>Unnamed: 0</th>\n",
              "      <th>productTitle</th>\n",
              "      <th>productURL</th>\n",
              "      <th>Customer Name</th>\n",
              "      <th>Date</th>\n",
              "      <th>Review Title</th>\n",
              "      <th>Rating</th>\n",
              "      <th>Review Body</th>\n",
              "    </tr>\n",
              "  </thead>\n",
              "  <tbody>\n",
              "    <tr>\n",
              "      <th>0</th>\n",
              "      <td>1</td>\n",
              "      <td>Amazon.in:Customer reviews: Puma mens Dazzler ...</td>\n",
              "      <td>https://www.amazon.in/Puma-Dazzler-Black-Puma-...</td>\n",
              "      <td>Ashiq mohanan</td>\n",
              "      <td>08-Jan-24</td>\n",
              "      <td>5.0 out of 5 stars\\nQuality shoes on affordabl...</td>\n",
              "      <td>5</td>\n",
              "      <td>Value of money, good build quality, comfortabl...</td>\n",
              "    </tr>\n",
              "    <tr>\n",
              "      <th>1</th>\n",
              "      <td>2</td>\n",
              "      <td>Amazon.in:Customer reviews: Puma Unisex-Adult ...</td>\n",
              "      <td>https://www.amazon.in/Puma-Unisex-Adult-Smashi...</td>\n",
              "      <td>Gurpreet kaur</td>\n",
              "      <td>03-Feb-24</td>\n",
              "      <td>5.0 out of 5 stars\\nGood product</td>\n",
              "      <td>5</td>\n",
              "      <td>Same as picture</td>\n",
              "    </tr>\n",
              "    <tr>\n",
              "      <th>2</th>\n",
              "      <td>3</td>\n",
              "      <td>Amazon.in:Customer reviews: Puma Unisex-Adult ...</td>\n",
              "      <td>https://www.amazon.in/Puma-Unisex-Adult-Badmin...</td>\n",
              "      <td>Kf</td>\n",
              "      <td>17-Jan-24</td>\n",
              "      <td>5.0 out of 5 stars\\nWorth every Penny</td>\n",
              "      <td>5</td>\n",
              "      <td>Excellent and very comfortable, superb grip go...</td>\n",
              "    </tr>\n",
              "    <tr>\n",
              "      <th>3</th>\n",
              "      <td>4</td>\n",
              "      <td>Amazon.in:Customer reviews: Puma Mens Ultimate...</td>\n",
              "      <td>https://www.amazon.in/Puma-Mens-Ultimate-Ease-...</td>\n",
              "      <td>Sharmila Das</td>\n",
              "      <td>24-Feb-24</td>\n",
              "      <td>5.0 out of 5 stars\\nAwesome quality i loved</td>\n",
              "      <td>5</td>\n",
              "      <td>I loved because shoes lightweight soft ..Comfo...</td>\n",
              "    </tr>\n",
              "    <tr>\n",
              "      <th>4</th>\n",
              "      <td>5</td>\n",
              "      <td>Amazon.in:Customer reviews: Puma Mens Melanite...</td>\n",
              "      <td>https://www.amazon.in/Puma-Mens-Melanite-Gray-...</td>\n",
              "      <td>Dinesh Kumar Masta</td>\n",
              "      <td>29-Oct-23</td>\n",
              "      <td>5.0 out of 5 stars\\nGood fit and comfortable</td>\n",
              "      <td>5</td>\n",
              "      <td>Good quality, lightweight and fit well to my f...</td>\n",
              "    </tr>\n",
              "    <tr>\n",
              "      <th>...</th>\n",
              "      <td>...</td>\n",
              "      <td>...</td>\n",
              "      <td>...</td>\n",
              "      <td>...</td>\n",
              "      <td>...</td>\n",
              "      <td>...</td>\n",
              "      <td>...</td>\n",
              "      <td>...</td>\n",
              "    </tr>\n",
              "    <tr>\n",
              "      <th>124</th>\n",
              "      <td>125</td>\n",
              "      <td>Nike mens Metcon 8 Workout</td>\n",
              "      <td>https://www.amazon.com/Nike-mens-Metcon-8-Work...</td>\n",
              "      <td>Ryan Nash</td>\n",
              "      <td>February 22, 2024</td>\n",
              "      <td>5.0 out of 5 stars\\nWorking great as lifting s...</td>\n",
              "      <td>5</td>\n",
              "      <td>Fit is comfortable and sizing is as expected. ...</td>\n",
              "    </tr>\n",
              "    <tr>\n",
              "      <th>125</th>\n",
              "      <td>126</td>\n",
              "      <td>Nike Women's Air Max Excee Shoes</td>\n",
              "      <td>https://www.amazon.com/Nike-Womens-Air-Excee-S...</td>\n",
              "      <td>Nicole Monahan</td>\n",
              "      <td>February 20, 2024</td>\n",
              "      <td>5.0 out of 5 stars\\nGreat look</td>\n",
              "      <td>5</td>\n",
              "      <td>Took a little longer than expected to get them...</td>\n",
              "    </tr>\n",
              "    <tr>\n",
              "      <th>126</th>\n",
              "      <td>127</td>\n",
              "      <td>Nike mens React Infinity 3</td>\n",
              "      <td>https://www.amazon.com/Nike-mens-React-Infinit...</td>\n",
              "      <td>Triccia Go</td>\n",
              "      <td>January 12, 2024</td>\n",
              "      <td>5.0 out of 5 stars\\nDurable, comfortable every...</td>\n",
              "      <td>5</td>\n",
              "      <td>As title says, these are super durable and com...</td>\n",
              "    </tr>\n",
              "    <tr>\n",
              "      <th>127</th>\n",
              "      <td>128</td>\n",
              "      <td>Nike mens Running</td>\n",
              "      <td>https://www.amazon.com/Nike-mens-Running/produ...</td>\n",
              "      <td>Mike Kramer</td>\n",
              "      <td>January 22, 2024</td>\n",
              "      <td>5.0 out of 5 stars\\nGood shoe</td>\n",
              "      <td>5</td>\n",
              "      <td>Good fit, decent style for 14 year old, and re...</td>\n",
              "    </tr>\n",
              "    <tr>\n",
              "      <th>128</th>\n",
              "      <td>129</td>\n",
              "      <td>adidas Men's Daily 3.0 Sneaker</td>\n",
              "      <td>https://www.amazon.com/adidas-GW6421-Mens-Snea...</td>\n",
              "      <td>Kole Riley</td>\n",
              "      <td>February 27, 2024</td>\n",
              "      <td>5.0 out of 5 stars\\nClassic shoe for everyday ...</td>\n",
              "      <td>5</td>\n",
              "      <td>I love these shoes. I thought Iâd have to br...</td>\n",
              "    </tr>\n",
              "  </tbody>\n",
              "</table>\n",
              "<p>129 rows × 8 columns</p>\n",
              "</div>"
            ],
            "application/vnd.google.colaboratory.module+javascript": "\n      import \"https://ssl.gstatic.com/colaboratory/data_table/e523c247d1e24a05/data_table.js\";\n\n      const table = window.createDataTable({\n        data: [[{\n            'v': 0,\n            'f': \"0\",\n        },\n{\n            'v': 1,\n            'f': \"1\",\n        },\n\"Amazon.in:Customer reviews: Puma mens Dazzler Black-Silver Running Shoe - 9 UK (39178201)\",\n\"https://www.amazon.in/Puma-Dazzler-Black-Puma-Silver-Sneaker/product-reviews/B09RG9WPTC/ref=cm_cr_dp_d_show_all_btm?ie=UTF8&reviewerType=all_reviews&pageNumber=\",\n\"Ashiq mohanan\",\n\"08-Jan-24\",\n\"5.0 out of 5 stars\\nQuality shoes on affordable price with minimal black design\",\n{\n            'v': 5,\n            'f': \"5\",\n        },\n\"Value of money, good build quality, comfortable for regular use and jogging. Packaging was very bad but it didn't affect the shoe . Over all its very nice shoes\"],\n [{\n            'v': 1,\n            'f': \"1\",\n        },\n{\n            'v': 2,\n            'f': \"2\",\n        },\n\"Amazon.in:Customer reviews: Puma Unisex-Adult Smashic White-Matte Silver Sneaker - 10UK (39437102)\",\n\"https://www.amazon.in/Puma-Unisex-Adult-Smashic-White-Matte-Sneaker/product-reviews/B0BSLKJHF9/ref=cm_cr_dp_d_show_all_btm?ie=UTF8&reviewerType=all_reviews&pageNumber=\",\n\"Gurpreet kaur\",\n\"03-Feb-24\",\n\"5.0 out of 5 stars\\nGood product\",\n{\n            'v': 5,\n            'f': \"5\",\n        },\n\"Same as picture\"],\n [{\n            'v': 2,\n            'f': \"2\",\n        },\n{\n            'v': 3,\n            'f': \"3\",\n        },\n\"Amazon.in:Customer reviews: Puma Unisex-Adult Badminton Smash Sprint Racing Blue-Speed Green-White Indoor Shoe - 9 UK (10812704)\",\n\"https://www.amazon.in/Puma-Unisex-Adult-Badminton-Blue-Speed-Green-White/product-reviews/B0CKYPDV2Z/ref=cm_cr_dp_d_show_all_btm?ie=UTF8&reviewerType=all_reviews&pageNumber=\",\n\"Kf\",\n\"17-Jan-24\",\n\"5.0 out of 5 stars\\nWorth every Penny\",\n{\n            'v': 5,\n            'f': \"5\",\n        },\n\"Excellent and very comfortable, superb grip go ahead without any second thought. Overall Happy \\u00f0\\u009f\\u0099\\u0082\"],\n [{\n            'v': 3,\n            'f': \"3\",\n        },\n{\n            'v': 4,\n            'f': \"4\",\n        },\n\"Amazon.in:Customer reviews: Puma Mens Ultimate Ease Black-White Walking Shoe - 7 UK (37905101)\",\n\"https://www.amazon.in/Puma-Mens-Ultimate-Ease-Everglide/product-reviews/B0B51KHT5K/ref=cm_cr_dp_d_show_all_btm?ie=UTF8&reviewerType=all_reviews&pageNumber=\",\n\"Sharmila Das\",\n\"24-Feb-24\",\n\"5.0 out of 5 stars\\nAwesome quality i loved\",\n{\n            'v': 5,\n            'f': \"5\",\n        },\n\"I loved because shoes lightweight soft ..Comfortable\"],\n [{\n            'v': 4,\n            'f': \"4\",\n        },\n{\n            'v': 5,\n            'f': \"5\",\n        },\n\"Amazon.in:Customer reviews: Puma Mens Melanite Slip on Cool Dark Gray-Black-White Sneaker - 9 UK (39185802)\",\n\"https://www.amazon.in/Puma-Mens-Melanite-Gray-Black-White-Sneaker/product-reviews/B0C5JB8QNX/ref=cm_cr_dp_d_show_all_btm?ie=UTF8&reviewerType=all_reviews&pageNumber=\",\n\"Dinesh Kumar Masta\",\n\"29-Oct-23\",\n\"5.0 out of 5 stars\\nGood fit and comfortable\",\n{\n            'v': 5,\n            'f': \"5\",\n        },\n\"Good quality, lightweight and fit well to my feet.\"],\n [{\n            'v': 5,\n            'f': \"5\",\n        },\n{\n            'v': 6,\n            'f': \"6\",\n        },\n\"Amazon.in:Customer reviews: Puma Unisex Duke IDP White-Quarry Running Shoe 38889202 8UK\",\n\"https://www.amazon.in/Puma-White-Quarry-Running-Shoe-8UK-38889202/product-reviews/B09RF865D4/ref=cm_cr_dp_d_show_all_btm?ie=UTF8&reviewerType=all_reviews&pageNumber=\",\n\"Pradeep\",\n\"21-Jan-24\",\n\"5.0 out of 5 stars\\nAwesome\",\n{\n            'v': 5,\n            'f': \"5\",\n        },\n\"It is a very good shoe, it is not heavy at all, it is light weight, it does not feel inside the foot, it is light weight.\"],\n [{\n            'v': 6,\n            'f': \"6\",\n        },\n{\n            'v': 7,\n            'f': \"7\",\n        },\n\"Amazon.in:Customer reviews: Puma Mens Coarse Black-White Running Shoe - 7UK (37998602)\",\n\"https://www.amazon.in/Puma-Mens-Coarse-Black-White-Running/product-reviews/B0BVMFX73Q/ref=cm_cr_dp_d_show_all_btm?ie=UTF8&reviewerType=all_reviews&pageNumber=\",\n\"Abhinav Bhutra\",\n\"13-Feb-24\",\n\"5.0 out of 5 stars\\n**Product Review: Average Quality, Highly Priced Shoes**\",\n{\n            'v': 5,\n            'f': \"5\",\n        },\n\"I recently purchased a pair of shoes that were marketed as high-quality, but unfortunately, they fell short of my expectations considering their steep price tag. Here's my honest review:**Quality**: Despite being marketed as high-quality shoes, I found the materials and construction to be rather average. The leather was not as supple or durable as expected, and the stitching seemed prone to fraying over time. While they were not poorly made, they certainly did not justify the premium price.**Comfort**: One would expect shoes in this price range to offer exceptional comfort, but unfortunately, that was not the case. The cushioning was adequate but not outstanding, and I found myself experiencing discomfort after prolonged wear. The lack of adequate arch support also left much to be desired.**Durability**: Given the price point, I expected these shoes to be built to last, but I was disappointed to find signs of wear and tear relatively quickly. The soles showed signs of scuffing and wear after just a few wears, and I'm concerned about their longevity with continued use.**Style**: While the style of these shoes was decent, it was nothing particularly special or unique. They lacked the standout design elements that one might expect from shoes in this price range, making them feel rather underwhelming in terms of aesthetics.**Value**: In terms of value for money, I must say I was disappointed. While these shoes were not of poor quality, they certainly did not live up to the expectations set by their high price. I believe there are better options available at lower price points that offer similar or even better quality and comfort.**Overall, while these shoes were not terrible by any means, I cannot recommend them given their high price and average quality. I believe there are better options available on the market that offer superior comfort, durability, and style at a more reasonable price point.\"],\n [{\n            'v': 7,\n            'f': \"7\",\n        },\n{\n            'v': 8,\n            'f': \"8\",\n        },\n\"Amazon.in:Customer reviews: Puma Mens Alfarun White-Team Royal-Red Sneaker - 9UK (39186301)\",\n\"https://www.amazon.in/Puma-Alfarun-White-Team-Royal-Red-Sneaker/product-reviews/B0BVMG4CDH/ref=cm_cr_dp_d_show_all_btm?ie=UTF8&reviewerType=all_reviews&pageNumber=\",\n\"Ritik roy\",\n\"01-Feb-24\",\n\"5.0 out of 5 stars\\nAt first fit it may would be tight but if you wear it regularly it will give you comfort\",\n{\n            'v': 5,\n            'f': \"5\",\n        },\n\"Very happy and satisfied,value of money clearly visible and i may recommend you to buy this and #puma should make this type of products in future also\\u00e2\\u0080\\u00a6!\"],\n [{\n            'v': 8,\n            'f': \"8\",\n        },\n{\n            'v': 9,\n            'f': \"9\",\n        },\n\"Amazon.in:Customer reviews: Puma Mens Radcliff Black-Black Sneaker - 9 UK (39420502)\",\n\"https://www.amazon.in/Puma-Radcliff-Puma-Black-Running-India-9/product-reviews/B0BG2YMQ6J/ref=cm_cr_dp_d_show_all_btm?ie=UTF8&reviewerType=all_reviews&pageNumber=\",\n\"amit\",\n\"19-Jan-24\",\n\"5.0 out of 5 stars\\nExpensive but worth the money\",\n{\n            'v': 5,\n            'f': \"5\",\n        },\n\"This is the most comfortable sports shoes i have used in my life . Although it is expensive but the quality is really good. I use it in gym regularly and it is very effective , light weight but strong . And it also looks good with Jeans.\"],\n [{\n            'v': 9,\n            'f': \"9\",\n        },\n{\n            'v': 10,\n            'f': \"10\",\n        },\n\"Amazon.in:Customer reviews: Puma Mens Voltige Cool Dark Gray-Black-Feather Gray Sneaker - 9 UK (39810001)\",\n\"https://www.amazon.in/Puma-Mens-Voltige-Gray-Black-Feather-Sneaker/product-reviews/B0CKYVTTJX/ref=cm_cr_dp_d_show_all_btm?ie=UTF8&reviewerType=all_reviews&pageNumber=\",\n\"Naveen k.\",\n\"19-Jan-24\",\n\"5.0 out of 5 stars\\nBest purchase\",\n{\n            'v': 5,\n            'f': \"5\",\n        },\n\"One of the best sneaker in Puma store very light weight and very comfortable for long time use\"],\n [{\n            'v': 10,\n            'f': \"10\",\n        },\n{\n            'v': 11,\n            'f': \"11\",\n        },\n\"Amazon.in:Customer reviews: Puma Unisex-Adult Wired Rapid Black-Asphalt Sneaker, 9 UK (38588101)\",\n\"https://www.amazon.in/Puma-Unisex-Adult-Black-Asphalt-Sneaker-38588101/product-reviews/B0B87Q84FH/ref=cm_cr_dp_d_show_all_btm?ie=UTF8&reviewerType=all_reviews&pageNumber=\",\n\"biplob p.\",\n\"24-Jan-24\",\n\"5.0 out of 5 stars\\nSimply worth it\",\n{\n            'v': 5,\n            'f': \"5\",\n        },\n\"My size is a tad bit smaller than 7 so puma fits me perfectly...very comfortable shoe and looks premium...I give it a 5 star\"],\n [{\n            'v': 11,\n            'f': \"11\",\n        },\n{\n            'v': 12,\n            'f': \"12\",\n        },\n\"Amazon.in:Customer reviews: Puma mens Snatch V2 Black-White Sneaker - 9 UK (39178301)\",\n\"https://www.amazon.in/Puma-Snatch-Black-Puma-White-Sneaker/product-reviews/B09RG85S4N/ref=cm_cr_dp_d_show_all_btm?ie=UTF8&reviewerType=all_reviews&pageNumber=\",\n\"souhardya\",\n\"11-Nov-23\",\n\"5.0 out of 5 stars\\nGo for it without a second thought..worth it!\",\n{\n            'v': 5,\n            'f': \"5\",\n        },\n\"Product itself is very good as per price, I always wear puma sneakers since 2016 bcuz my budget gor shoes is less than 2000. I would say for this price range a puma shoe is going to stay with you atleast 2 years with regular usage so its stardy enough.Now coming to this product its very well build, the front part has a extra layer of sole. The product itself very light weight, looks sleek and smart , without looking like a chunky brick. The foam is so comfortable and breathability is nice , no smell from foot after prolonged usage.pasting and steaching is also nice and finishing is so well.Dis: people calling it second copy of original personally I dont think so it looks original.so don't worry.Just go for it.\"],\n [{\n            'v': 12,\n            'f': \"12\",\n        },\n{\n            'v': 13,\n            'f': \"13\",\n        },\n\"Amazon.in:Customer reviews: Puma Unisex-Adult SF Drift Cat 5 Ultra II Black-White Sneaker - 8 UK (30642203)\",\n\"https://www.amazon.in/Puma-Unisex-Adult-Sneakers-8-30642203/product-reviews/B07QJPLWGZ/ref=cm_cr_dp_d_show_all_btm?ie=UTF8&reviewerType=all_reviews&pageNumber=\",\n\"Pranal Khyade\",\n\"04-Sep-23\",\n\"5.0 out of 5 stars\\nTop notch quality\",\n{\n            'v': 5,\n            'f': \"5\",\n        },\n\"Top class quality and comfort but there are issues with the size there are no bigger sizes available if thinking to buy a greater size than the actual size of ur foot\"],\n [{\n            'v': 13,\n            'f': \"13\",\n        },\n{\n            'v': 14,\n            'f': \"14\",\n        },\n\"Amazon.in:Customer reviews: Puma Unisex-Adult Retaliate 2 Black Running Shoe - 9 UK (37667644)\",\n\"https://www.amazon.in/Puma-Unisex-Adult-Retaliate-Black-Running/product-reviews/B0CKYRLZTC/ref=cm_cr_dp_d_show_all_btm?ie=UTF8&reviewerType=all_reviews&pageNumber=\",\n\"Sukeerth\",\n\"14-Feb-24\",\n\"5.0 out of 5 stars\\nExcellent shoe\",\n{\n            'v': 5,\n            'f': \"5\",\n        },\n\"Loved it\"],\n [{\n            'v': 14,\n            'f': \"14\",\n        },\n{\n            'v': 15,\n            'f': \"15\",\n        },\n\"Amazon.in:Customer reviews: Puma Men's Knit Slip on Idp Black-Silver Sneaker-8 UK (37545503)\",\n\"https://www.amazon.in/PUMA-Mens-Black-Silver-Sneaker-4063696115997/product-reviews/B084HZP2Y8/ref=cm_cr_dp_d_show_all_btm?ie=UTF8&reviewerType=all_reviews&pageNumber=\",\n\"AS Kandhari\",\n\"27-Dec-22\",\n\"5.0 out of 5 stars\\nGood Shoes\",\n{\n            'v': 5,\n            'f': \"5\",\n        },\n\"Fits well and are comfortable shoes. The first day they appear a little tight but as you wear them they open up and fit well. Good value for money.\"],\n [{\n            'v': 15,\n            'f': \"15\",\n        },\n{\n            'v': 16,\n            'f': \"16\",\n        },\n\"Amazon.in:Customer reviews: Puma Men's Black Radcliff VI Sports Shoe UK/India- 8\",\n\"https://www.amazon.in/Puma-Black-Radcliff-Sports-India/product-reviews/B0CN3FRH6D/ref=cm_cr_dp_d_show_all_btm?ie=UTF8&reviewerType=all_reviews&pageNumber=\",\n\"KS\",\n\"29-Jan-24\",\n\"5.0 out of 5 stars\\nGood\",\n{\n            'v': 5,\n            'f': \"5\",\n        },\n\"Good buy for my school going girls\"],\n [{\n            'v': 16,\n            'f': \"16\",\n        },\n{\n            'v': 17,\n            'f': \"17\",\n        },\n\"Amazon.in:Customer reviews: Puma unisex-adult COMET 2 ALT Beta Black Running Shoe - 9 UK (19510902)\",\n\"https://www.amazon.in/Puma-unisex-adult-COMET-Black-Running/product-reviews/B088RK457Y/ref=cm_cr_dp_d_show_all_btm?ie=UTF8&reviewerType=all_reviews&pageNumber=\",\n\"vishal sarkar\",\n\"06-Aug-23\",\n\"5.0 out of 5 stars\\nlooks good.\",\n{\n            'v': 5,\n            'f': \"5\",\n        },\n\"These shoes are stylish, comfortable, and provide excellent support during workouts. With their lightweight design and cushioned sole, they make each stride feel effortless. Whether you're a seasoned runner or just starting, these Puma shoes are a reliable companion for your fitness journey. \\u00f0\\u009f\\u0091\\u008c\"],\n [{\n            'v': 17,\n            'f': \"17\",\n        },\n{\n            'v': 18,\n            'f': \"18\",\n        },\n\"Amazon.in:Customer reviews: Puma Mens Neofuse Cool Mid Gray-White-Pumpkin Pie Sneaker - 10 UK (39810303)\",\n\"https://www.amazon.in/Puma-Mens-Neofuse-Gray-White-Pumpkin-Sneaker/product-reviews/B0CKYVPPMM/ref=cm_cr_dp_d_show_all_btm?ie=UTF8&reviewerType=all_reviews&pageNumber=\",\n\"Pradip Debnath\",\n\"10-Feb-24\",\n\"5.0 out of 5 stars\\nGood product beyond the expectations\",\n{\n            'v': 5,\n            'f': \"5\",\n        },\n\"Product is Light weight and nice fit. I am fully satisfied.\"],\n [{\n            'v': 18,\n            'f': \"18\",\n        },\n{\n            'v': 19,\n            'f': \"19\",\n        },\n\"Amazon.in:Customer reviews: Puma Unisex Adult NRGY Comet Black-Ultra Gray-Dark Shadow Running Shoe-9 Kids UK (19055638)\",\n\"https://www.amazon.in/Unisexs-Black-Ultra-Gray-Dark-Walking-19055638/product-reviews/B08D984GTP/ref=cm_cr_dp_d_show_all_btm?ie=UTF8&reviewerType=all_reviews&pageNumber=\",\n\"prasad\",\n\"07-Jul-22\",\n\"5.0 out of 5 stars\\nAwesome\",\n{\n            'v': 5,\n            'f': \"5\",\n        },\n\"The media could not be loaded.\"],\n [{\n            'v': 19,\n            'f': \"19\",\n        },\n{\n            'v': 20,\n            'f': \"20\",\n        },\n\"Amazon.in:Customer reviews: Puma Mens Robust V2 Ultra Gray-Yellow Alert Running Shoe - 8UK (37997903)\",\n\"https://www.amazon.in/Puma-Robust-Ultra-Gray-Yellow-Running/product-reviews/B0BVMDXVKM/ref=cm_cr_dp_d_show_all_btm?ie=UTF8&reviewerType=all_reviews&pageNumber=\",\n\"Hinglaj Dan\",\n\"29-Dec-23\",\n\"5.0 out of 5 stars\\nAwesome shoes\",\n{\n            'v': 5,\n            'f': \"5\",\n        },\n\"I got it before the delivery date,  very comfortable and good quality shoes. Like it :-)\"],\n [{\n            'v': 20,\n            'f': \"20\",\n        },\n{\n            'v': 21,\n            'f': \"21\",\n        },\n\"Amazon.in:Customer reviews: Puma Mens Fierce Runner Persian Blue-White Running Shoe - 9 UK (31075203)\",\n\"https://www.amazon.in/Puma-Fierce-Persian-Blue-White-Running/product-reviews/B0CPF1TYFT/ref=cm_cr_dp_d_show_all_btm?ie=UTF8&reviewerType=all_reviews&pageNumber=\",\n\"Amazon Customer\",\n\"28-Feb-24\",\n\"5.0 out of 5 stars\\nComfortable and flexible\\u00f0\\u009f\\u0091\\u008d\",\n{\n            'v': 5,\n            'f': \"5\",\n        },\n\"Light weight and looking nice\"],\n [{\n            'v': 21,\n            'f': \"21\",\n        },\n{\n            'v': 22,\n            'f': \"22\",\n        },\n\"Amazon.in:Customer reviews: Puma Unisex Adult Aviator Peacoat-Future Blue Running Shoes-9 Kids UK (19517502)\",\n\"https://www.amazon.in/Puma-Unisex-Aviator-Running-Peacoat-Future/product-reviews/B08MQRBW62/ref=cm_cr_dp_d_show_all_btm?ie=UTF8&reviewerType=all_reviews&pageNumber=\",\n\"Avik Garain\",\n\"20-Nov-23\",\n\"5.0 out of 5 stars\\nAwesome for running\",\n{\n            'v': 5,\n            'f': \"5\",\n        },\n\"I completed a mile run within 6 mins during my physical test in SSC CPO. The soft cushioned sole and feathery fit of the textile upper really helps you while running, especially on asphalt, where it absorbes excess shock but still provides a good energy return. Night and day difference between running in a dedicated running shoe and a normal sports shoe(even from nike/adidas/puma).\"],\n [{\n            'v': 22,\n            'f': \"22\",\n        },\n{\n            'v': 23,\n            'f': \"23\",\n        },\n\"Amazon.in:Customer reviews: Puma Unisex-Adult Vellfire Blue Wash-Lake Blue-Parisian Night Walking Shoe - 8 UK (38879202)\",\n\"https://www.amazon.in/Puma-Unisex-Adult-Vellfire-Wash-Lake-Blue-Parisian/product-reviews/B0B8DN146N/ref=cm_cr_dp_d_show_all_btm?ie=UTF8&reviewerType=all_reviews&pageNumber=\",\n\"JOSHI MAHENDRAKUMAR\",\n\"20-Feb-24\",\n\"5.0 out of 5 stars\\nGOOD\",\n{\n            'v': 5,\n            'f': \"5\",\n        },\n\"Good\"],\n [{\n            'v': 23,\n            'f': \"23\",\n        },\n{\n            'v': 24,\n            'f': \"24\",\n        },\n\"Amazon.in:Customer reviews: Puma mens Draco Black-Silver Sneaker - 7 UK (36853501)\",\n\"https://www.amazon.in/Puma-Black-Silver-Sandals-7-4060979211858/product-reviews/B07FNYG6DZ/ref=cm_cr_dp_d_show_all_btm?ie=UTF8&reviewerType=all_reviews&pageNumber=\",\n\"Snehangshu b.\",\n\"06-Dec-23\",\n\"5.0 out of 5 stars\\nNice product\",\n{\n            'v': 5,\n            'f': \"5\",\n        },\n\"Very comfortable and light weight, very nice,\"],\n [{\n            'v': 24,\n            'f': \"24\",\n        },\n{\n            'v': 25,\n            'f': \"25\",\n        },\n\"Amazon.in:Customer reviews: Puma Mens Cricket Classicat Metallic Gold-Silver-White-Team Gold Cricket Shoe - 6UK (10780701)\",\n\"https://www.amazon.in/Puma-Cricket-Classicat-Metallic-Gold-Silver-White-Team/product-reviews/B0BVMFXMBV/ref=cm_cr_dp_d_show_all_btm?ie=UTF8&reviewerType=all_reviews&pageNumber=\",\n\"Bad quality. Does't work\",\n\"13-Feb-24\",\n\"5.0 out of 5 stars\\nPuma\",\n{\n            'v': 5,\n            'f': \"5\",\n        },\n\"Good making\"],\n [{\n            'v': 25,\n            'f': \"25\",\n        },\n{\n            'v': 26,\n            'f': \"26\",\n        },\n\"Amazon.in:Customer reviews: Puma Mens Softride Rift Slip-On Bold Black-White Walking Shoe - 8 UK (19451401)\",\n\"https://www.amazon.in/Puma-Softride-Slip-Running-19451401/product-reviews/B08SJX5M28/ref=cm_cr_dp_d_show_all_btm?ie=UTF8&reviewerType=all_reviews&pageNumber=\",\n\"Nitish\",\n\"27-Aug-23\",\n\"5.0 out of 5 stars\\nA Deep Dive into the Intricate Details of the Puma Men's Softride Rift Slip-on Bold Running Shoes\",\n{\n            'v': 5,\n            'f': \"5\",\n        },\n\"Introduction:In the realm of running shoes, the Puma Men's Softride Rift Slip-on Bold emerges as a technological marvel, boasting a plethora of intricate features that cater to the needs of even the most discerning runners and technology enthusiasts. From its innovative design to its advanced cushioning technology, this running shoe stands as a testament to Puma's commitment to merging style and performance. In this comprehensive review, we will dissect every minute detail of the Puma Men's Softride Rift Slip-on Bold, exploring its construction, materials, comfort, support, and overall performance, all while celebrating the marriage of aesthetics and engineering that defines this exceptional running shoe.1. Design and Aesthetics:The Puma Men's Softride Rift Slip-on Bold Running Shoes command attention with their sleek and futuristic design. The slip-on construction offers a streamlined appearance while providing convenience for runners. The intricate interplay of textures, from the mesh upper with bold Puma branding to the contrasting midsole and outsole, showcases a meticulous attention to detail. The shoe's asymmetrical design not only creates a unique visual identity but also contributes to the overall fit and feel.2. Upper Construction and Materials:The upper of the Softride Rift Slip-on Bold is crafted from a breathable mesh material that not only enhances ventilation but also aids in moisture management during prolonged runs. The mesh is reinforced with synthetic overlays strategically placed to offer structural integrity and support. These overlays also contribute to the shoe's distinctive aesthetics. The elastic band across the midfoot not only adds to the futuristic design but also ensures a snug fit for various foot shapes.3. Slip-on Mechanism:The slip-on design of the shoe introduces an element of convenience that modern runners can appreciate. The absence of traditional laces eliminates the need for time-consuming adjustments, making the shoe an ideal choice for those seeking a hassle-free running experience. The elastic band and heel tab facilitate easy entry and exit while ensuring a secure fit. This innovative design approach aligns with contemporary preferences for both style and functionality.4. Cushioning Technology:One of the standout features of the Puma Men's Softride Rift Slip-on Bold Running Shoes is the advanced cushioning technology embedded within the midsole. The Softride foam technology is strategically engineered to provide a responsive yet cushioned ride. This intricate foam composition not only absorbs impact forces during each stride but also enhances energy return, translating into an efficient and comfortable running experience. The foam's density is calibrated to strike a balance between plush comfort and the responsiveness needed for optimal performance.5. Midsole and Outsole Construction:The midsole and outsole of the Softride Rift Slip-on Bold showcase an intricate pattern that reflects Puma's commitment to maximizing grip and traction. The multi-dimensional tread pattern is engineered to provide reliable traction on a variety of surfaces, offering runners the confidence to tackle various terrains. The integration of flex grooves enhances the shoe's flexibility and adaptability to the runner's gait, thereby minimizing the risk of discomfort and fatigue during extended runs.6. Comfort and Fit:Puma's attention to comfort is evident throughout the design of the shoe. The slip-on design, along with the elastic band and padded collar, ensures a secure yet adaptive fit. The use of lightweight materials contributes to a feeling of weightlessness during runs, reducing the impact of fatigue on the runner. The cushioning system's ability to conform to the contours of the foot translates into a personalized and snug experience, minimizing the risk of discomfort and blisters.7. Breathability:Breathability is a crucial factor in any running shoe, and the Softride Rift Slip-on Bold does not disappoint. The mesh upper's strategic construction encourages air circulation, preventing excessive heat buildup within the shoe. This feature is especially beneficial for long-distance runners and those navigating challenging weather conditions. The combination of breathability and moisture-wicking properties maintains a dry and comfortable environment for the foot throughout the run.8. Support and Stability:While the slip-on design might raise questions about the shoe's support and stability, Puma has skillfully addressed these concerns through a combination of design and technology. The synthetic overlays and elastic band work together to secure the midfoot and prevent lateral movement. The cushioning system, particularly in the heel and arch areas, enhances shock absorption and reduces the risk of instability. Additionally, the tread pattern of the outsole contributes to the shoe's overall stability, particularly during quick direction changes.9. Performance in Real-world Scenarios:Putting the Puma Men's Softride Rift Slip-on Bold Running Shoes to the test on various terrains and distances demonstrates their versatility and reliability. The cushioning technology's responsiveness provides an extra spring in the step during sprints, while its ability to absorb impact minimizes fatigue during longer runs. The shoe's traction and stability make it suitable for both road and light trail running, ensuring that runners can confidently conquer diverse environments.Conclusion:In the Puma Men's Softride Rift Slip-on Bold Running Shoes, we find an exemplar of meticulous design, innovative technology, and comfort-driven engineering. From the futuristic slip-on design to the advanced Softride foam cushioning, every detail is an embodiment of Puma's dedication to enhancing the running experience. The integration of aesthetics and functionality makes these shoes a standout choice for technology enthusiasts and serious runners alike. As we conclude this comprehensive review, it is evident that the Puma Men's Softride Rift Slip-on Bold Running Shoes have set a new benchmark for running footwear, seamlessly merging intricate details with exceptional performance.\"],\n [{\n            'v': 26,\n            'f': \"26\",\n        },\n{\n            'v': 27,\n            'f': \"27\",\n        },\n\"Amazon.in:Customer reviews: Puma Unisex-Adult Resolve Modern Weave Bold Blue-Black Running Shoe - 11 UK (37799406)\",\n\"https://www.amazon.in/Puma-Unisex-Adult-Resolve-Blue-Black-Running/product-reviews/B0CKYRJYL3/ref=cm_cr_dp_d_show_all_btm?ie=UTF8&reviewerType=all_reviews&pageNumber=\",\n\"Vikash Meena\",\n\"10-Apr-23\",\n\"3.0 out of 5 stars\\nDifferent Colour\",\n{\n            'v': 3,\n            'f': \"3\",\n        },\n\"The media could not be loaded.\\n                \\nNot doubt Shoues Quality Superb and all original Shoues I\\u00e2\\u0080\\u0099ts all so very comfortable, But Problem is Colour i order White Sole Shoues But Saller send me all Black, Otherwise no problem\"],\n [{\n            'v': 27,\n            'f': \"27\",\n        },\n{\n            'v': 28,\n            'f': \"28\",\n        },\n\"Amazon.in:Customer reviews: Puma Mens Scorch Mark Slip On Black-White-Cool Dark Gray Running Shoe - 8UK (37998701)\",\n\"https://www.amazon.in/Puma-Mens-Scorch-Black-White-Cool-Running/product-reviews/B0BVMGGGGS/ref=cm_cr_dp_d_show_all_btm?ie=UTF8&reviewerType=all_reviews&pageNumber=\",\n\"Shankar\",\n\"20-Feb-24\",\n\"5.0 out of 5 stars\\nNice shoes.\",\n{\n            'v': 5,\n            'f': \"5\",\n        },\n\"Very comfortable and easy to wear and remove, maybe for workout or to socialise. Good one\"],\n [{\n            'v': 28,\n            'f': \"28\",\n        },\n{\n            'v': 29,\n            'f': \"29\",\n        },\n\"Amazon.in:Customer reviews: Puma unisex-adult ST Activate Peacoat-Puma White Sneaker - 8 UK (36912203)\",\n\"https://www.amazon.in/Puma-Activate-Peacoat-Running-36912203_8/product-reviews/B07MBQNPWX/ref=cm_cr_dp_d_show_all_btm?ie=UTF8&reviewerType=all_reviews&pageNumber=\",\n\"Sonakshi sethi\",\n\"22-Aug-23\",\n\"5.0 out of 5 stars\\nComfortable\",\n{\n            'v': 5,\n            'f': \"5\",\n        },\n\"Very comfortable and good quality\"],\n [{\n            'v': 29,\n            'f': \"29\",\n        },\n{\n            'v': 30,\n            'f': \"30\",\n        },\n\"Amazon.in:Customer reviews: Puma Unisex R78 SL White White Sneaker 37412702 9UK\",\n\"https://www.amazon.in/Puma-Mens-PUMA-White-White-Closed/product-reviews/B081QN6Y5X/ref=cm_cr_dp_d_show_all_btm?ie=UTF8&reviewerType=all_reviews&pageNumber=\",\n\"Bharat Chavan\",\n\"07-Apr-23\",\n\"5.0 out of 5 stars\\nGood investment\",\n{\n            'v': 5,\n            'f': \"5\",\n        },\n\"I\\u00e2\\u0080\\u0099ve been wearing this on a daily basis for over 6 months now and the product quality is actually nice. I\\u00e2\\u0080\\u0099ve seen people buy other products from same brand that get worn off but this pair that I bought didn\\u00e2\\u0080\\u0099t disappoint. And I like the solid black colour of it.\"],\n [{\n            'v': 30,\n            'f': \"30\",\n        },\n{\n            'v': 31,\n            'f': \"31\",\n        },\n\"Amazon.in:Customer reviews: Puma Mens Flyer Runner Engineered Knit White-Cool Mid Gray-Black Running Shoe - 10UK (37999301)\",\n\"https://www.amazon.in/Puma-Engineered-White-Cool-Gray-Black-Running/product-reviews/B0BVMFPK7Y/ref=cm_cr_dp_d_show_all_btm?ie=UTF8&reviewerType=all_reviews&pageNumber=\",\n\"raja shekar g\",\n\"09-Nov-23\",\n\"5.0 out of 5 stars\\nToo good is also Bad\",\n{\n            'v': 5,\n            'f': \"5\",\n        },\n\"\\\"Thrilled with my new shoes-top-notch style and comfort.Unfortunately, they decided to embark on an unexpected adventure without me.  Someone has stolen my shoes  before even I wear it on \\u00f0\\u009f\\u0098\\u0094, but I'm on the lookout for a replacement pair. 5 stars  for the unexpected twist!\\\"\"],\n [{\n            'v': 31,\n            'f': \"31\",\n        },\n{\n            'v': 32,\n            'f': \"32\",\n        },\n\"Amazon.in:Customer reviews: Puma Mens Cricket HighRun White-Blazing Blue-Fast Yellow Cricket Shoe - 9UK (10780603)\",\n\"https://www.amazon.in/Puma-Cricket-HighRun-White-Blazing-Blue-Fast/product-reviews/B0BVMC8YFM/ref=cm_cr_dp_d_show_all_btm?ie=UTF8&reviewerType=all_reviews&pageNumber=\",\n\"Angshuman Bedajna\",\n\"18-Feb-24\",\n\"5.0 out of 5 stars\\nNeed better sole cushion\",\n{\n            'v': 5,\n            'f': \"5\",\n        },\n\"Sole is too Hard\"],\n [{\n            'v': 32,\n            'f': \"32\",\n        },\n{\n            'v': 33,\n            'f': \"33\",\n        },\n\"Amazon.in:Customer reviews: Puma Women's Enzo 2 Metal WN's Black-Gold Running Shoe-6 Kids UK (19325701)\",\n\"https://www.amazon.in/Womens-Metal-Black-Gold-Running-19325701/product-reviews/B083RL4Q5J/ref=cm_cr_dp_d_show_all_btm?ie=UTF8&reviewerType=all_reviews&pageNumber=\",\n\"Miza\",\n\"28-Jan-24\",\n\"5.0 out of 5 stars\\nWorth it\",\n{\n            'v': 5,\n            'f': \"5\",\n        },\n\"Super soft sole. It's been over a year and they still look so good even after using them regularly. Totally worth every penny.\"],\n [{\n            'v': 33,\n            'f': \"33\",\n        },\n{\n            'v': 34,\n            'f': \"34\",\n        },\n\"Amazon.in:Customer reviews: Puma Unisex-Adult Rider FV Future Vintage Ash Gray-for All Time Red Sneaker - 9 UK (38767232)\",\n\"https://www.amazon.in/Puma-Unisex-Adult-Future-Vintage-Sneaker/product-reviews/B0CBPZ1K39/ref=cm_cr_dp_d_show_all_btm?ie=UTF8&reviewerType=all_reviews&pageNumber=\",\n\"Vipin p.\",\n\"10-Dec-23\",\n\"5.0 out of 5 stars\\nComfortable and good looking\",\n{\n            'v': 5,\n            'f': \"5\",\n        },\n\"Only down side is it has suede maybe it's a good material but it's still comes from animals also we can't use this shoe in rain or water because of that.Even then this is one of the best shoe\\u00f0\\u009f\\u0099\\u0082\"],\n [{\n            'v': 34,\n            'f': \"34\",\n        },\n{\n            'v': 35,\n            'f': \"35\",\n        },\n\"Amazon.in:Customer reviews: Puma Mens Amaze Runner White-Apricot-Asphalt Sneaker - 7UK (38870302)\",\n\"https://www.amazon.in/Puma-Amaze-Runner-White-Apricot-Asphalt-Sneaker/product-reviews/B0BQBTR48C/ref=cm_cr_dp_d_show_all_btm?ie=UTF8&reviewerType=all_reviews&pageNumber=\",\n\"Placeholder\",\n\"23-Nov-23\",\n\"1.0 out of 5 stars\\nLooks like PT shoes\",\n{\n            'v': 1,\n            'f': \"1\",\n        },\n\"Not looks good in real\"],\n [{\n            'v': 35,\n            'f': \"35\",\n        },\n{\n            'v': 36,\n            'f': \"36\",\n        },\n\"Amazon.in:Customer reviews: Puma Unisex Adult Ferrari Future Cat Ultra Shoes Black White Closed 7 UK (40.5 EU) (8 US) (30624102)\",\n\"https://www.amazon.in/Puma-SF-Future-Cat-Ultra/product-reviews/B07DCBC2YX/ref=cm_cr_dp_d_show_all_btm?ie=UTF8&reviewerType=all_reviews&pageNumber=\",\n\"Prathmesh H\",\n\"26-May-20\",\n\"5.0 out of 5 stars\\nMust buy if you are Ferrari fan.\",\n{\n            'v': 5,\n            'f': \"5\",\n        },\n\"This are the best andost expensive pair of shoes i have ever ordered in my life.  Wanted to add this shoes in my collection.  Material, fit, finish is top notch.  They looks sexy and yes they are RED\\u00f0\\u009f\\u0098\\u008d.  Recommended to get them if you are automobile enthusiastic.\"],\n [{\n            'v': 36,\n            'f': \"36\",\n        },\n{\n            'v': 37,\n            'f': \"37\",\n        },\n\"Amazon.in:Customer reviews: Puma Mens Jetfly Ash Gray-Shadow Gray-Pele Yellow Sneaker - 11 UK (39810102)\",\n\"https://www.amazon.in/Puma-Jetfly-Gray-Shadow-Gray-Pele-Sneaker/product-reviews/B0CKYVJ3H4/ref=cm_cr_dp_d_show_all_btm?ie=UTF8&reviewerType=all_reviews&pageNumber=\",\n\"RITUPARNA BEHERA\",\n\"20-Jan-24\",\n\"5.0 out of 5 stars\\nComfortable\",\n{\n            'v': 5,\n            'f': \"5\",\n        },\n\"I liked the colour of the shoe and it's comfort..\"],\n [{\n            'v': 37,\n            'f': \"37\",\n        },\n{\n            'v': 38,\n            'f': \"38\",\n        },\n\"Amazon.in:Customer reviews: Adidas Men Synthetic ENRY Flux M Running Shoe SILGRN/Stone/GRESIX/PREYEL (UK-7)\",\n\"https://www.amazon.in/Adidas-Synthetic-Running-SILGRN-GRESIX/product-reviews/B0C4DLVZY3/ref=cm_cr_dp_d_show_all_btm?ie=UTF8&reviewerType=all_reviews&pageNumber=\",\n\"Neina\",\n\"17-Dec-23\",\n\"5.0 out of 5 stars\\nHappy purchase \\u00f0\\u009f\\u0098\\u008a\",\n{\n            'v': 5,\n            'f': \"5\",\n        },\n\"Bought this for my hubby. He loves it- light weight, snug fit, very comfortable \\u00f0\\u009f\\u0091\\u008d\\u00f0\\u009f\\u0091\\u008d\"],\n [{\n            'v': 38,\n            'f': \"38\",\n        },\n{\n            'v': 39,\n            'f': \"39\",\n        },\n\"Amazon.in:Customer reviews: Adidas Men Synthetic RayRun M Running Shoe BLUOXI/GRESIX/SEIMOR (UK-10)\",\n\"https://www.amazon.in/Adidas-Synthetic-RayRun-Running-BLUOXI/product-reviews/B0C4DMDG1S/ref=cm_cr_dp_d_show_all_btm?ie=UTF8&reviewerType=all_reviews&pageNumber=\",\n\"Gautam Adhikari\",\n\"22-Oct-23\",\n\"5.0 out of 5 stars\\nWell Styled. Comfortable. Good shoes at such affordable price.\",\n{\n            'v': 5,\n            'f': \"5\",\n        },\n\"Well Styled. Comfortable. Good shoes at such affordable price.\"],\n [{\n            'v': 39,\n            'f': \"39\",\n        },\n{\n            'v': 40,\n            'f': \"40\",\n        },\n\"Amazon.in:Customer reviews: Adidas mens Clinch-X M CBLACK/FTWWHT Sneaker - 9 UK (EW2465)\",\n\"https://www.amazon.in/Adidas-Mens-Clinch-X-Running-Black/product-reviews/B08FZS992L/ref=cm_cr_dp_d_show_all_btm?ie=UTF8&reviewerType=all_reviews&pageNumber=\",\n\"Very comfortable one.\",\n\"27-Feb-24\",\n\"5.0 out of 5 stars\\nVery comfortable\",\n{\n            'v': 5,\n            'f': \"5\",\n        },\n\"Nice one.\"],\n [{\n            'v': 40,\n            'f': \"40\",\n        },\n{\n            'v': 41,\n            'f': \"41\",\n        },\n\"Amazon.in:Customer reviews: Adidas Mens Drogo M CBLACK/FTWWHT Running Shoe - 9 UK (CK9521_8)\",\n\"https://www.amazon.in/Adidas-CBLACK-Running-Shoes-9-CL4154_9/product-reviews/B07M8S2BQX/ref=cm_cr_dp_d_show_all_btm?ie=UTF8&reviewerType=all_reviews&pageNumber=\",\n\"LS\",\n\"17-Feb-24\",\n\"5.0 out of 5 stars\\nVery good shoes for gym\",\n{\n            'v': 5,\n            'f': \"5\",\n        },\n\"Perfect fit, lightweight and soft!\"],\n [{\n            'v': 41,\n            'f': \"41\",\n        },\n{\n            'v': 42,\n            'f': \"42\",\n        },\n\"Amazon.in:Customer reviews: Adidas Mens Throb M BLUNIT/ACTTEA Running Shoe - 7 UK (CM4884)\",\n\"https://www.amazon.in/Adidas-Active-Running-Shoes-7-CM4884/product-reviews/B082QB9XYJ/ref=cm_cr_dp_d_show_all_btm?ie=UTF8&reviewerType=all_reviews&pageNumber=\",\n\"Pravu mishra\",\n\"15-Sep-23\",\n\"5.0 out of 5 stars\\nNice product\",\n{\n            'v': 5,\n            'f': \"5\",\n        },\n\"Nice product\"],\n [{\n            'v': 42,\n            'f': \"42\",\n        },\n{\n            'v': 43,\n            'f': \"43\",\n        },\n\"Amazon.in:Customer reviews: Adidas Mens Astoundrun M ARCNGT/Stone/CBLACK/PREYEL Running Shoe - 11 UK (IQ8852)\",\n\"https://www.amazon.in/Adidas-Astoundrun-ARCNGT-CBLACK-Running/product-reviews/B0C4DQV9KL/ref=cm_cr_dp_d_show_all_btm?ie=UTF8&reviewerType=all_reviews&pageNumber=\",\n\"Abi Ramachandran\",\n\"09-Jan-24\",\n\"5.0 out of 5 stars\\nAmazing Product\",\n{\n            'v': 5,\n            'f': \"5\",\n        },\n\"This is perfect one for running and to be used with casual wear.. Comfortable design.\"],\n [{\n            'v': 43,\n            'f': \"43\",\n        },\n{\n            'v': 44,\n            'f': \"44\",\n        },\n\"Amazon.in:Customer reviews: Adidas Men Synthetic Alphabounce + Running Shoe CBLACK/Carbon/Carbon (UK-8)\",\n\"https://www.amazon.in/Adidas-Synthetic-Alphabounce-Running-Shoes/product-reviews/B0BJL5HZRW/ref=cm_cr_dp_d_show_all_btm?ie=UTF8&reviewerType=all_reviews&pageNumber=\",\n\"Ashish\",\n\"20-Apr-23\",\n\"5.0 out of 5 stars\\nComfortable Shoes\",\n{\n            'v': 5,\n            'f': \"5\",\n        },\n\"Loved it..The comfort it gives is amazing \\u00f0\\u009f\\u00a4\\u00a9Just Finishing need to improved, glues are visible at the edges\"],\n [{\n            'v': 44,\n            'f': \"44\",\n        },\n{\n            'v': 45,\n            'f': \"45\",\n        },\n\"Amazon.in:Customer reviews: Adidas mens Fluidglow M STONE/FTWWHT/ACIMIN/DOVGRY Sneaker - 10 UK (EX2099)\",\n\"https://www.amazon.in/Adidas-Stone-Ftwwht-Acimin-Running/product-reviews/B0928MZL9R/ref=cm_cr_dp_d_show_all_btm?ie=UTF8&reviewerType=all_reviews&pageNumber=\",\n\"Sakshie tripathi\",\n\"09-Jan-24\",\n\"5.0 out of 5 stars\\nVery nice shoes at this price\",\n{\n            'v': 5,\n            'f': \"5\",\n        },\n\"Looks elegant..and comfortable\"],\n [{\n            'v': 45,\n            'f': \"45\",\n        },\n{\n            'v': 46,\n            'f': \"46\",\n        },\n\"Amazon.in:Customer reviews: Adidas Men Textile Beastmode M, Running Shoes, White, UK-8\",\n\"https://www.amazon.in/Adidas-Textile-Beastmode-Running-Shoes/product-reviews/B0CPVMHZXZ/ref=cm_cr_dp_d_show_all_btm?ie=UTF8&reviewerType=all_reviews&pageNumber=\",\n\"Satish\",\n\"03-Feb-24\",\n\"4.0 out of 5 stars\\nIt's first copy.\",\n{\n            'v': 4,\n            'f': \"4\",\n        },\n\"Comfort wise it's ok ok, look wise cool, but it's not OG product.\"],\n [{\n            'v': 46,\n            'f': \"46\",\n        },\n{\n            'v': 47,\n            'f': \"47\",\n        },\n\"Amazon.in:Customer reviews: Adidas Men's Synthetic Shereton M Teconi/Wonwhi Running Shoes - 8 UK, Multi\",\n\"https://www.amazon.in/Adidas-Synthetic-Shereton-Teconi-Running/product-reviews/B094P3XJZG/ref=cm_cr_dp_d_show_all_btm?ie=UTF8&reviewerType=all_reviews&pageNumber=\",\n\"Amruta Auti\",\n\"18-Jan-24\",\n\"5.0 out of 5 stars\\nGood Product\",\n{\n            'v': 5,\n            'f': \"5\",\n        },\n\"This is light weight and good product. Worth it for money.\"],\n [{\n            'v': 47,\n            'f': \"47\",\n        },\n{\n            'v': 48,\n            'f': \"48\",\n        },\n\"Amazon.in:Customer reviews: Adidas Men Mesh Racard M Running Shoe CBLACK/FTWWHT/HALGOL (UK-11)\",\n\"https://www.amazon.in/Adidas-Mens-Racard-Running-Black/product-reviews/B08TMGY645/ref=cm_cr_dp_d_show_all_btm?ie=UTF8&reviewerType=all_reviews&pageNumber=\",\n\"ViKas r.\",\n\"25-Feb-24\",\n\"5.0 out of 5 stars\\nNice\",\n{\n            'v': 5,\n            'f': \"5\",\n        },\n\"Amazing shoes \\u00f0\\u009f\\u0098\\u0084This is a nice shoes for runningAnd daily use\"],\n [{\n            'v': 48,\n            'f': \"48\",\n        },\n{\n            'v': 49,\n            'f': \"49\",\n        },\n\"Amazon.in:Customer reviews: Adidas Mens GlintRun M Shoes, Grey, 9 UK\",\n\"https://www.amazon.in/Adidas-Synthetic-GlintRun-Running-Shoes/product-reviews/B0BJL5H28M/ref=cm_cr_dp_d_show_all_btm?ie=UTF8&reviewerType=all_reviews&pageNumber=\",\n\"Good\",\n\"16-Jan-24\",\n\"5.0 out of 5 stars\\n\\u00e2\\u0098\\u00ba\",\n{\n            'v': 5,\n            'f': \"5\",\n        },\n\"Good product\"],\n [{\n            'v': 49,\n            'f': \"49\",\n        },\n{\n            'v': 50,\n            'f': \"50\",\n        },\n\"Amazon.in:Customer reviews: Adidas Vs Pace 2.0 Men Casual Sneakers CBLACK/CBLACK/CBLACK\",\n\"https://www.amazon.in/Adidas-Synthetic-Skateboarding-Shoes-Black/product-reviews/B0BJL2RY5F/ref=cm_cr_dp_d_show_all_btm?ie=UTF8&reviewerType=all_reviews&pageNumber=\",\n\"Mahadev Kulkarni\",\n\"16-Oct-23\",\n\"5.0 out of 5 stars\\nGood ones, reasonable\",\n{\n            'v': 5,\n            'f': \"5\",\n        },\n\"Original, stylish n high quality shoes. My son loving them as they are comfortable. Thanks Amazon...\\u00f0\\u009f\\u0091\\u008d\"],\n [{\n            'v': 50,\n            'f': \"50\",\n        },\n{\n            'v': 51,\n            'f': \"51\",\n        },\n\"Amazon.in:Customer reviews: Adidas Men Synthetic Courun avnt M, Running Shoes, FTWWHT/PULBLU/SEIMOR, UK-8\",\n\"https://www.amazon.in/Adidas-Synthetic-Courun-Avant-Running/product-reviews/B0C4DP5HCW/ref=cm_cr_dp_d_show_all_btm?ie=UTF8&reviewerType=all_reviews&pageNumber=\",\n\"Akshay Salgunan\",\n\"06-Sep-23\",\n\"5.0 out of 5 stars\\nAwesome shoe\",\n{\n            'v': 5,\n            'f': \"5\",\n        },\n\"One of the best shoes I've ever owned. It's 100% worth the money on Amazon. The product is not that light weight, but it's not heavy as NB shoes. The grip of the shoe is good. I liked the fit of the product, has average cushioning but has good comfort.Apart from the product, the packaging is average. Doesn't had an Amazon packing, but the box was not much damaged.If you want an expensive looking shoe with sturdy and sporty look, apart from the normal sport shoe designs, go for it.Adidas has done great work on the design part of the shoe. I really like the product, highly recommended.\"],\n [{\n            'v': 51,\n            'f': \"51\",\n        },\n{\n            'v': 52,\n            'f': \"52\",\n        },\n\"Amazon.in:Customer reviews: Adidas Men Synthetic Cricup 23 Cricket Shoe FTWWHT/CBLACK/PULBLU (UK-9)\",\n\"https://www.amazon.in/Adidas-Synthetic-Cricup-Cricket-FTWWHT/product-reviews/B0C4DNH3DV/ref=cm_cr_dp_d_show_all_btm?ie=UTF8&reviewerType=all_reviews&pageNumber=\",\n\"Rigdhi\",\n\"07-Dec-23\",\n\"5.0 out of 5 stars\\nGreat cricket shoe\",\n{\n            'v': 5,\n            'f': \"5\",\n        },\n\"comfortable, good grip for grass ground...\"],\n [{\n            'v': 52,\n            'f': \"52\",\n        },\n{\n            'v': 53,\n            'f': \"53\",\n        },\n\"Amazon.in:Customer reviews: Adidas Mens Adivat M Conavy/FTWWHT/VIVRED Sneaker - 11 UK (EX2050)\",\n\"https://www.amazon.in/Adidas-Mens-Adivat-Running-Shoe/product-reviews/B08TMHVQR8/ref=cm_cr_dp_d_show_all_btm?ie=UTF8&reviewerType=all_reviews&pageNumber=\",\n\"Saikiran S\",\n\"06-Feb-24\",\n\"5.0 out of 5 stars\\nAdidas Men\\u00e2\\u0080\\u0099s Shoe\",\n{\n            'v': 5,\n            'f': \"5\",\n        },\n\"Good Product\"],\n [{\n            'v': 53,\n            'f': \"53\",\n        },\n{\n            'v': 54,\n            'f': \"54\",\n        },\n\"Amazon.in:Customer reviews: Adidas Mens Harquin M CBLACK/Stone/ACTGOL Sneaker - 8 UK (GA1118)\",\n\"https://www.amazon.in/Adidas-Synthetic-Harquin-Running-CBLACK/product-reviews/B09SF2RFBM/ref=cm_cr_dp_d_show_all_btm?ie=UTF8&reviewerType=all_reviews&pageNumber=\",\n\"Amazon Customer\",\n\"19-Nov-23\",\n\"5.0 out of 5 stars\\nGreat product. Nice look\",\n{\n            'v': 5,\n            'f': \"5\",\n        },\n\"Great shoes at this price range. Good fiting. Its also great for running activities and sports. Nice product. Genuin product.\"],\n [{\n            'v': 54,\n            'f': \"54\",\n        },\n{\n            'v': 55,\n            'f': \"55\",\n        },\n\"Amazon.in:Customer reviews: Adidas Men Synthetic Fluento M Running Shoe ARCNGT/CBLACK/OLDGOL (UK-12)\",\n\"https://www.amazon.in/Adidas-Synthetic-Fluento-Running-ARCNGT/product-reviews/B0C4DN719Y/ref=cm_cr_dp_d_show_all_btm?ie=UTF8&reviewerType=all_reviews&pageNumber=\",\n\"Amazon Customer\",\n\"21-Apr-23\",\n\"5.0 out of 5 stars\\nabsolutely loving loving loving these sneakers !!!\",\n{\n            'v': 5,\n            'f': \"5\",\n        },\n\"absolutely loving these adidas sneakers , fits like a dream , didnt think they wouldk be anywhere near as good at this price range , brilliant brilliant pair of shoes , probably oen of my best purchases on amazon this year since i got a football last week or so .\"],\n [{\n            'v': 55,\n            'f': \"55\",\n        },\n{\n            'v': 56,\n            'f': \"56\",\n        },\n\"Amazon.in:Customer reviews: Adidas Mens Adispree 5.0 M TRAROY/MYSBLU/SILVMT Sneaker - 6 UK (CK9529)\",\n\"https://www.amazon.in/Adidas-Adispree-Running-Shoes-6-CK9529/product-reviews/B07MNZXBNF/ref=cm_cr_dp_d_show_all_btm?ie=UTF8&reviewerType=all_reviews&pageNumber=\",\n\"Pintu\",\n\"01-Feb-24\",\n\"5.0 out of 5 stars\\nThis shoe is very nice and good look\",\n{\n            'v': 5,\n            'f': \"5\",\n        },\n\"This shoe peckag box so good\"],\n [{\n            'v': 56,\n            'f': \"56\",\n        },\n{\n            'v': 57,\n            'f': \"57\",\n        },\n\"Amazon.in:Customer reviews: Adidas Men Synthetic Grand Court Base 2.0 Tennis Shoe CBLACK/FTWWHT/CBLACK (UK-10)\",\n\"https://www.amazon.in/Adidas-Grand-CBLACK-FTWWHT-Sneaker/product-reviews/B09VSZ29M4/ref=cm_cr_dp_d_show_all_btm?ie=UTF8&reviewerType=all_reviews&pageNumber=\",\n\"Jyotimoy Kashyap\",\n\"19-Jul-23\",\n\"5.0 out of 5 stars\\nGreat Shoes Overall\",\n{\n            'v': 5,\n            'f': \"5\",\n        },\n\"The media could not be loaded.\\n                \\nConsidering the price at which I was getting them, I was a little skeptical at first but to my surprise, they turned out to be great. They are well built, fashionable and trendy and comfortable to wear. No regrets buying this product.\"],\n [{\n            'v': 57,\n            'f': \"57\",\n        },\n{\n            'v': 58,\n            'f': \"58\",\n        },\n\"Amazon.in:Customer reviews: Adidas Men Synthetic GauzeWalk M Running Shoe Conavy/WOGOME (UK-9)\",\n\"https://www.amazon.in/Adidas-Synthetic-GauzeWalk-Running-Conavy/product-reviews/B0C4DM81TX/ref=cm_cr_dp_d_show_all_btm?ie=UTF8&reviewerType=all_reviews&pageNumber=\",\n\"Pavan R Chawla\",\n\"19-Dec-23\",\n\"5.0 out of 5 stars\\nExcellent look, fit, making.\",\n{\n            'v': 5,\n            'f': \"5\",\n        },\n\"Very nice and snugly comfortable, as good walking shoes should be.\"],\n [{\n            'v': 58,\n            'f': \"58\",\n        },\n{\n            'v': 59,\n            'f': \"59\",\n        },\n\"Amazon.in:Customer reviews: Adidas Men Synthetic LITE Racer 3.0 Running Shoe CBLACK/FTWWHT/GREFIV (UK-8)\",\n\"https://www.amazon.in/Adidas-Textile-Cblack-Ftwwht-Running/product-reviews/B094QCL15R/ref=cm_cr_dp_d_show_all_btm?ie=UTF8&reviewerType=all_reviews&pageNumber=\",\n\"SOE HTET AUNG\",\n\"04-Feb-24\",\n\"5.0 out of 5 stars\\nExcellent shoes\",\n{\n            'v': 5,\n            'f': \"5\",\n        },\n\"I am really satisfied with this shoe. Beautiful. Nice stitching. Really worth about 2500 INR. After using it for a while, I will write a review again if it is not good. If not, buy it when you need shoes.\"],\n [{\n            'v': 59,\n            'f': \"59\",\n        },\n{\n            'v': 60,\n            'f': \"60\",\n        },\n\"Amazon.in:Customer reviews: Adidas Men Synthetic adimove M Running Shoe WONSTE/NGTSKY/LUCCYA (UK-7)\",\n\"https://www.amazon.in/Adidas-Synthetic-adimove-Running-WONSTE/product-reviews/B0C4DNFBLR/ref=cm_cr_dp_d_show_all_btm?ie=UTF8&reviewerType=all_reviews&pageNumber=\",\n\"Ravi Shankar Bhojak\",\n\"05-Feb-24\",\n\"5.0 out of 5 stars\\nGood quality\",\n{\n            'v': 5,\n            'f': \"5\",\n        },\n\"Good quality and verry comfortable\"],\n [{\n            'v': 60,\n            'f': \"60\",\n        },\n{\n            'v': 61,\n            'f': \"61\",\n        },\n\"Amazon.in:Customer reviews: Adidas Men Textile FLUIDFLOW 3.0 Running Shoe CREBLU/FTWWHT/BRIRED (UK-8)\",\n\"https://www.amazon.in/Adidas-Textile-FLUIDFLOW-Running-CREBLU/product-reviews/B0BZ8C9M1J/ref=cm_cr_dp_d_show_all_btm?ie=UTF8&reviewerType=all_reviews&pageNumber=\",\n\"Gaurav S.\",\n\"26-Jan-24\",\n\"5.0 out of 5 stars\\nDesign\",\n{\n            'v': 5,\n            'f': \"5\",\n        },\n\"I am satisfied with this product. The design fits just right in to my taste. Right weight - not so light and not so heavy to feel the originality of the brand(product). Love Adidas!\"],\n [{\n            'v': 61,\n            'f': \"61\",\n        },\n{\n            'v': 62,\n            'f': \"62\",\n        },\n\"Amazon.in:Customer reviews: Adidas Men Synthetic Walkwagon M Running Shoe Tecind/Stone/Pulblu (UK-9), Multicolor\",\n\"https://www.amazon.in/Adidas-Synthetic-WalkWagon-Running-TECIND/product-reviews/B0C4PT4ML1/ref=cm_cr_dp_d_show_all_btm?ie=UTF8&reviewerType=all_reviews&pageNumber=\",\n\"Fuzail\",\n\"02-Nov-23\",\n\"5.0 out of 5 stars\\nThe best\",\n{\n            'v': 5,\n            'f': \"5\",\n        },\n\"Good comfort, looks amazing and definitely people notice\"],\n [{\n            'v': 62,\n            'f': \"62\",\n        },\n{\n            'v': 63,\n            'f': \"63\",\n        },\n\"Amazon.in:Customer reviews: Adidas Men Mesh QuestIt Mid Outdoor Shoe Black/GRESIX/BLUFUS/Stone (UK-10)\",\n\"https://www.amazon.in/Adidas-QuestIt-Outdoor-GRESIX-BLUFUS/product-reviews/B0C4PTHT56/ref=cm_cr_dp_d_show_all_btm?ie=UTF8&reviewerType=all_reviews&pageNumber=\",\n\"Aditya Nath\",\n\"06-Jun-23\",\n\"5.0 out of 5 stars\\nThe standard is set high\",\n{\n            'v': 5,\n            'f': \"5\",\n        },\n\"Nice shoes but with a good cost. U can buy it for trekking wear\"],\n [{\n            'v': 63,\n            'f': \"63\",\n        },\n{\n            'v': 64,\n            'f': \"64\",\n        },\n\"Amazon.in:Customer reviews: Adidas Men Mesh Terrex Voyager 21 Outdoor Shoe CBLACK/CWHITE/GRETWO (UK-9)\",\n\"https://www.amazon.in/Adidas-Terrex-Voyager-Outdoor-CBLACK/product-reviews/B0BNN8JWYX/ref=cm_cr_dp_d_show_all_btm?ie=UTF8&reviewerType=all_reviews&pageNumber=\",\n\"Antriksh Kumbhat\",\n\"30-Apr-23\",\n\"2.0 out of 5 stars\\nDeceiving\",\n{\n            'v': 2,\n            'f': \"2\",\n        },\n\"It\\u00e2\\u0080\\u0099s not a great shoe at all\"],\n [{\n            'v': 64,\n            'f': \"64\",\n        },\n{\n            'v': 65,\n            'f': \"65\",\n        },\n\"Amazon.in:Customer reviews: Adidas Men Mesh AZTOR TRAILEX Outdoor Shoe Black/MLEAD/IMPYEL (UK-6)\",\n\"https://www.amazon.in/Adidas-AZTOR-TRAILEX-Outdoor-IMPYEL/product-reviews/B0C4DPWK8Q/ref=cm_cr_dp_d_show_all_btm?ie=UTF8&reviewerType=all_reviews&pageNumber=\",\n\"Divyam Gupta\",\n\"15-Dec-23\",\n\"4.0 out of 5 stars\\nNice\",\n{\n            'v': 4,\n            'f': \"4\",\n        },\n\"Design is very good. Looks very premium.Slightly loose due to V shape design.\"],\n [{\n            'v': 65,\n            'f': \"65\",\n        },\n{\n            'v': 66,\n            'f': \"66\",\n        },\n\"Amazon.in:Customer reviews: Adidas Men Synthetic and Mesh Run Steady M Running Shoes CBLACK/Solred/Stone UK-10\",\n\"https://www.amazon.in/Adidas-Steady-CBLACK-Shoe-10-EY3146/product-reviews/B094QCMR4Z/ref=cm_cr_dp_d_show_all_btm?ie=UTF8&reviewerType=all_reviews&pageNumber=\",\n\"Sharath Prakash\",\n\"01-Feb-24\",\n\"5.0 out of 5 stars\\nIts a very good shoes with very good comfort.\",\n{\n            'v': 5,\n            'f': \"5\",\n        },\n\"Its a very good shoes with very good comfort.\"],\n [{\n            'v': 66,\n            'f': \"66\",\n        },\n{\n            'v': 67,\n            'f': \"67\",\n        },\n\"Amazon.in:Customer reviews: Adidas Mens Adiglide M GRESIX/CBLACK/Stone/S Running Shoe - 10 UK (HMI89)\",\n\"https://www.amazon.in/Adidas-Adiglide-Running-Shoe-10-HMI89/product-reviews/B094QC9Y2J/ref=cm_cr_dp_d_show_all_btm?ie=UTF8&reviewerType=all_reviews&pageNumber=\",\n\"Dhaval Chavan\",\n\"20-Jan-24\",\n\"5.0 out of 5 stars\\nBest shoe at this price point\",\n{\n            'v': 5,\n            'f': \"5\",\n        },\n\"The media could not be loaded.\\n                \\nGood build quality, looks fabulous, very light weight that too an Adidas shoe just under 1500.. U can't ask for anything more.... Thanks amazon for quick delivery.\"],\n [{\n            'v': 67,\n            'f': \"67\",\n        },\n{\n            'v': 68,\n            'f': \"68\",\n        },\n\"Amazon.in:Customer reviews: Adidas Men Synthetic topazo ms Running Shoe GRESIX/PRERED/Stone/CBLACK (UK-9)\",\n\"https://www.amazon.in/Adidas-Synthetic-topazo-Running-Shoes/product-reviews/B0BJLS333W/ref=cm_cr_dp_d_show_all_btm?ie=UTF8&reviewerType=all_reviews&pageNumber=\",\n\"Tapan Prasad Choudhury\",\n\"28-Nov-23\",\n\"5.0 out of 5 stars\\nValue of money\",\n{\n            'v': 5,\n            'f': \"5\",\n        },\n\"Good Product\"],\n [{\n            'v': 68,\n            'f': \"68\",\n        },\n{\n            'v': 69,\n            'f': \"69\",\n        },\n\"Amazon.in:Customer reviews: Adidas Men Synthetic &amp; Textile Ultra Strike M Running Shoes SHAOLI/MAGBEI/CBLACK UK-7\",\n\"https://www.amazon.in/Adidas-Shadow-Olive-Strike-Running/product-reviews/B09N3M3RJN/ref=cm_cr_dp_d_show_all_btm?ie=UTF8&reviewerType=all_reviews&pageNumber=\",\n\"Ajay Rao\",\n\"26-Oct-22\",\n\"5.0 out of 5 stars\\nGood\",\n{\n            'v': 5,\n            'f': \"5\",\n        },\n\"Right leg shoe is less defective\"],\n [{\n            'v': 69,\n            'f': \"69\",\n        },\n{\n            'v': 70,\n            'f': \"70\",\n        },\n\"Amazon.in:Customer reviews: Adidas Men Synthetic &amp; Textile Adiscend M Running Shoes DKGREY/DOVGRY/IMPYEL UK-7\",\n\"https://www.amazon.in/Adidas-Impact-Yellow-Adiscend-Running/product-reviews/B09N3N8N39/ref=cm_cr_dp_d_show_all_btm?ie=UTF8&reviewerType=all_reviews&pageNumber=\",\n\"Ash\",\n\"20-Apr-23\",\n\"5.0 out of 5 stars\\nTop of the line\",\n{\n            'v': 5,\n            'f': \"5\",\n        },\n\"The shoes are top of the line. Ultra premium feel, light as a feather, yet they withstand my brutal gym routine like a charm.I was searching for teal color running shoes as it's the most premium and modern color till date. It was only invented a few years ago. I am really happy to have found it. I was super bored with those blue, red, white, black generic colors even in top brands.One more thing. The grip allows me to do stretching even on marble floor without slipping.\"],\n [{\n            'v': 70,\n            'f': \"70\",\n        },\n{\n            'v': 71,\n            'f': \"71\",\n        },\n\"Amazon.in:Customer reviews: Adidas Mens Glarus M CBLACK/FTWWHT Running Shoe - 10 UK (CM4980)\",\n\"https://www.amazon.in/Adidas-Glarus-Running-Shoes-10-CM4980/product-reviews/B082Q9F7RG/ref=cm_cr_dp_d_show_all_btm?ie=UTF8&reviewerType=all_reviews&pageNumber=\",\n\"Running Shoes\",\n\"24-Oct-23\",\n\"5.0 out of 5 stars\\nComfortable\",\n{\n            'v': 5,\n            'f': \"5\",\n        },\n\"The product is amazing and comfortable.\"],\n [{\n            'v': 71,\n            'f': \"71\",\n        },\n{\n            'v': 72,\n            'f': \"72\",\n        },\n\"Amazon.in:Customer reviews: Adidas Men's Synthetic SleetWalk M Running Shoe WONSTE/FTWWHT, 7 UK, Blue (Set of 1 Pair)\",\n\"https://www.amazon.in/Adidas-Synthetic-SleetWalk-Running-WONSTE/product-reviews/B0C4DQK6BD/ref=cm_cr_dp_d_show_all_btm?ie=UTF8&reviewerType=all_reviews&pageNumber=\",\n\"Biplab Ghosh\",\n\"13-Dec-23\",\n\"5.0 out of 5 stars\\nEffortless Comfort and Style with Adidas Sleetwalk Sneakers\",\n{\n            'v': 5,\n            'f': \"5\",\n        },\n\"I recently added the Adidas Sleetwalk Sneakers to my collection, and they've quickly become a favorite for several reasons. Here's my take on these sneakers:**Pros:**1. **Comfortable Fit:** The comfort level of these sneakers is unparalleled. They provide a snug yet breathable fit, making them ideal for extended periods of wear.2. **Laceless Design, Perfect Fit:** Despite not having laces, the Adidas Sleetwalk Sneakers offer a secure and perfect fit for my feet. The design ensures convenience without compromising on stability.3. **Long-Walking Comfort:** Whether it's a stroll around the block or a longer walking session, these sneakers deliver consistent comfort. The cushioning and support make them an excellent choice for those on the move.4. **Stylish Appearance:** While comfort is paramount, it's also worth noting that the sneakers look fantastic. The design strikes a balance between sporty and casual, making them versatile for various occasions.In summary, the Adidas Sleetwalk Sneakers combine comfort, convenience, and style seamlessly. A great choice for anyone seeking a reliable, laceless option that doesn't compromise on performance or aesthetics.\"],\n [{\n            'v': 72,\n            'f': \"72\",\n        },\n{\n            'v': 73,\n            'f': \"73\",\n        },\n\"Amazon.in:Customer reviews: Adidas Men Synthetic Adidash M Running Shoe BLUOXI/Stone/Green/GRESIX (UK-8)\",\n\"https://www.amazon.in/Adidas-Synthetic-Adidash-Running-BLUOXI/product-reviews/B0C4PYLYNH/ref=cm_cr_dp_d_show_all_btm?ie=UTF8&reviewerType=all_reviews&pageNumber=\",\n\"SV Srinivas\",\n\"25-Nov-23\",\n\"5.0 out of 5 stars\\nLight weight and looks good.\",\n{\n            'v': 5,\n            'f': \"5\",\n        },\n\"It looks very good, lightweight and very comfortable to wear.  The only drawback initially it was making squeaking sounds, but after some time it is gone.\"],\n [{\n            'v': 73,\n            'f': \"73\",\n        },\n{\n            'v': 74,\n            'f': \"74\",\n        },\n\"Amazon.in:Customer reviews: Adidas Mens Agora 1.0 Black/Metsil/SOLBLU Outdoor Shoes - 9 UK (S48720)\",\n\"https://www.amazon.in/Adidas-Agora-Metsil-SOLBLU-Outdoor/product-reviews/B076H51BL9/ref=cm_cr_dp_d_show_all_btm?ie=UTF8&reviewerType=all_reviews&pageNumber=\",\n\"Sarthak Sawhney\",\n\"25-Jun-23\",\n\"5.0 out of 5 stars\\nGreat shoe for every terrain except a few ..\",\n{\n            'v': 5,\n            'f': \"5\",\n        },\n\"It\\u00e2\\u0080\\u0099s a great shoe I bought it again! I have had this for year tore the mesh after 3 years while riding bike. The cushion the sole and laces everything intact in 3 years. This was my first training shoe and now I am also getting terrex from adidas. I walked upto 18 kms in these over hilly terrain, absolute comfort for me. I like the sole, it\\u00e2\\u0080\\u0099s hard and tough it ensure not every pebble or sharp rock is felt in foot, which is very important. If you get soft sole it\\u00e2\\u0080\\u0099s good for your normal day .. home to work to party to home .. the moment you walk off the track you\\u00e2\\u0080\\u0099ll feel the difference. I used to keep them in backpack when I was going to party or any place, who knows when I\\u00e2\\u0080\\u0099ll need them!?\"],\n [{\n            'v': 74,\n            'f': \"74\",\n        },\n{\n            'v': 75,\n            'f': \"75\",\n        },\n\"Amazon.in:Customer reviews: Adidas Men Synthetic BREAKNET 2.0, Tennis Shoes, CBLACK/FTWWHT/FTWWHT, UK-6\",\n\"https://www.amazon.in/Adidas-Synthetic-BREAKNET-Tennis-CBLACK/product-reviews/B0BPDZC4RM/ref=cm_cr_dp_d_show_all_btm?ie=UTF8&reviewerType=all_reviews&pageNumber=\",\n\"Gurpreet Singh\",\n\"18-Jul-23\",\n\"5.0 out of 5 stars\\nGreat product by adidas\",\n{\n            'v': 5,\n            'f': \"5\",\n        },\n\"Shoe quality is ultimate.. look is also great, comfortable, original product\"],\n [{\n            'v': 75,\n            'f': \"75\",\n        },\n{\n            'v': 76,\n            'f': \"76\",\n        },\n\"Amazon.in:Customer reviews: Adidas Men Synthetic &amp; Textile WideWalk M Walking Shoes, Grey, UK-8\",\n\"https://www.amazon.in/Adidas-Wonder-Steel-Widewalk-Walking/product-reviews/B09N3PMX7C/ref=cm_cr_dp_d_show_all_btm?ie=UTF8&reviewerType=all_reviews&pageNumber=\",\n\"Venkata ramana polumuri\",\n\"22-Sep-23\",\n\"5.0 out of 5 stars\\nNice\",\n{\n            'v': 5,\n            'f': \"5\",\n        },\n\"Good\"],\n [{\n            'v': 76,\n            'f': \"76\",\n        },\n{\n            'v': 77,\n            'f': \"77\",\n        },\n\"Amazon.in:Customer reviews: Adidas Men's Multicolor Running Shoes - 10 UK\",\n\"https://www.amazon.in/Adidas-Adi-Shawt-Vicblu-Ftwwht-Running/product-reviews/B094QD2868/ref=cm_cr_dp_d_show_all_btm?ie=UTF8&reviewerType=all_reviews&pageNumber=\",\n\"chethan\",\n\"31-Jan-24\",\n\"5.0 out of 5 stars\\nNice shoes\",\n{\n            'v': 5,\n            'f': \"5\",\n        },\n\"Feel good compatbole\"],\n [{\n            'v': 77,\n            'f': \"77\",\n        },\n{\n            'v': 78,\n            'f': \"78\",\n        },\n\"Amazon.in:Customer reviews: Adidas Men Textile LITE Racer Adapt 5.0 Running Shoe CBLACK/GREFIV/GRETHR (UK-8)\",\n\"https://www.amazon.in/Adidas-Textile-Running-CBLACK-GREFIV/product-reviews/B0B31GVBJN/ref=cm_cr_dp_d_show_all_btm?ie=UTF8&reviewerType=all_reviews&pageNumber=\",\n\"sridhar\",\n\"05-Jan-24\",\n\"5.0 out of 5 stars\\nPerfect for Running Jogging and Walking\",\n{\n            'v': 5,\n            'f': \"5\",\n        },\n\"Its an excellent shoe designed running.Very light , feel like just weating socks.very good grip at the ankle. and not too tight at the toe.Very impressive blue & white color.\"],\n [{\n            'v': 78,\n            'f': \"78\",\n        },\n{\n            'v': 79,\n            'f': \"79\",\n        },\n\"Amazon.in:Customer reviews: Adidas Men Synthetic Cyberrun M Running Shoe Legear/Dovgry/Actgol (Uk-10), Multi\",\n\"https://www.amazon.in/Adidas-Synthetic-CyberRun-Running-Shoes/product-reviews/B0BJKZG78C/ref=cm_cr_dp_d_show_all_btm?ie=UTF8&reviewerType=all_reviews&pageNumber=\",\n\"Abhishek Khati\",\n\"10-Dec-23\",\n\"5.0 out of 5 stars\\nExcellent Shoe\",\n{\n            'v': 5,\n            'f': \"5\",\n        },\n\"Super comfortable to wear, it very light weighted and you can use this a running shoes.\"],\n [{\n            'v': 79,\n            'f': \"79\",\n        },\n{\n            'v': 80,\n            'f': \"80\",\n        },\n\"Amazon.in:Customer reviews: Adidas Men Textile CriHase 23, Cricket Shoes, White, UK-12\",\n\"https://www.amazon.in/Adidas-Textile-CriHase-Cricket-Shoes/product-reviews/B0CPVLLTTG/ref=cm_cr_dp_d_show_all_btm?ie=UTF8&reviewerType=all_reviews&pageNumber=\",\n\"A.B\",\n\"14-Feb-24\",\n\"5.0 out of 5 stars\\nA beautiful experience\",\n{\n            'v': 5,\n            'f': \"5\",\n        },\n\"The shoes are awesome....And the safety of originality of the product managed by Amazon is outstanding....I'm being impressed more and more year by years\"],\n [{\n            'v': 80,\n            'f': \"80\",\n        },\n{\n            'v': 81,\n            'f': \"81\",\n        },\n\"Amazon.in:Customer reviews: Adidas Mens Throb M BLUNIT/ACTTEA Running Shoe - 8 UK (CM4884)\",\n\"https://www.amazon.in/Adidas-Active-Running-Shoes-8-CM4884/product-reviews/B082QB6NHY/ref=cm_cr_dp_d_show_all_btm?ie=UTF8&reviewerType=all_reviews&pageNumber=\",\n\"Karan Bose\",\n\"27-Aug-22\",\n\"5.0 out of 5 stars\\nVery comfortable\",\n{\n            'v': 5,\n            'f': \"5\",\n        },\n\"It is amazing that I have had two completely different experiences with Adidas shoes. This one is very nice and I always choose to wear this one because it fits well and is comfortable. I got another Adidas and it is so bad. No idea which one is genuine and which one is not\"],\n [{\n            'v': 81,\n            'f': \"81\",\n        },\n{\n            'v': 82,\n            'f': \"82\",\n        },\n\"Nike Men's Low Neck top\",\n\"https://www.amazon.com/Nike-Mens-White-Ghost-Synthetic/product-reviews/B07TDRLSP4/ref=cm_cr_dp_d_show_all_btm?ie=UTF8&reviewerType=all_reviews&pageNumber=\",\n\"Ashleigh Walli\",\n\"February 8, 2024\",\n\"5.0 out of 5 stars\\nLove them\",\n{\n            'v': 5,\n            'f': \"5\",\n        },\n\"My son loved them. They fit great, looked great, and he said they were comfortable.\"],\n [{\n            'v': 82,\n            'f': \"82\",\n        },\n{\n            'v': 83,\n            'f': \"83\",\n        },\n\"Nike mens Revolution 6 Road Running\",\n\"https://www.amazon.com/Nike-mens-Revolution-Road-Running/product-reviews/B0CPTHHGK5/ref=cm_cr_dp_d_show_all_btm?ie=UTF8&reviewerType=all_reviews&pageNumber=\",\n\"Random Guy\",\n\"November 23, 2023\",\n\"5.0 out of 5 stars\\nPerfect Fit and Enhanced Performance\",\n{\n            'v': 5,\n            'f': \"5\",\n        },\n\"I recently purchased a pair of Men's Nike shoes for my son, and I am thrilled to share my positive experience with this product. These shoes have truly exceeded our expectations, providing both a perfect fit and noticeable improvements in his running abilities.First and foremost, the fit of these Nike shoes is exceptional. They have been designed with precision, ensuring a comfortable and secure fit for my son's feet. The shoes hug his feet perfectly, providing the necessary support and stability for his active lifestyle. He has expressed his satisfaction with how well they fit, allowing him to move freely and confidently during his runs and other physical activities.In terms of performance, these Nike shoes have made a noticeable difference. My son has experienced enhanced running capabilities since wearing them. The shoes offer excellent cushioning and support, enabling him to run with greater ease and agility. He has expressed that his feet feel lighter, and he can maintain better traction and grip while on the move. These shoes have truly helped him elevate his running game.The quality of these Nike shoes is outstanding. The materials used are durable and built to last, with no signs of wear or tear even after regular use. The shoes have proven to be resilient and capable of withstanding the demands of my son's active lifestyle. I am confident that they will continue to provide long-lasting performance, making them a worthwhile investment.Overall, I am extremely pleased with the Men's Nike shoes I purchased for my son. Not only do they fit him perfectly, but they have also significantly improved his running abilities. The exceptional quality and durability of these shoes ensure that they will accompany him on his adventures for a long time to come. I highly recommend these Nike shoes to anyone seeking reliable, performance-enhancing footwear.\"],\n [{\n            'v': 83,\n            'f': \"83\",\n        },\n{\n            'v': 84,\n            'f': \"84\",\n        },\n\"NIKE Men's Sneaker\",\n\"https://www.amazon.com/Nike-DD9293-300-Mens-Sneaker/product-reviews/B0B6G5R7KZ/ref=cm_cr_dp_d_show_all_btm?ie=UTF8&reviewerType=all_reviews&pageNumber=\",\n\"Shoes came exactly as described for true to size and overall happy with purchase would recommend\",\n\"January 24, 2024\",\n\"5.0 out of 5 stars\\nAwesome sneaker\",\n{\n            'v': 5,\n            'f': \"5\",\n        },\n\"Great look, light weight and nice quality shoe for the price. Fits true to size and definitely get good looks\"],\n [{\n            'v': 84,\n            'f': \"84\",\n        },\n{\n            'v': 85,\n            'f': \"85\",\n        },\n\"Nike mens Air Force 1 Low Retro\",\n\"https://www.amazon.com/Nike-mens-Air-Force-Retro/product-reviews/B0CPTDZ2LZ/ref=cm_cr_dp_d_show_all_btm?ie=UTF8&reviewerType=all_reviews&pageNumber=\",\n\"Cindy\",\n\"January 28, 2024\",\n\"5.0 out of 5 stars\\nNice shoes\",\n{\n            'v': 5,\n            'f': \"5\",\n        },\n\"My son loves these shoes. He says they fit well, look good and are super comfortable!\"],\n [{\n            'v': 85,\n            'f': \"85\",\n        },\n{\n            'v': 86,\n            'f': \"86\",\n        },\n\"Nike mens Blazer Mid 77 Vintage\",\n\"https://www.amazon.com/Nike-mens-Blazer-Mid-Vintage/product-reviews/B0CPTGRBP1/ref=cm_cr_dp_d_show_all_btm?ie=UTF8&reviewerType=all_reviews&pageNumber=\",\n\"D\",\n\"February 19, 2024\",\n\"5.0 out of 5 stars\\nMy favorite shoe\",\n{\n            'v': 5,\n            'f': \"5\",\n        },\n\"The top of the tongue is supposed to be like that if you were wondering. It\\u00e2\\u0080\\u0099s a great durable and good looking sneaker\"],\n [{\n            'v': 86,\n            'f': \"86\",\n        },\n{\n            'v': 87,\n            'f': \"87\",\n        },\n\"Nike mens Legent Essential 2 Training\",\n\"https://www.amazon.com/Nike-mens-Legent-Essential-Training/product-reviews/B0CPTFQQKC/ref=cm_cr_dp_d_show_all_btm?ie=UTF8&reviewerType=all_reviews&pageNumber=\",\n\"Melissa Cross\",\n\"January 13, 2024\",\n\"5.0 out of 5 stars\\nChristmas gift\",\n{\n            'v': 5,\n            'f': \"5\",\n        },\n\"Bought for my son in law for Christmas, and he loved the.  Said they are very comfortable and seem to be holding up good.  He goes through a pair of shoes every couple months with his job and he's had these for a month, and they still look to be in good condition.\"],\n [{\n            'v': 87,\n            'f': \"87\",\n        },\n{\n            'v': 88,\n            'f': \"88\",\n        },\n\"Nike Men's Basketball Shoes\",\n\"https://www.amazon.com/Nike-Court-Vision-Mens-Shoes/product-reviews/B0B192D4DC/ref=cm_cr_dp_d_show_all_btm?ie=UTF8&reviewerType=all_reviews&pageNumber=\",\n\"jon beyor\",\n\"January 22, 2024\",\n\"5.0 out of 5 stars\\nExcellent\",\n{\n            'v': 5,\n            'f': \"5\",\n        },\n\"Perfect and clean great fit\"],\n [{\n            'v': 88,\n            'f': \"88\",\n        },\n{\n            'v': 89,\n            'f': \"89\",\n        },\n\"Nike Men's Sneaker\",\n\"https://www.amazon.com/Nike-DD0204-001-Mens-Sneaker/product-reviews/B0B6G6PTNQ/ref=cm_cr_dp_d_show_all_btm?ie=UTF8&reviewerType=all_reviews&pageNumber=\",\n\"The4C\\u00e2\\u0080\\u0099s\",\n\"August 30, 2023\",\n\"5.0 out of 5 stars\\nNice Color, good quality\",\n{\n            'v': 5,\n            'f': \"5\",\n        },\n\"My son loves these shoes. Great for running and the colors are vibrant. When blue is this rich in color it makes you wonder if it isn\\u00e2\\u0080\\u0099t a purple look. This shoe is a vibrant royal blue and looks great. Heal bed is comfortable with a cushiony feel with great bounce.\"],\n [{\n            'v': 89,\n            'f': \"89\",\n        },\n{\n            'v': 90,\n            'f': \"90\",\n        },\n\"Nike mens Revolution 5 Running\",\n\"https://www.amazon.com/Nike-mens-Revolution-5-Running/product-reviews/B0CPTFQL53/ref=cm_cr_dp_d_show_all_btm?ie=UTF8&reviewerType=all_reviews&pageNumber=\",\n\"Steve and Inez\",\n\"January 8, 2024\",\n\"5.0 out of 5 stars\\nVery good shoes !!!\",\n{\n            'v': 5,\n            'f': \"5\",\n        },\n\"The shoes feel great, nice and wide. Very comfortable.\"],\n [{\n            'v': 90,\n            'f': \"90\",\n        },\n{\n            'v': 91,\n            'f': \"91\",\n        },\n\"Nike mens Air Monarch IV\",\n\"https://www.amazon.com/Nike-mens-Air-Monarch-IV/product-reviews/B0CPTCZPF2/ref=cm_cr_dp_d_show_all_btm?ie=UTF8&reviewerType=all_reviews&pageNumber=\",\n\"R-\",\n\"June 15, 2023\",\n\"5.0 out of 5 stars\\nBest men's aerobic shoe\",\n{\n            'v': 5,\n            'f': \"5\",\n        },\n\"I have tried every brand of training, walking, and aerobic shoe and I finally found a shoe that can stand up to my active exercise lifestyle. I used to turn my ankle a few times a year with other shoes and my metatarsal would be sore to the touch at least once a month. Since I have been wearing these Air Monarchs, I have not turned an ankle and my metatarsal is never sore. I have recently started using orthotics for my other shoes and they fit perfectly in the Air Monarchs with plenty of toe room. The last in these shoes is very strong and the shoes will retain form anywhere from 6 months to a year, depending on how many classes you take a week. If you workout indoors, the soles will not breakdown. I have pronounced pronation so I tend to wear out shoe soles quickly when I walk a lot, but indoors the first part of the shoe to age is the last and the shoes start to provide less support. The ball area has a round sole support which is good for spinning, turning, and other jazzercize moves.I also tend to wear holes in the toe area. Because these shoes are leather, toe wear is non-existent.I highly recommend these shoes for any type of aerobic exercise.I finally zeroed in on a size comfortable for me that is one size larger than my regular shoe size, primarily because I wear thick socks when I exercise which helps stimulate blood return as I am considered beyond middle age and my feet can swell more often. I would recommend you try shoe sizes before you buy. I order one size up on all Nike gear from experience.\"],\n [{\n            'v': 91,\n            'f': \"91\",\n        },\n{\n            'v': 92,\n            'f': \"92\",\n        },\n\"Nike mens Free Run 2018\",\n\"https://www.amazon.com/Nike-mens-Free-Run-2018/product-reviews/B0CPTJTKPP/ref=cm_cr_dp_d_show_all_btm?ie=UTF8&reviewerType=all_reviews&pageNumber=\",\n\"brigid johannes\",\n\"December 3, 2023\",\n\"5.0 out of 5 stars\\nGreat Looking Shoe\",\n{\n            'v': 5,\n            'f': \"5\",\n        },\n\"With all of the crazy styles out there, my husband always struggles to find a sensible shoe with a neutral color that still offers a little bit of style at the same time. Well guys, look no further! These shoes fit great, are comfortable, and feel lighter than air! He likes them so much that we bought them in black, white, and grey!\"],\n [{\n            'v': 92,\n            'f': \"92\",\n        },\n{\n            'v': 93,\n            'f': \"93\",\n        },\n\"Nike Men's Sneakers, 9 AU\",\n\"https://www.amazon.com/Nike-Mens-Black-Black-Black-604133/product-reviews/B074DKFDLZ/ref=cm_cr_dp_d_show_all_btm?ie=UTF8&reviewerType=all_reviews&pageNumber=\",\n\"Kevin E.\",\n\"February 20, 2024\",\n\"5.0 out of 5 stars\\nGreat\",\n{\n            'v': 5,\n            'f': \"5\",\n        },\n\"Timely shipping & comfortable\"],\n [{\n            'v': 93,\n            'f': \"93\",\n        },\n{\n            'v': 94,\n            'f': \"94\",\n        },\n\"Nike Men's Basketball Three Quarters Tall\",\n\"https://www.amazon.com/Nike-Mens-Basketball-Three-Quarters/product-reviews/B0CK7W9P3B/ref=cm_cr_dp_d_show_all_btm?ie=UTF8&reviewerType=all_reviews&pageNumber=\",\n\"DejayT\",\n\"January 23, 2024\",\n\"5.0 out of 5 stars\\nLegit and comfortable\",\n{\n            'v': 5,\n            'f': \"5\",\n        },\n\"The one thing us consumers all want is a legitimate brand ,decent price and not getting ripped off ,these Giannis Nikes check all those boxes , legit//great price/ great looking and comfortable ...so go for it!!\"],\n [{\n            'v': 94,\n            'f': \"94\",\n        },\n{\n            'v': 95,\n            'f': \"95\",\n        },\n\"Nike Men's Court Vision Lo Sneaker\",\n\"https://www.amazon.com/Nike-Mens-Court-Vision-Lo/product-reviews/B096M2VP1S/ref=cm_cr_dp_d_show_all_btm?ie=UTF8&reviewerType=all_reviews&pageNumber=\",\n\"Raymond B Campbell\",\n\"April 1, 2022\",\n\"5.0 out of 5 stars\\nFit perfectly very comfortable\",\n{\n            'v': 5,\n            'f': \"5\",\n        },\n\"Shoes fit perfectly, were easy to put on, comfortable to walk in, and look great\"],\n [{\n            'v': 95,\n            'f': \"95\",\n        },\n{\n            'v': 96,\n            'f': \"96\",\n        },\n\"Nike mens Run Swift 2\",\n\"https://www.amazon.com/Nike-mens-Run-Swift-2/product-reviews/B0CPTGHPT2/ref=cm_cr_dp_d_show_all_btm?ie=UTF8&reviewerType=all_reviews&pageNumber=\",\n\"norma h.\",\n\"February 17, 2023\",\n\"5.0 out of 5 stars\\nNike men's shoes\",\n{\n            'v': 5,\n            'f': \"5\",\n        },\n\"These shoes are on point.  True to size  and comfortable. Love them.\"],\n [{\n            'v': 96,\n            'f': \"96\",\n        },\n{\n            'v': 97,\n            'f': \"97\",\n        },\n\"Nike Men's Sneakers, 0\",\n\"https://www.amazon.com/Nike-924453-006-Mens-Sneakers-0/product-reviews/B07X3LT39M/ref=cm_cr_dp_d_show_all_btm?ie=UTF8&reviewerType=all_reviews&pageNumber=\",\n\"ROTCEH RIOS\",\n\"February 12, 2024\",\n\"5.0 out of 5 stars\\nGood and super nice\",\n{\n            'v': 5,\n            'f': \"5\",\n        },\n\"Super nice\"],\n [{\n            'v': 97,\n            'f': \"97\",\n        },\n{\n            'v': 98,\n            'f': \"98\",\n        },\n\"Nike Men's Running Shoe\",\n\"https://www.amazon.com/Nike-Mens-Revolution-Running-Shoes/product-reviews/B0B27HK7HJ/ref=cm_cr_dp_d_show_all_btm?ie=UTF8&reviewerType=all_reviews&pageNumber=\",\n\"Megan\",\n\"February 22, 2024\",\n\"5.0 out of 5 stars\\nReally great shoes!\",\n{\n            'v': 5,\n            'f': \"5\",\n        },\n\"Got these as a gift for my boyfriend and he loves them! They fit great, are comfortable, they look nice, and they seem like they will hold up for a long time. Can\\u00e2\\u0080\\u0099t recommend them enough!\"],\n [{\n            'v': 98,\n            'f': \"98\",\n        },\n{\n            'v': 99,\n            'f': \"99\",\n        },\n\"Nike Men's Killshot 2\",\n\"https://www.amazon.com/Nike-432997-107-Mens-Killshot-2/product-reviews/B0BHVJKCRW/ref=cm_cr_dp_d_show_all_btm?ie=UTF8&reviewerType=all_reviews&pageNumber=\",\n\"Joseph H Robertson\",\n\"January 3, 2024\",\n\"5.0 out of 5 stars\\nNike sneakers\",\n{\n            'v': 5,\n            'f': \"5\",\n        },\n\"I got these sneakers about 2 weeks ago and so far, they wear well. I love the retro look they exude.\"],\n [{\n            'v': 99,\n            'f': \"99\",\n        },\n{\n            'v': 100,\n            'f': \"100\",\n        },\n\"Nike Men's Court Vision Mid Sneaker\",\n\"https://www.amazon.com/Nike-Mens-Court-Vision-Sneaker/product-reviews/B07NMZBF7V/ref=cm_cr_dp_d_show_all_btm?ie=UTF8&reviewerType=all_reviews&pageNumber=\",\n\"Amazon Customer\",\n\"December 16, 2023\",\n\"5.0 out of 5 stars\\nGood value.\",\n{\n            'v': 5,\n            'f': \"5\",\n        },\n\"Bought these for my grandson to wear to school. He loves the look, fit and feel.  They are the only shoes he wants to wear now.\"],\n [{\n            'v': 100,\n            'f': \"100\",\n        },\n{\n            'v': 101,\n            'f': \"101\",\n        },\n\"Nike mens Roshe One\",\n\"https://www.amazon.com/Nike-mens-Roshe-One/product-reviews/B0CPTG1Q5V/ref=cm_cr_dp_d_show_all_btm?ie=UTF8&reviewerType=all_reviews&pageNumber=\",\n\"Alisha\",\n\"January 25, 2024\",\n\"5.0 out of 5 stars\\nMens Nike Roshe one\",\n{\n            'v': 5,\n            'f': \"5\",\n        },\n\"Perfect and comfortable.I ordered them for my husband .They are so comfortable and light weight, he doesn't complain anymore of leg problems.\"],\n [{\n            'v': 101,\n            'f': \"101\",\n        },\n{\n            'v': 102,\n            'f': \"102\",\n        },\n\"Nike mens Court Legacy\",\n\"https://www.amazon.com/Nike-mens-Court-Legacy/product-reviews/B0CPTG2YKC/ref=cm_cr_dp_d_show_all_btm?ie=UTF8&reviewerType=all_reviews&pageNumber=\",\n\"Manuel\",\n\"February 12, 2024\",\n\"5.0 out of 5 stars\\nLook amazing!!\",\n{\n            'v': 5,\n            'f': \"5\",\n        },\n\"They run narrow. I have narrow feet so they are okay for me. I\\u00e2\\u0080\\u0099m sure they\\u00e2\\u0080\\u0099ll loosen up. They look and feel amazing!\"],\n [{\n            'v': 102,\n            'f': \"102\",\n        },\n{\n            'v': 103,\n            'f': \"103\",\n        },\n\"Nike mens Quest 4 Platform\",\n\"https://www.amazon.com/Nike-mens-Quest-4-Platform/product-reviews/B0CPTH6L49/ref=cm_cr_dp_d_show_all_btm?ie=UTF8&reviewerType=all_reviews&pageNumber=\",\n\"Richard\",\n\"February 18, 2024\",\n\"5.0 out of 5 stars\\nFit\",\n{\n            'v': 5,\n            'f': \"5\",\n        },\n\"I have wider feet and these fit snug but comfortable, was afraid I\\u00e2\\u0080\\u0099d have to find shoes in wide or extra wide so I\\u00e2\\u0080\\u0099m satisfied. Also they\\u00e2\\u0080\\u0099re really light. I got these for the gym so they do the job, not sure about runningBlack shoes- bought them for $80 and a week later drops to $67 but the other colors are in the 100s\\u00e2\\u0080\\u00a6 shame on the seller!\"],\n [{\n            'v': 103,\n            'f': \"103\",\n        },\n{\n            'v': 104,\n            'f': \"104\",\n        },\n\"Nike Men's Gymnastics Shoes\",\n\"https://www.amazon.com/Nike-CW2288-001-Mens-Gymnastics-Shoes/product-reviews/B0C39HGVRT/ref=cm_cr_dp_d_show_all_btm?ie=UTF8&reviewerType=all_reviews&pageNumber=\",\n\"Your mom\",\n\"February 20, 2024\",\n\"5.0 out of 5 stars\\nGreat shoes for working as well!\",\n{\n            'v': 5,\n            'f': \"5\",\n        },\n\"I bought these shoes for work because it\\u00e2\\u0080\\u0099s dress code (for black shoes) and a few Co worker\\u00e2\\u0080\\u0099s recommended Them. I work in a very \\u00e2\\u0080\\u009cShoe abusive\\\" environment, so I thought it would be a waste of money, BUT NO! They have lasted longer than any other Shoe that I\\u00e2\\u0080\\u0099ve worn, and are fairly comfortable. So yes I highly recommend these shoes.\"],\n [{\n            'v': 104,\n            'f': \"104\",\n        },\n{\n            'v': 105,\n            'f': \"105\",\n        },\n\"Nike mens Air Max 2017\",\n\"https://www.amazon.com/Nike-mens-Air-Max-2017/product-reviews/B0CPTF4P7Y/ref=cm_cr_dp_d_show_all_btm?ie=UTF8&reviewerType=all_reviews&pageNumber=\",\n\"Brad\",\n\"January 25, 2024\",\n\"5.0 out of 5 stars\\nVery stylish and comfortable\",\n{\n            'v': 5,\n            'f': \"5\",\n        },\n\"This sneaker is great for walking and looks exceptionally stylish\\u00f0\\u009f\\u0091\\u008d\\u00f0\\u009f\\u008f\\u00bc\"],\n [{\n            'v': 105,\n            'f': \"105\",\n        },\n{\n            'v': 106,\n            'f': \"106\",\n        },\n\"Nike Men's Running Shoes\",\n\"https://www.amazon.com/Nike-Experience-Running-Trainers-Sneakers/product-reviews/B0BLW6SVJ7/ref=cm_cr_dp_d_show_all_btm?ie=UTF8&reviewerType=all_reviews&pageNumber=\",\n\"PASINS\",\n\"February 18, 2024\",\n\"5.0 out of 5 stars\\nNice price\",\n{\n            'v': 5,\n            'f': \"5\",\n        },\n\"Waited for the price to drop before purchasing. Sneakers are very comfortable and seem pretty durable. Just wait for the right price.\"],\n [{\n            'v': 106,\n            'f': \"106\",\n        },\n{\n            'v': 107,\n            'f': \"107\",\n        },\n\"Nike mens Air Force 1 '07 LV8\",\n\"https://www.amazon.com/Nike-mens-Air-Force-LV8/product-reviews/B0CPTFX9RF/ref=cm_cr_dp_d_show_all_btm?ie=UTF8&reviewerType=all_reviews&pageNumber=\",\n\"Francine H.\",\n\"February 9, 2024\",\n\"5.0 out of 5 stars\\nSturdy, Fashionable Nike's\",\n{\n            'v': 5,\n            'f': \"5\",\n        },\n\"One of my son's favorite sneakers.  Looks great with all clothing styles, very comfortable and sturdy.\"],\n [{\n            'v': 107,\n            'f': \"107\",\n        },\n{\n            'v': 108,\n            'f': \"108\",\n        },\n\"NIKE Men's Sneaker Three Quarters Tall\",\n\"https://www.amazon.com/NIKE-Mens-Sneaker-Three-Quarters/product-reviews/B0BTZX41JT/ref=cm_cr_dp_d_show_all_btm?ie=UTF8&reviewerType=all_reviews&pageNumber=\",\n\"Lou Demarti\",\n\"February 16, 2024\",\n\"5.0 out of 5 stars\\nGreat shoes ---better price!\",\n{\n            'v': 5,\n            'f': \"5\",\n        },\n\"I love everything about them.The LeBron signature shoes are always stylish and comfortable but to get them for just over 70 bucks (while they're still 104 at the store) well that is value.\"],\n [{\n            'v': 108,\n            'f': \"108\",\n        },\n{\n            'v': 109,\n            'f': \"109\",\n        },\n\"Nike Men's Sneaker,Running Shoes\",\n\"https://www.amazon.com/Nike-Mens-Sneaker-Running-Shoes/product-reviews/B07C5DJ6LC/ref=cm_cr_dp_d_show_all_btm?ie=UTF8&reviewerType=all_reviews&pageNumber=\",\n\"Valerie Kragh\",\n\"November 22, 2023\",\n\"5.0 out of 5 stars\\nGreat shoe!\",\n{\n            'v': 5,\n            'f': \"5\",\n        },\n\"This is the second pair I have purchased. They are very comfortable, true to size, and are very durable. Best I\\u00e2\\u0080\\u0099ve found for work-standing most of day.\"],\n [{\n            'v': 109,\n            'f': \"109\",\n        },\n{\n            'v': 110,\n            'f': \"110\",\n        },\n\"Nike Men's Gymnastics Shoes Sneakers\",\n\"https://www.amazon.com/Nike-Court-Vision-Nature-Sneakers/product-reviews/B09W62SS7G/ref=cm_cr_dp_d_show_all_btm?ie=UTF8&reviewerType=all_reviews&pageNumber=\",\n\"chance\",\n\"January 19, 2024\",\n\"5.0 out of 5 stars\\nFits great\",\n{\n            'v': 5,\n            'f': \"5\",\n        },\n\"Looks good and great price\"],\n [{\n            'v': 110,\n            'f': \"110\",\n        },\n{\n            'v': 111,\n            'f': \"111\",\n        },\n\"Nike Men's Basketball Shoe\",\n\"https://www.amazon.com/Nike-DD1391-100-Mens-Basketball-Shoe/product-reviews/B08RTG3RN9/ref=cm_cr_dp_d_show_all_btm?ie=UTF8&reviewerType=all_reviews&pageNumber=\",\n\"Jamo\",\n\"February 20, 2024\",\n\"5.0 out of 5 stars\\nFire shoes\",\n{\n            'v': 5,\n            'f': \"5\",\n        },\n\"Great quality dunks, match almost anything, get complimented on them often\"],\n [{\n            'v': 111,\n            'f': \"111\",\n        },\n{\n            'v': 112,\n            'f': \"112\",\n        },\n\"Nike Men's Air Monarch Iv Cross Trainer\",\n\"https://www.amazon.com/Nike-Mens-Monarch-Cross-Trainer/product-reviews/B07RJTN4CS/ref=cm_cr_dp_d_show_all_btm?ie=UTF8&reviewerType=all_reviews&pageNumber=\",\n\"Larry Pierson\",\n\"December 22, 2023\",\n\"5.0 out of 5 stars\\nComfortable shoes at a good price\",\n{\n            'v': 5,\n            'f': \"5\",\n        },\n\"I have a larger foot and these shoes are a style that fits my foot well. However, this style is not being made any longer so I was pleasantly surprised to find that I could purchase them in my size on Amazon for a good price and they are delivered to my home. This is a great deal all the way around.\"],\n [{\n            'v': 112,\n            'f': \"112\",\n        },\n{\n            'v': 113,\n            'f': \"113\",\n        },\n\"Under Armour Men's Charged Assert 9 Running Shoe\",\n\"https://www.amazon.com/Under-Armour-Charged-Assert-Running/product-reviews/B087P32XQG/ref=cm_cr_dp_d_show_all_btm?ie=UTF8&reviewerType=all_reviews&pageNumber=\",\n\"enzofrost\",\n\"December 11, 2023\",\n\"5.0 out of 5 stars\\nForm fitting shock absorbing foot heaven\",\n{\n            'v': 5,\n            'f': \"5\",\n        },\n\"I\\u00e2\\u0080\\u0099ve been in the market for new walking shoes for a while now and have tried on at least a dozen pairs before these. It was immediately apparent to me that these were the winning pair.Pros-Light weight but structurally strongThe heel cup is pronounced holding my foot in place nicely even when unlacedGreat shock absorptionMiddle of the road arch support, it neither pushes into my foot nor does it leave my arch floatingThe shoe widens out at the ball of the foot just right to support the sides of my feet without squeezing them.Cons-Basic insole, that\\u00e2\\u0080\\u0099s comfortable but not as padded or advanced as other shoesLow rise ankle socks are a no no with these shoes as the heel cup I enjoy will suck your sock into the shoe and off your heel.All in all, for $40-$55 these are great shoes. They don\\u00e2\\u0080\\u0099t even feel like you\\u00e2\\u0080\\u0099re wearing shoes. The wife likes the look and feel so much she made me order her a woman\\u00e2\\u0080\\u0099s pair of the same shoe. You can\\u00e2\\u0080\\u0099t go wrong with this shoeUpdate 2/26/24 have worn these consistently and they look and feel new still. They handled a full week at Disney World averaging 25,000 steps per day at the parks. My feet were never tired or sore. No blisters chafing, or irritation from movement in the shoe because they are formed wonderfully around and behind the heel. I\\u00e2\\u0080\\u0099m ordering a second pair for whenever these do wear out. My favorite pair of shoes in a long time. Genuinely enjoy these more than my brooks (which are still wonderful) and my ON cloud shoes which I feel are hyped much more than their actual quality and worth in my humble opinion\"],\n [{\n            'v': 113,\n            'f': \"113\",\n        },\n{\n            'v': 114,\n            'f': \"114\",\n        },\n\"Nike Air Max Sc Men's Trainers\",\n\"https://www.amazon.com/Nike-Air-Max-Mens-Sneakers/product-reviews/B096DJ4CVY/ref=cm_cr_dp_d_show_all_btm?ie=UTF8&reviewerType=all_reviews&pageNumber=\",\n\"Shoes came exactly as described for true to size and overall happy with purchase would recommend\",\n\"January 24, 2024\",\n\"5.0 out of 5 stars\\nGreat buy\",\n{\n            'v': 5,\n            'f': \"5\",\n        },\n\"This shoe is comfortable and very fits true to size. Decent and stylish design makes for a great pair of shoes.\"],\n [{\n            'v': 114,\n            'f': \"114\",\n        },\n{\n            'v': 115,\n            'f': \"115\",\n        },\n\"Nike Men's Flex Control TR3 Sneaker\",\n\"https://www.amazon.com/Nike-Mens-Flex-Control-Sneaker/product-reviews/B07H7SF7TL/ref=cm_cr_dp_d_show_all_btm?ie=UTF8&reviewerType=all_reviews&pageNumber=\",\n\"Manuel\",\n\"February 12, 2024\",\n\"5.0 out of 5 stars\\nComfortable and look great!\",\n{\n            'v': 5,\n            'f': \"5\",\n        },\n\"These shoes fit me well, but I do have narrow feet. These may not be your jam if you desire a bigger toe box. They look awesome though!\"],\n [{\n            'v': 115,\n            'f': \"115\",\n        },\n{\n            'v': 116,\n            'f': \"116\",\n        },\n\"Nike Men's Sneaker\",\n\"https://www.amazon.com/Nike-CZ1884-011-Mens-Sneaker/product-reviews/B074GXFV5X/ref=cm_cr_dp_d_show_all_btm?ie=UTF8&reviewerType=all_reviews&pageNumber=\",\n\"nat\",\n\"October 22, 2023\",\n\"5.0 out of 5 stars\\nFit small, size up!\",\n{\n            'v': 5,\n            'f': \"5\",\n        },\n\"The media could not be loaded.\\n                \\nOverall they are very comfy and look nice.They do fit smaller than regular sneakers so make sure to size up. Good quality!\"],\n [{\n            'v': 116,\n            'f': \"116\",\n        },\n{\n            'v': 117,\n            'f': \"117\",\n        },\n\"Nike mens Free Metcon 4\",\n\"https://www.amazon.com/Nike-mens-Free-Metcon-4/product-reviews/B0CPXLVJJY/ref=cm_cr_dp_d_show_all_btm?ie=UTF8&reviewerType=all_reviews&pageNumber=\",\n\"Dee'Lighted\",\n\"February 9, 2024\",\n\"5.0 out of 5 stars\\nComfort and stability for training\",\n{\n            'v': 5,\n            'f': \"5\",\n        },\n\"My Nikes came in w/out a box, wrapped in plastic, in a plastic bag... It surprised me that it didn't get any damage while traveling... Thankfully! These fit great (I'm usually a size 11, maybe 10.5... but after seeing some reviews all over, I decided to buy a 11.5 and it fit perfectly). These tennis are great for training, great stability while lifting weights (something I was missing by using running shoes). The color is even louder and better live than as seen in these pics. Take a chance!\"],\n [{\n            'v': 117,\n            'f': \"117\",\n        },\n{\n            'v': 118,\n            'f': \"118\",\n        },\n\"Nike Men's Air Zoom Pegasus 38 Running Shoe\",\n\"https://www.amazon.com/Nike-Mens-Stroke-Running-Shoe/product-reviews/B08R4T8Z9D/ref=cm_cr_dp_d_show_all_btm?ie=UTF8&reviewerType=all_reviews&pageNumber=\",\n\"John E. Adams\",\n\"February 13, 2024\",\n\"5.0 out of 5 stars\\nGreat product\",\n{\n            'v': 5,\n            'f': \"5\",\n        },\n\"Lightweight, feels like jogging on air\"],\n [{\n            'v': 118,\n            'f': \"118\",\n        },\n{\n            'v': 119,\n            'f': \"119\",\n        },\n\"Nike Men's Lunar MVP Pregame\",\n\"https://www.amazon.com/Nike-Mens-Lunar-MVP-Pregame/product-reviews/B0752TVT14/ref=cm_cr_dp_d_show_all_btm?ie=UTF8&reviewerType=all_reviews&pageNumber=\",\n\"Prabhjot\",\n\"January 24, 2024\",\n\"5.0 out of 5 stars\\nPerfect shoes\",\n{\n            'v': 5,\n            'f': \"5\",\n        },\n\"My son loves these great designed shoes. He wears them all day and are comfortable. His friends also wear similar shoes and it adds to his confidence.\"],\n [{\n            'v': 119,\n            'f': \"119\",\n        },\n{\n            'v': 120,\n            'f': \"120\",\n        },\n\"Nike Men's Rosherun Running Shoe\",\n\"https://www.amazon.com/Nike-Mens-Rosherun-Running-Shoe/product-reviews/B08B5HW4L2/ref=cm_cr_dp_d_show_all_btm?ie=UTF8&reviewerType=all_reviews&pageNumber=\",\n\"Jose P.\",\n\"October 5, 2023\",\n\"5.0 out of 5 stars\\nHigh quality product as expected.\",\n{\n            'v': 5,\n            'f': \"5\",\n        },\n\"High quality product. Delivered in time.\"],\n [{\n            'v': 120,\n            'f': \"120\",\n        },\n{\n            'v': 121,\n            'f': \"121\",\n        },\n\"Nike Men's Sneaker\",\n\"https://www.amazon.com/Nike-DD6203-004-Mens-Sneaker/product-reviews/B0B6G2Z5G8/ref=cm_cr_dp_d_show_all_btm?ie=UTF8&reviewerType=all_reviews&pageNumber=\",\n\"Naris Ahimbisibwe\",\n\"December 31, 2023\",\n\"5.0 out of 5 stars\\nVery comfortable\",\n{\n            'v': 5,\n            'f': \"5\",\n        },\n\"Comfortable\"],\n [{\n            'v': 121,\n            'f': \"121\",\n        },\n{\n            'v': 122,\n            'f': \"122\",\n        },\n\"Nike mens Air Max Pre-Day Running\",\n\"https://www.amazon.com/Nike-mens-Air-Pre-Day-Running/product-reviews/B0CPTH1BWS/ref=cm_cr_dp_d_show_all_btm?ie=UTF8&reviewerType=all_reviews&pageNumber=\",\n\"Arthur terrasas\",\n\"February 25, 2024\",\n\"5.0 out of 5 stars\\nComfort\",\n{\n            'v': 5,\n            'f': \"5\",\n        },\n\"These sneaker are comfortable good buy\\u00f0\\u009f\\u0091\\u008d\\u00f0\\u009f\\u008f\\u00bdthe size is a true fit\"],\n [{\n            'v': 122,\n            'f': \"122\",\n        },\n{\n            'v': 123,\n            'f': \"123\",\n        },\n\"Nike mens Pegasus Trail 3 Running\",\n\"https://www.amazon.com/Nike-mens-Pegasus-Trail-Running/product-reviews/B0CPTFMBV4/ref=cm_cr_dp_d_show_all_btm?ie=UTF8&reviewerType=all_reviews&pageNumber=\",\n\"GSL\",\n\"February 29, 2024\",\n\"5.0 out of 5 stars\\nFantastic Shoe\\u00e2\\u0080\\u00a6more than expected.\",\n{\n            'v': 5,\n            'f': \"5\",\n        },\n\"This shoe is the perfect fit, perfect weight, perfect support, perfect style.  What\\u00e2\\u0080\\u0099s better than perfect\\u00e2\\u0080\\u00a6.nothing! Buy this shoes (I have it in three colors) and will buy it to infinity.\"],\n [{\n            'v': 123,\n            'f': \"123\",\n        },\n{\n            'v': 124,\n            'f': \"124\",\n        },\n\"Nike Men's Sneakers Running Shoes\",\n\"https://www.amazon.com/Nike-Mens-Correlate-Running-Shoe/product-reviews/B00A8P10XI/ref=cm_cr_dp_d_show_all_btm?ie=UTF8&reviewerType=all_reviews&pageNumber=\",\n\"Adam Foltz\",\n\"January 28, 2024\",\n\"5.0 out of 5 stars\\nGreat classic shoes\",\n{\n            'v': 5,\n            'f': \"5\",\n        },\n\"Classic Nike air look and they fit pretty good. Definitely real. They\\u00e2\\u0080\\u0099re a tad snug but that\\u00e2\\u0080\\u0099s typical for Nike.\"],\n [{\n            'v': 124,\n            'f': \"124\",\n        },\n{\n            'v': 125,\n            'f': \"125\",\n        },\n\"Nike mens Metcon 8 Workout\",\n\"https://www.amazon.com/Nike-mens-Metcon-8-Workout/product-reviews/B0CPTGTM1Y/ref=cm_cr_dp_d_show_all_btm?ie=UTF8&reviewerType=all_reviews&pageNumber=\",\n\"Ryan Nash\",\n\"February 22, 2024\",\n\"5.0 out of 5 stars\\nWorking great as lifting shoes\",\n{\n            'v': 5,\n            'f': \"5\",\n        },\n\"Fit is comfortable and sizing is as expected. These are working out great so far as gym/lifting shoes.\"],\n [{\n            'v': 125,\n            'f': \"125\",\n        },\n{\n            'v': 126,\n            'f': \"126\",\n        },\n\"Nike Women's Air Max Excee Shoes\",\n\"https://www.amazon.com/Nike-Womens-Air-Excee-Shoes/product-reviews/B0CN1RNB5R/ref=cm_cr_dp_d_show_all_btm?ie=UTF8&reviewerType=all_reviews&pageNumber=\",\n\"Nicole Monahan\",\n\"February 20, 2024\",\n\"5.0 out of 5 stars\\nGreat look\",\n{\n            'v': 5,\n            'f': \"5\",\n        },\n\"Took a little longer than expected to get them. But the shoes are great. Exactly what I wanted\"],\n [{\n            'v': 126,\n            'f': \"126\",\n        },\n{\n            'v': 127,\n            'f': \"127\",\n        },\n\"Nike mens React Infinity 3\",\n\"https://www.amazon.com/Nike-mens-React-Infinity-3/product-reviews/B0CPXJP9G2/ref=cm_cr_dp_d_show_all_btm?ie=UTF8&reviewerType=all_reviews&pageNumber=\",\n\"Triccia Go\",\n\"January 12, 2024\",\n\"5.0 out of 5 stars\\nDurable, comfortable everyday shoes\",\n{\n            'v': 5,\n            'f': \"5\",\n        },\n\"As title says, these are super durable and comfortable for everyday use and running. Been wearing these everyday for four months and they still have no visible wear and tear.\"],\n [{\n            'v': 127,\n            'f': \"127\",\n        },\n{\n            'v': 128,\n            'f': \"128\",\n        },\n\"Nike mens Running\",\n\"https://www.amazon.com/Nike-mens-Running/product-reviews/B0CPTFN3QD/ref=cm_cr_dp_d_show_all_btm?ie=UTF8&reviewerType=all_reviews&pageNumber=\",\n\"Mike Kramer\",\n\"January 22, 2024\",\n\"5.0 out of 5 stars\\nGood shoe\",\n{\n            'v': 5,\n            'f': \"5\",\n        },\n\"Good fit, decent style for 14 year old, and reasonably priced\"],\n [{\n            'v': 128,\n            'f': \"128\",\n        },\n{\n            'v': 129,\n            'f': \"129\",\n        },\n\"adidas Men's Daily 3.0 Sneaker\",\n\"https://www.amazon.com/adidas-GW6421-Mens-Sneaker/product-reviews/B0B69FQ4GY/ref=cm_cr_dp_d_show_all_btm?ie=UTF8&reviewerType=all_reviews&pageNumber=\",\n\"Kole Riley\",\n\"February 27, 2024\",\n\"5.0 out of 5 stars\\nClassic shoe for everyday wear\",\n{\n            'v': 5,\n            'f': \"5\",\n        },\n\"I love these shoes. I thought I\\u00e2\\u0080\\u0099d have to break these shoes in, but they fit perfectly and comfortably immediately. I typically wear a size 11, which is the size I purchased, and they were true to fit. These have a classic style that I can wear as everyday shoes. I\\u00e2\\u0080\\u0099d absolutely buy another pair.\"]],\n        columns: [[\"number\", \"index\"], [\"number\", \"Unnamed: 0\"], [\"string\", \"productTitle\"], [\"string\", \"productURL\"], [\"string\", \"Customer Name\"], [\"string\", \"Date\"], [\"string\", \"Review Title\"], [\"number\", \"Rating\"], [\"string\", \"Review Body\"]],\n        columnOptions: [{\"width\": \"1px\", \"className\": \"index_column\"}],\n        rowsPerPage: 25,\n        helpUrl: \"https://colab.research.google.com/notebooks/data_table.ipynb\",\n        suppressOutputScrolling: true,\n        minimumWidth: undefined,\n      });\n\n      function appendQuickchartButton(parentElement) {\n        let quickchartButtonContainerElement = document.createElement('div');\n        quickchartButtonContainerElement.innerHTML = `\n<div id=\"df-6d3394a2-12d3-45dd-ab24-2f72c80fd2f4\">\n  <button class=\"colab-df-quickchart\" onclick=\"quickchart('df-6d3394a2-12d3-45dd-ab24-2f72c80fd2f4')\"\n            title=\"Suggest charts\"\n            style=\"display:none;\">\n    \n<svg xmlns=\"http://www.w3.org/2000/svg\" height=\"24px\"viewBox=\"0 0 24 24\"\n     width=\"24px\">\n    <g>\n        <path d=\"M19 3H5c-1.1 0-2 .9-2 2v14c0 1.1.9 2 2 2h14c1.1 0 2-.9 2-2V5c0-1.1-.9-2-2-2zM9 17H7v-7h2v7zm4 0h-2V7h2v10zm4 0h-2v-4h2v4z\"/>\n    </g>\n</svg>\n  </button>\n  \n<style>\n  .colab-df-quickchart {\n      --bg-color: #E8F0FE;\n      --fill-color: #1967D2;\n      --hover-bg-color: #E2EBFA;\n      --hover-fill-color: #174EA6;\n      --disabled-fill-color: #AAA;\n      --disabled-bg-color: #DDD;\n  }\n\n  [theme=dark] .colab-df-quickchart {\n      --bg-color: #3B4455;\n      --fill-color: #D2E3FC;\n      --hover-bg-color: #434B5C;\n      --hover-fill-color: #FFFFFF;\n      --disabled-bg-color: #3B4455;\n      --disabled-fill-color: #666;\n  }\n\n  .colab-df-quickchart {\n    background-color: var(--bg-color);\n    border: none;\n    border-radius: 50%;\n    cursor: pointer;\n    display: none;\n    fill: var(--fill-color);\n    height: 32px;\n    padding: 0;\n    width: 32px;\n  }\n\n  .colab-df-quickchart:hover {\n    background-color: var(--hover-bg-color);\n    box-shadow: 0 1px 2px rgba(60, 64, 67, 0.3), 0 1px 3px 1px rgba(60, 64, 67, 0.15);\n    fill: var(--button-hover-fill-color);\n  }\n\n  .colab-df-quickchart-complete:disabled,\n  .colab-df-quickchart-complete:disabled:hover {\n    background-color: var(--disabled-bg-color);\n    fill: var(--disabled-fill-color);\n    box-shadow: none;\n  }\n\n  .colab-df-spinner {\n    border: 2px solid var(--fill-color);\n    border-color: transparent;\n    border-bottom-color: var(--fill-color);\n    animation:\n      spin 1s steps(1) infinite;\n  }\n\n  @keyframes spin {\n    0% {\n      border-color: transparent;\n      border-bottom-color: var(--fill-color);\n      border-left-color: var(--fill-color);\n    }\n    20% {\n      border-color: transparent;\n      border-left-color: var(--fill-color);\n      border-top-color: var(--fill-color);\n    }\n    30% {\n      border-color: transparent;\n      border-left-color: var(--fill-color);\n      border-top-color: var(--fill-color);\n      border-right-color: var(--fill-color);\n    }\n    40% {\n      border-color: transparent;\n      border-right-color: var(--fill-color);\n      border-top-color: var(--fill-color);\n    }\n    60% {\n      border-color: transparent;\n      border-right-color: var(--fill-color);\n    }\n    80% {\n      border-color: transparent;\n      border-right-color: var(--fill-color);\n      border-bottom-color: var(--fill-color);\n    }\n    90% {\n      border-color: transparent;\n      border-bottom-color: var(--fill-color);\n    }\n  }\n</style>\n\n  <script>\n    async function quickchart(key) {\n      const quickchartButtonEl =\n        document.querySelector('#' + key + ' button');\n      quickchartButtonEl.disabled = true;  // To prevent multiple clicks.\n      quickchartButtonEl.classList.add('colab-df-spinner');\n      try {\n        const charts = await google.colab.kernel.invokeFunction(\n            'suggestCharts', [key], {});\n      } catch (error) {\n        console.error('Error during call to suggestCharts:', error);\n      }\n      quickchartButtonEl.classList.remove('colab-df-spinner');\n      quickchartButtonEl.classList.add('colab-df-quickchart-complete');\n    }\n    (() => {\n      let quickchartButtonEl =\n        document.querySelector('#df-6d3394a2-12d3-45dd-ab24-2f72c80fd2f4 button');\n      quickchartButtonEl.style.display =\n        google.colab.kernel.accessAllowed ? 'block' : 'none';\n    })();\n  </script>\n</div>`;\n        parentElement.appendChild(quickchartButtonContainerElement);\n      }\n\n      appendQuickchartButton(table);\n    ",
            "text/plain": [
              "<google.colab.data_table.DataTable object>"
            ]
          },
          "metadata": {},
          "execution_count": 3
        }
      ]
    },
    {
      "source": [
        "# @title Rating\n",
        "\n",
        "from matplotlib import pyplot as plt\n",
        "sentiment_data['Rating'].plot(kind='line', figsize=(8, 4), title='Rating')\n",
        "plt.gca().spines[['top', 'right']].set_visible(False)"
      ],
      "cell_type": "code",
      "execution_count": 4,
      "outputs": [
        {
          "output_type": "display_data",
          "data": {
            "text/plain": [
              "<Figure size 800x400 with 1 Axes>"
            ],
            "image/png": "[encoded data removed]"
          },
          "metadata": {}
        }
      ],
      "metadata": {
        "colab": {
          "base_uri": "https://localhost:8080/",
          "height": 391
        },
        "id": "RDD0ZYFUftQh",
        "outputId": "7f0dccca-a373-42f9-d268-c396ee2b5b78"
      }
    },
    {
      "source": [
        "# @title Date vs count()\n",
        "\n",
        "from matplotlib import pyplot as plt\n",
        "import seaborn as sns\n",
        "def _plot_series(series, series_name, series_index=0):\n",
        "  palette = list(sns.palettes.mpl_palette('Dark2'))\n",
        "  counted = (series['Date']\n",
        "                .value_counts()\n",
        "              .reset_index(name='counts')\n",
        "              .rename({'index': 'Date'}, axis=1)\n",
        "              .sort_values('Date', ascending=True))\n",
        "  xs = counted['Date']\n",
        "  ys = counted['counts']\n",
        "  plt.plot(xs, ys, label=series_name, color=palette[series_index % len(palette)])\n",
        "\n",
        "fig, ax = plt.subplots(figsize=(10, 5.2), layout='constrained')\n",
        "df_sorted = sentiment_data.sort_values('Date', ascending=True)\n",
        "_plot_series(df_sorted, '')\n",
        "sns.despine(fig=fig, ax=ax)\n",
        "plt.xlabel('Date')\n",
        "_ = plt.ylabel('count()')"
      ],
      "cell_type": "code",
      "execution_count": 5,
      "outputs": [
        {
          "output_type": "display_data",
          "data": {
            "text/plain": [
              "<Figure size 1000x520 with 1 Axes>"
            ],
            "image/png": "[encoded data removed]"
          },
          "metadata": {}
        }
      ],
      "metadata": {
        "colab": {
          "base_uri": "https://localhost:8080/",
          "height": 548
        },
        "id": "t5uQ0BGGfmiP",
        "outputId": "45f8bbef-b44b-489e-b600-55ab4fa6d3e7"
      }
    },
    {
      "cell_type": "code",
      "source": [
        "sentiment_data.shape"
      ],
      "metadata": {
        "colab": {
          "base_uri": "https://localhost:8080/"
        },
        "id": "feh5ws6iE6ut",
        "outputId": "b8409546-246f-453f-ae13-bf6909c9d927"
      },
      "execution_count": 6,
      "outputs": [
        {
          "output_type": "execute_result",
          "data": {
            "text/plain": [
              "(129, 8)"
            ]
          },
          "metadata": {},
          "execution_count": 6
        }
      ]
    },
    {
      "cell_type": "code",
      "source": [
        "sentiment_data.info()\n"
      ],
      "metadata": {
        "colab": {
          "base_uri": "https://localhost:8080/"
        },
        "id": "STqWs5KBFFoK",
        "outputId": "adc64975-31de-4a85-c5e3-5195efe90d7f"
      },
      "execution_count": 7,
      "outputs": [
        {
          "output_type": "stream",
          "name": "stdout",
          "text": [
            "<class 'pandas.core.frame.DataFrame'>\n",
            "RangeIndex: 129 entries, 0 to 128\n",
            "Data columns (total 8 columns):\n",
            " #   Column         Non-Null Count  Dtype \n",
            "---  ------         --------------  ----- \n",
            " 0   Unnamed: 0     129 non-null    int64 \n",
            " 1   productTitle   129 non-null    object\n",
            " 2   productURL     129 non-null    object\n",
            " 3   Customer Name  129 non-null    object\n",
            " 4   Date           129 non-null    object\n",
            " 5   Review Title   129 non-null    object\n",
            " 6   Rating         129 non-null    int64 \n",
            " 7   Review Body    129 non-null    object\n",
            "dtypes: int64(2), object(6)\n",
            "memory usage: 8.2+ KB\n"
          ]
        }
      ]
    },
    {
      "cell_type": "code",
      "source": [
        "sentiment_data.shape"
      ],
      "metadata": {
        "colab": {
          "base_uri": "https://localhost:8080/"
        },
        "outputId": "6c2bba78-0e96-4c16-d53d-d12d4b55e4f2",
        "id": "F2H2ahG7CEG9"
      },
      "execution_count": 8,
      "outputs": [
        {
          "output_type": "execute_result",
          "data": {
            "text/plain": [
              "(129, 8)"
            ]
          },
          "metadata": {},
          "execution_count": 8
        }
      ]
    },
    {
      "cell_type": "code",
      "source": [
        "sentiment_data.isnull().sum()\n"
      ],
      "metadata": {
        "colab": {
          "base_uri": "https://localhost:8080/",
          "height": 335
        },
        "id": "iTj_DoiCFoi7",
        "outputId": "abc3a6ea-69c8-483a-d4d6-f71c1d4e1e03"
      },
      "execution_count": 9,
      "outputs": [
        {
          "output_type": "execute_result",
          "data": {
            "text/plain": [
              "Unnamed: 0       0\n",
              "productTitle     0\n",
              "productURL       0\n",
              "Customer Name    0\n",
              "Date             0\n",
              "Review Title     0\n",
              "Rating           0\n",
              "Review Body      0\n",
              "dtype: int64"
            ],
            "text/html": [
              "<div>\n",
              "<style scoped>\n",
              "    .dataframe tbody tr th:only-of-type {\n",
              "        vertical-align: middle;\n",
              "    }\n",
              "\n",
              "    .dataframe tbody tr th {\n",
              "        vertical-align: top;\n",
              "    }\n",
              "\n",
              "    .dataframe thead th {\n",
              "        text-align: right;\n",
              "    }\n",
              "</style>\n",
              "<table border=\"1\" class=\"dataframe\">\n",
              "  <thead>\n",
              "    <tr style=\"text-align: right;\">\n",
              "      <th></th>\n",
              "      <th>0</th>\n",
              "    </tr>\n",
              "  </thead>\n",
              "  <tbody>\n",
              "    <tr>\n",
              "      <th>Unnamed: 0</th>\n",
              "      <td>0</td>\n",
              "    </tr>\n",
              "    <tr>\n",
              "      <th>productTitle</th>\n",
              "      <td>0</td>\n",
              "    </tr>\n",
              "    <tr>\n",
              "      <th>productURL</th>\n",
              "      <td>0</td>\n",
              "    </tr>\n",
              "    <tr>\n",
              "      <th>Customer Name</th>\n",
              "      <td>0</td>\n",
              "    </tr>\n",
              "    <tr>\n",
              "      <th>Date</th>\n",
              "      <td>0</td>\n",
              "    </tr>\n",
              "    <tr>\n",
              "      <th>Review Title</th>\n",
              "      <td>0</td>\n",
              "    </tr>\n",
              "    <tr>\n",
              "      <th>Rating</th>\n",
              "      <td>0</td>\n",
              "    </tr>\n",
              "    <tr>\n",
              "      <th>Review Body</th>\n",
              "      <td>0</td>\n",
              "    </tr>\n",
              "  </tbody>\n",
              "</table>\n",
              "</div><br><label><b>dtype:</b> int64</label>"
            ]
          },
          "metadata": {},
          "execution_count": 9
        }
      ]
    },
    {
      "cell_type": "code",
      "source": [
        "pd.unique(sentiment_data['Rating'])\n"
      ],
      "metadata": {
        "id": "PQWDdByxRV7o",
        "colab": {
          "base_uri": "https://localhost:8080/"
        },
        "outputId": "9e9a7b30-c1fc-474c-aa85-14ce1102e0d5"
      },
      "execution_count": 10,
      "outputs": [
        {
          "output_type": "execute_result",
          "data": {
            "text/plain": [
              "array([5, 3, 1, 4, 2])"
            ]
          },
          "metadata": {},
          "execution_count": 10
        }
      ]
    },
    {
      "cell_type": "markdown",
      "source": [
        "**Rating graph**"
      ],
      "metadata": {
        "id": "n7XQJZvFLnOJ"
      }
    },
    {
      "cell_type": "code",
      "source": [
        "import seaborn as sns\n",
        "import matplotlib.pyplot as plt\n",
        "\n",
        "sns.countplot(data=sentiment_data, x='Rating', order=sentiment_data['Rating'].value_counts().index)\n",
        "plt.show()\n"
      ],
      "metadata": {
        "colab": {
          "base_uri": "https://localhost:8080/",
          "height": 449
        },
        "id": "djESmTd1s5ZY",
        "outputId": "1a9398b2-803f-41ec-b898-1d9f98d8b8b1"
      },
      "execution_count": 11,
      "outputs": [
        {
          "output_type": "display_data",
          "data": {
            "text/plain": [
              "<Figure size 640x480 with 1 Axes>"
            ],
            "image/png": "[encoded data removed]"
          },
          "metadata": {}
        }
      ]
    },
    {
      "cell_type": "markdown",
      "source": [
        "**Creating \" sentiment \" Column**"
      ],
      "metadata": {
        "id": "8yqyDxKpLD3o"
      }
    },
    {
      "cell_type": "code",
      "source": [
        "import pandas as pd\n",
        "\n",
        "# Assuming sentiment_data is your DataFrame\n",
        "# Create an empty list to store positive (1), negative (0), or neutral (2) labels\n",
        "pos_neg_neutral = []\n",
        "\n",
        "# Iterate through the 'Rating' column\n",
        "for rating in sentiment_data['Rating']:\n",
        "    if rating >= 5:\n",
        "        pos_neg_neutral.append(1)  # Positive\n",
        "    elif rating <= 2:\n",
        "        pos_neg_neutral.append(0)  # Negative\n",
        "    else:\n",
        "        pos_neg_neutral.append(2)  # Neutral\n",
        "\n",
        "# Add the 'sentiments' column to the DataFrame\n",
        "sentiment_data['sentiments'] = pos_neg_neutral\n"
      ],
      "metadata": {
        "id": "HsCPH49WwqPr"
      },
      "execution_count": 12,
      "outputs": []
    },
    {
      "cell_type": "markdown",
      "source": [
        "**Review-Text-Punctuation cleaning**"
      ],
      "metadata": {
        "id": "0sEIM6RULWDs"
      }
    },
    {
      "cell_type": "code",
      "source": [
        "from tqdm import tqdm\n",
        "\n",
        "\n",
        "def preprocess_text(text_data):\n",
        "\tpreprocessed_text = []\n",
        "\n",
        "\tfor sentence in tqdm(text_data):\n",
        "\t\t# Removing punctuations\n",
        "\t\tsentence = re.sub(r'[^\\w\\s]', '', sentence)\n",
        "\n",
        "\t\t# Converting lowercase and removing stopwords\n",
        "\t\tpreprocessed_text.append(' '.join(token.lower()\n",
        "\t\t\t\t\t\t\t\t\t\tfor token in nltk.word_tokenize(sentence)\n",
        "\t\t\t\t\t\t\t\t\t\tif token.lower() not in stopwords.words('english')))\n",
        "\n",
        "\treturn preprocessed_text\n"
      ],
      "metadata": {
        "id": "5-6gCWH_w9ou"
      },
      "execution_count": 13,
      "outputs": []
    },
    {
      "cell_type": "code",
      "source": [
        "# Assuming you have a function named preprocessed_text\n",
        "def preprocessed_text(text):\n",
        "  sentiment_data['Review Body'] = sentiment_data['Review Body'].apply(preprocessed_text)\n",
        "\n"
      ],
      "metadata": {
        "id": "fHbHhsefxJzX"
      },
      "execution_count": 14,
      "outputs": []
    },
    {
      "cell_type": "code",
      "source": [
        "from google.colab import files\n",
        "import pandas as pd\n",
        "\n",
        "# Assuming sentiment_data is your DataFrame\n",
        "sentiment_data.head(50)\n",
        "\n",
        "# Save the DataFrame to a CSV file\n",
        "sentiment_data.to_csv('sentiment.csv', index=False)\n",
        "\n",
        "# Download the CSV file\n",
        "files.download('sentiment.csv')\n"
      ],
      "metadata": {
        "colab": {
          "base_uri": "https://localhost:8080/",
          "height": 17
        },
        "id": "c4s_VcW6y3Lb",
        "outputId": "f51e6672-6e66-44d9-d044-3eeb46fc6a81"
      },
      "execution_count": 15,
      "outputs": [
        {
          "output_type": "display_data",
          "data": {
            "text/plain": [
              "<IPython.core.display.Javascript object>"
            ],
            "application/javascript": [
              "\n",
              "    async function download(id, filename, size) {\n",
              "      if (!google.colab.kernel.accessAllowed) {\n",
              "        return;\n",
              "      }\n",
              "      const div = document.createElement('div');\n",
              "      const label = document.createElement('label');\n",
              "      label.textContent = `Downloading \"${filename}\": `;\n",
              "      div.appendChild(label);\n",
              "      const progress = document.createElement('progress');\n",
              "      progress.max = size;\n",
              "      div.appendChild(progress);\n",
              "      document.body.appendChild(div);\n",
              "\n",
              "      const buffers = [];\n",
              "      let downloaded = 0;\n",
              "\n",
              "      const channel = await google.colab.kernel.comms.open(id);\n",
              "      // Send a message to notify the kernel that we're ready.\n",
              "      channel.send({})\n",
              "\n",
              "      for await (const message of channel.messages) {\n",
              "        // Send a message to notify the kernel that we're ready.\n",
              "        channel.send({})\n",
              "        if (message.buffers) {\n",
              "          for (const buffer of message.buffers) {\n",
              "            buffers.push(buffer);\n",
              "            downloaded += buffer.byteLength;\n",
              "            progress.value = downloaded;\n",
              "          }\n",
              "        }\n",
              "      }\n",
              "      const blob = new Blob(buffers, {type: 'application/binary'});\n",
              "      const a = document.createElement('a');\n",
              "      a.href = window.URL.createObjectURL(blob);\n",
              "      a.download = filename;\n",
              "      div.appendChild(a);\n",
              "      a.click();\n",
              "      div.remove();\n",
              "    }\n",
              "  "
            ]
          },
          "metadata": {}
        },
        {
          "output_type": "display_data",
          "data": {
            "text/plain": [
              "<IPython.core.display.Javascript object>"
            ],
            "application/javascript": [
              "download(\"download_8d1e7876-57c1-4d7d-bee9-e460ec9549c4\", \"sentiment.csv\", 71163)"
            ]
          },
          "metadata": {}
        }
      ]
    },
    {
      "cell_type": "code",
      "source": [
        "sentiment_data[\"sentiments\"].value_counts()"
      ],
      "metadata": {
        "colab": {
          "base_uri": "https://localhost:8080/"
        },
        "id": "Q34MHwxmzbyQ",
        "outputId": "c29b8f27-5af5-4bed-a204-1073ccd25bd0"
      },
      "execution_count": null,
      "outputs": [
        {
          "output_type": "execute_result",
          "data": {
            "text/plain": [
              "1    124\n",
              "2      3\n",
              "0      3\n",
              "Name: sentiments, dtype: int64"
            ]
          },
          "metadata": {},
          "execution_count": 20
        }
      ]
    },
    {
      "cell_type": "markdown",
      "source": [
        "**Date vs Sentiment count**"
      ],
      "metadata": {
        "id": "GR1UXXH8KnNk"
      }
    },
    {
      "cell_type": "code",
      "source": [
        "import pandas as pd\n",
        "import matplotlib.pyplot as plt\n",
        "\n",
        "# Ensure 'Date' column is in datetime format and sort\n",
        "sentiment_data['Date'] = pd.to_datetime(sentiment_data['Date'])\n",
        "sentiment_counts = sentiment_data.groupby(['Date', 'sentiments'])['sentiments'].count().unstack().reset_index()\n",
        "sentiment_counts = sentiment_counts.sort_values(by='Date')  # Sort by date\n",
        "\n",
        "# Plot using a line chart\n",
        "plt.figure(figsize=(12, 6))\n",
        "for sentiment in sentiment_counts.columns[1:]:  # Skip 'Date' column\n",
        "    plt.plot(sentiment_counts['Date'], sentiment_counts[sentiment], marker='o', label=sentiment)\n",
        "\n",
        "plt.title('Sentiment Trends Over Time')\n",
        "plt.xlabel('Date')\n",
        "plt.ylabel('Sentiment Count')\n",
        "\n",
        "# Format x-axis for better readability\n",
        "plt.xticks(rotation=45)\n",
        "plt.gca().xaxis.set_major_locator(plt.MaxNLocator(10))  # Show limited ticks for clarity\n",
        "\n",
        "plt.legend(title=\"Sentiments\")\n",
        "plt.grid(True)\n",
        "plt.show()\n",
        "\n"
      ],
      "metadata": {
        "id": "hq5T5mjJzkxS",
        "colab": {
          "base_uri": "https://localhost:8080/",
          "height": 617
        },
        "outputId": "8a543d12-98c8-49ae-cbba-8e271dcc9fb5"
      },
      "execution_count": 19,
      "outputs": [
        {
          "output_type": "display_data",
          "data": {
            "text/plain": [
              "<Figure size 1200x600 with 1 Axes>"
            ],
            "image/png": "[encoded data removed]"
          },
          "metadata": {}
        }
      ]
    },
    {
      "cell_type": "markdown",
      "source": [
        "**Calculate sentiment polarity, review length, and word count**"
      ],
      "metadata": {
        "id": "qnyjsS4OK327"
      }
    },
    {
      "cell_type": "code",
      "source": [
        "!pip install textblob"
      ],
      "metadata": {
        "colab": {
          "base_uri": "https://localhost:8080/"
        },
        "id": "ncJm6x9otr-w",
        "outputId": "81424950-69b2-48b1-c30e-4499f68ca93f"
      },
      "execution_count": 20,
      "outputs": [
        {
          "output_type": "stream",
          "name": "stdout",
          "text": [
            "Requirement already satisfied: textblob in /usr/local/lib/python3.11/dist-packages (0.19.0)\n",
            "Requirement already satisfied: nltk>=3.9 in /usr/local/lib/python3.11/dist-packages (from textblob) (3.9.1)\n",
            "Requirement already satisfied: click in /usr/local/lib/python3.11/dist-packages (from nltk>=3.9->textblob) (8.1.8)\n",
            "Requirement already satisfied: joblib in /usr/local/lib/python3.11/dist-packages (from nltk>=3.9->textblob) (1.4.2)\n",
            "Requirement already satisfied: regex>=2021.8.3 in /usr/local/lib/python3.11/dist-packages (from nltk>=3.9->textblob) (2024.11.6)\n",
            "Requirement already satisfied: tqdm in /usr/local/lib/python3.11/dist-packages (from nltk>=3.9->textblob) (4.67.1)\n"
          ]
        }
      ]
    },
    {
      "cell_type": "code",
      "source": [
        "import pandas as pd\n",
        "from textblob import TextBlob\n",
        "\n",
        "# Load your dataset\n",
        "df = pd.read_csv('sentiment.csv', encoding='latin-1')\n",
        "\n",
        "# Calculate sentiment polarity, review length, and word count\n",
        "df['polarity'] = df['Review Body'].apply(lambda text: TextBlob(str(text)).sentiment.polarity)\n",
        "df['word_count'] = df['Review Body'].apply(lambda x: len(str(x).split()))\n",
        "df['review_len'] = df['Review Body'].astype(str).apply(len)\n",
        "\n"
      ],
      "metadata": {
        "id": "gHoQYcxaSXSH"
      },
      "execution_count": 21,
      "outputs": []
    },
    {
      "cell_type": "code",
      "source": [
        "df.head(36)"
      ],
      "metadata": {
        "colab": {
          "base_uri": "https://localhost:8080/",
          "height": 1000
        },
        "id": "k1oMhbrj4IBW",
        "outputId": "0866731d-6937-4c84-eab6-9c9a623e902b"
      },
      "execution_count": 22,
      "outputs": [
        {
          "output_type": "execute_result",
          "data": {
            "text/plain": [
              "    Unnamed: 0                                       productTitle  \\\n",
              "0            1  Amazon.in:Customer reviews: Puma mens Dazzler ...   \n",
              "1            2  Amazon.in:Customer reviews: Puma Unisex-Adult ...   \n",
              "2            3  Amazon.in:Customer reviews: Puma Unisex-Adult ...   \n",
              "3            4  Amazon.in:Customer reviews: Puma Mens Ultimate...   \n",
              "4            5  Amazon.in:Customer reviews: Puma Mens Melanite...   \n",
              "5            6  Amazon.in:Customer reviews: Puma Unisex Duke I...   \n",
              "6            7  Amazon.in:Customer reviews: Puma Mens Coarse B...   \n",
              "7            8  Amazon.in:Customer reviews: Puma Mens Alfarun ...   \n",
              "8            9  Amazon.in:Customer reviews: Puma Mens Radcliff...   \n",
              "9           10  Amazon.in:Customer reviews: Puma Mens Voltige ...   \n",
              "10          11  Amazon.in:Customer reviews: Puma Unisex-Adult ...   \n",
              "11          12  Amazon.in:Customer reviews: Puma mens Snatch V...   \n",
              "12          13  Amazon.in:Customer reviews: Puma Unisex-Adult ...   \n",
              "13          14  Amazon.in:Customer reviews: Puma Unisex-Adult ...   \n",
              "14          15  Amazon.in:Customer reviews: Puma Men's Knit Sl...   \n",
              "15          16  Amazon.in:Customer reviews: Puma Men's Black R...   \n",
              "16          17  Amazon.in:Customer reviews: Puma unisex-adult ...   \n",
              "17          18  Amazon.in:Customer reviews: Puma Mens Neofuse ...   \n",
              "18          19  Amazon.in:Customer reviews: Puma Unisex Adult ...   \n",
              "19          20  Amazon.in:Customer reviews: Puma Mens Robust V...   \n",
              "20          21  Amazon.in:Customer reviews: Puma Mens Fierce R...   \n",
              "21          22  Amazon.in:Customer reviews: Puma Unisex Adult ...   \n",
              "22          23  Amazon.in:Customer reviews: Puma Unisex-Adult ...   \n",
              "23          24  Amazon.in:Customer reviews: Puma mens Draco Bl...   \n",
              "24          25  Amazon.in:Customer reviews: Puma Mens Cricket ...   \n",
              "25          26  Amazon.in:Customer reviews: Puma Mens Softride...   \n",
              "26          27  Amazon.in:Customer reviews: Puma Unisex-Adult ...   \n",
              "27          28  Amazon.in:Customer reviews: Puma Mens Scorch M...   \n",
              "28          29  Amazon.in:Customer reviews: Puma unisex-adult ...   \n",
              "29          30  Amazon.in:Customer reviews: Puma Unisex R78 SL...   \n",
              "30          31  Amazon.in:Customer reviews: Puma Mens Flyer Ru...   \n",
              "31          32  Amazon.in:Customer reviews: Puma Mens Cricket ...   \n",
              "32          33  Amazon.in:Customer reviews: Puma Women's Enzo ...   \n",
              "33          34  Amazon.in:Customer reviews: Puma Unisex-Adult ...   \n",
              "34          35  Amazon.in:Customer reviews: Puma Mens Amaze Ru...   \n",
              "35          36  Amazon.in:Customer reviews: Puma Unisex Adult ...   \n",
              "\n",
              "                                           productURL  \\\n",
              "0   https://www.amazon.in/Puma-Dazzler-Black-Puma-...   \n",
              "1   https://www.amazon.in/Puma-Unisex-Adult-Smashi...   \n",
              "2   https://www.amazon.in/Puma-Unisex-Adult-Badmin...   \n",
              "3   https://www.amazon.in/Puma-Mens-Ultimate-Ease-...   \n",
              "4   https://www.amazon.in/Puma-Mens-Melanite-Gray-...   \n",
              "5   https://www.amazon.in/Puma-White-Quarry-Runnin...   \n",
              "6   https://www.amazon.in/Puma-Mens-Coarse-Black-W...   \n",
              "7   https://www.amazon.in/Puma-Alfarun-White-Team-...   \n",
              "8   https://www.amazon.in/Puma-Radcliff-Puma-Black...   \n",
              "9   https://www.amazon.in/Puma-Mens-Voltige-Gray-B...   \n",
              "10  https://www.amazon.in/Puma-Unisex-Adult-Black-...   \n",
              "11  https://www.amazon.in/Puma-Snatch-Black-Puma-W...   \n",
              "12  https://www.amazon.in/Puma-Unisex-Adult-Sneake...   \n",
              "13  https://www.amazon.in/Puma-Unisex-Adult-Retali...   \n",
              "14  https://www.amazon.in/PUMA-Mens-Black-Silver-S...   \n",
              "15  https://www.amazon.in/Puma-Black-Radcliff-Spor...   \n",
              "16  https://www.amazon.in/Puma-unisex-adult-COMET-...   \n",
              "17  https://www.amazon.in/Puma-Mens-Neofuse-Gray-W...   \n",
              "18  https://www.amazon.in/Unisexs-Black-Ultra-Gray...   \n",
              "19  https://www.amazon.in/Puma-Robust-Ultra-Gray-Y...   \n",
              "20  https://www.amazon.in/Puma-Fierce-Persian-Blue...   \n",
              "21  https://www.amazon.in/Puma-Unisex-Aviator-Runn...   \n",
              "22  https://www.amazon.in/Puma-Unisex-Adult-Vellfi...   \n",
              "23  https://www.amazon.in/Puma-Black-Silver-Sandal...   \n",
              "24  https://www.amazon.in/Puma-Cricket-Classicat-M...   \n",
              "25  https://www.amazon.in/Puma-Softride-Slip-Runni...   \n",
              "26  https://www.amazon.in/Puma-Unisex-Adult-Resolv...   \n",
              "27  https://www.amazon.in/Puma-Mens-Scorch-Black-W...   \n",
              "28  https://www.amazon.in/Puma-Activate-Peacoat-Ru...   \n",
              "29  https://www.amazon.in/Puma-Mens-PUMA-White-Whi...   \n",
              "30  https://www.amazon.in/Puma-Engineered-White-Co...   \n",
              "31  https://www.amazon.in/Puma-Cricket-HighRun-Whi...   \n",
              "32  https://www.amazon.in/Womens-Metal-Black-Gold-...   \n",
              "33  https://www.amazon.in/Puma-Unisex-Adult-Future...   \n",
              "34  https://www.amazon.in/Puma-Amaze-Runner-White-...   \n",
              "35  https://www.amazon.in/Puma-SF-Future-Cat-Ultra...   \n",
              "\n",
              "               Customer Name       Date  \\\n",
              "0              Ashiq mohanan  08-Jan-24   \n",
              "1              Gurpreet kaur  03-Feb-24   \n",
              "2                         Kf  17-Jan-24   \n",
              "3               Sharmila Das  24-Feb-24   \n",
              "4         Dinesh Kumar Masta  29-Oct-23   \n",
              "5                    Pradeep  21-Jan-24   \n",
              "6             Abhinav Bhutra  13-Feb-24   \n",
              "7                  Ritik roy  01-Feb-24   \n",
              "8                       amit  19-Jan-24   \n",
              "9                  Naveen k.  19-Jan-24   \n",
              "10                 biplob p.  24-Jan-24   \n",
              "11                 souhardya  11-Nov-23   \n",
              "12             Pranal Khyade  04-Sep-23   \n",
              "13                  Sukeerth  14-Feb-24   \n",
              "14               AS Kandhari  27-Dec-22   \n",
              "15                        KS  29-Jan-24   \n",
              "16             vishal sarkar  06-Aug-23   \n",
              "17            Pradip Debnath  10-Feb-24   \n",
              "18                    prasad  07-Jul-22   \n",
              "19               Hinglaj Dan  29-Dec-23   \n",
              "20           Amazon Customer  28-Feb-24   \n",
              "21               Avik Garain  20-Nov-23   \n",
              "22       JOSHI MAHENDRAKUMAR  20-Feb-24   \n",
              "23             Snehangshu b.  06-Dec-23   \n",
              "24  Bad quality. Does't work  13-Feb-24   \n",
              "25                    Nitish  27-Aug-23   \n",
              "26              Vikash Meena  10-Apr-23   \n",
              "27                   Shankar  20-Feb-24   \n",
              "28            Sonakshi sethi  22-Aug-23   \n",
              "29             Bharat Chavan  07-Apr-23   \n",
              "30             raja shekar g  09-Nov-23   \n",
              "31         Angshuman Bedajna  18-Feb-24   \n",
              "32                      Miza  28-Jan-24   \n",
              "33                  Vipin p.  10-Dec-23   \n",
              "34               Placeholder  23-Nov-23   \n",
              "35               Prathmesh H  26-May-20   \n",
              "\n",
              "                                         Review Title  Rating  \\\n",
              "0   5.0 out of 5 stars\\nQuality shoes on affordabl...       5   \n",
              "1                    5.0 out of 5 stars\\nGood product       5   \n",
              "2               5.0 out of 5 stars\\nWorth every Penny       5   \n",
              "3         5.0 out of 5 stars\\nAwesome quality i loved       5   \n",
              "4        5.0 out of 5 stars\\nGood fit and comfortable       5   \n",
              "5                         5.0 out of 5 stars\\nAwesome       5   \n",
              "6   5.0 out of 5 stars\\n**Product Review: Average ...       5   \n",
              "7   5.0 out of 5 stars\\nAt first fit it may would ...       5   \n",
              "8   5.0 out of 5 stars\\nExpensive but worth the money       5   \n",
              "9                   5.0 out of 5 stars\\nBest purchase       5   \n",
              "10                5.0 out of 5 stars\\nSimply worth it       5   \n",
              "11  5.0 out of 5 stars\\nGo for it without a second...       5   \n",
              "12              5.0 out of 5 stars\\nTop notch quality       5   \n",
              "13                 5.0 out of 5 stars\\nExcellent shoe       5   \n",
              "14                     5.0 out of 5 stars\\nGood Shoes       5   \n",
              "15                           5.0 out of 5 stars\\nGood       5   \n",
              "16                    5.0 out of 5 stars\\nlooks good.       5   \n",
              "17  5.0 out of 5 stars\\nGood product beyond the ex...       5   \n",
              "18                        5.0 out of 5 stars\\nAwesome       5   \n",
              "19                  5.0 out of 5 stars\\nAwesome shoes       5   \n",
              "20  5.0 out of 5 stars\\nComfortable and flexibleÃ°...       5   \n",
              "21            5.0 out of 5 stars\\nAwesome for running       5   \n",
              "22                           5.0 out of 5 stars\\nGOOD       5   \n",
              "23                   5.0 out of 5 stars\\nNice product       5   \n",
              "24                           5.0 out of 5 stars\\nPuma       5   \n",
              "25  5.0 out of 5 stars\\nA Deep Dive into the Intri...       5   \n",
              "26               3.0 out of 5 stars\\nDifferent Colour       3   \n",
              "27                    5.0 out of 5 stars\\nNice shoes.       5   \n",
              "28                    5.0 out of 5 stars\\nComfortable       5   \n",
              "29                5.0 out of 5 stars\\nGood investment       5   \n",
              "30           5.0 out of 5 stars\\nToo good is also Bad       5   \n",
              "31       5.0 out of 5 stars\\nNeed better sole cushion       5   \n",
              "32                       5.0 out of 5 stars\\nWorth it       5   \n",
              "33   5.0 out of 5 stars\\nComfortable and good looking       5   \n",
              "34            1.0 out of 5 stars\\nLooks like PT shoes       1   \n",
              "35  5.0 out of 5 stars\\nMust buy if you are Ferrar...       5   \n",
              "\n",
              "                                          Review Body  sentiments  polarity  \\\n",
              "0   Value of money, good build quality, comfortabl...           1  0.194000   \n",
              "1                                     Same as picture           1  0.000000   \n",
              "2   Excellent and very comfortable, superb grip go...           1  0.553333   \n",
              "3   I loved because shoes lightweight soft ..Comfo...           1  0.400000   \n",
              "4   Good quality, lightweight and fit well to my f...           1  0.550000   \n",
              "5   It is a very good shoe, it is not heavy at all...           1  0.452500   \n",
              "6   I recently purchased a pair of shoes that were...           1  0.114897   \n",
              "7   Very happy and satisfied,value of money clearl...           1  0.366667   \n",
              "8   This is the most comfortable sports shoes i ha...           1  0.379259   \n",
              "9   One of the best sneaker in Puma store very lig...           1  0.497500   \n",
              "10  My size is a tad bit smaller than 7 so puma fi...           1  0.200000   \n",
              "11  Product itself is very good as per price, I al...           1  0.260901   \n",
              "12  Top class quality and comfort but there are is...           1  0.280000   \n",
              "13                                           Loved it           1  0.700000   \n",
              "14  Fits well and are comfortable shoes. The first...           1  0.197704   \n",
              "15                 Good buy for my school going girls           1  0.700000   \n",
              "16  These shoes are stylish, comfortable, and prov...           1  0.358333   \n",
              "17  Product is Light weight and nice fit. I am ful...           1  0.475000   \n",
              "18                     The media could not be loaded.           1  0.000000   \n",
              "19  I got it before the delivery date,  very comfo...           1  0.573333   \n",
              "20                      Light weight and looking nice           1  0.500000   \n",
              "21  I completed a mile run within 6 mins during my...           1  0.172222   \n",
              "22                                               Good           1  0.700000   \n",
              "23      Very comfortable and light weight, very nice,           1  0.566667   \n",
              "24                                        Good making           1  0.700000   \n",
              "25  Introduction:In the realm of running shoes, th...           1  0.241529   \n",
              "26  The media could not be loaded.\\n              ...           2  0.288056   \n",
              "27  Very comfortable and easy to wear and remove, ...           1  0.551111   \n",
              "28                  Very comfortable and good quality           1  0.610000   \n",
              "29  IÃ¢ÂÂve been wearing this on a daily basis f...           1  0.051389   \n",
              "30  \"Thrilled with my new shoes-top-notch style an...           1  0.240341   \n",
              "31                                   Sole is too Hard           1 -0.145833   \n",
              "32  Super soft sole. It's been over a year and the...           1  0.286667   \n",
              "33  Only down side is it has suede maybe it's a go...           1  0.386111   \n",
              "34                             Not looks good in real           0  0.450000   \n",
              "35  This are the best andost expensive pair of sho...           1  0.416667   \n",
              "\n",
              "    word_count  review_len  \n",
              "0           29         160  \n",
              "1            3          15  \n",
              "2           15         103  \n",
              "3            7          52  \n",
              "4            9          50  \n",
              "5           27         121  \n",
              "6          310        1925  \n",
              "7           27         157  \n",
              "8           48         237  \n",
              "9           18          94  \n",
              "10          24         124  \n",
              "11         131         719  \n",
              "12          32         166  \n",
              "13           2           8  \n",
              "14          29         147  \n",
              "15           7          34  \n",
              "16          44         301  \n",
              "17          11          59  \n",
              "18           6          30  \n",
              "19          16          88  \n",
              "20           5          29  \n",
              "21          64         384  \n",
              "22           1           4  \n",
              "23           7          45  \n",
              "24           2          11  \n",
              "25         883        6175  \n",
              "26          38         237  \n",
              "27          16          89  \n",
              "28           5          33  \n",
              "29          50         276  \n",
              "30          45         280  \n",
              "31           4          16  \n",
              "32          23         126  \n",
              "33          39         199  \n",
              "34           5          22  \n",
              "35          47         269  "
            ],
            "text/html": [
              "\n",
              "  <div id=\"df-0bf24c83-3a18-4250-8d1c-8562fb8f8188\" class=\"colab-df-container\">\n",
              "    <div>\n",
              "<style scoped>\n",
              "    .dataframe tbody tr th:only-of-type {\n",
              "        vertical-align: middle;\n",
              "    }\n",
              "\n",
              "    .dataframe tbody tr th {\n",
              "        vertical-align: top;\n",
              "    }\n",
              "\n",
              "    .dataframe thead th {\n",
              "        text-align: right;\n",
              "    }\n",
              "</style>\n",
              "<table border=\"1\" class=\"dataframe\">\n",
              "  <thead>\n",
              "    <tr style=\"text-align: right;\">\n",
              "      <th></th>\n",
              "      <th>Unnamed: 0</th>\n",
              "      <th>productTitle</th>\n",
              "      <th>productURL</th>\n",
              "      <th>Customer Name</th>\n",
              "      <th>Date</th>\n",
              "      <th>Review Title</th>\n",
              "      <th>Rating</th>\n",
              "      <th>Review Body</th>\n",
              "      <th>sentiments</th>\n",
              "      <th>polarity</th>\n",
              "      <th>word_count</th>\n",
              "      <th>review_len</th>\n",
              "    </tr>\n",
              "  </thead>\n",
              "  <tbody>\n",
              "    <tr>\n",
              "      <th>0</th>\n",
              "      <td>1</td>\n",
              "      <td>Amazon.in:Customer reviews: Puma mens Dazzler ...</td>\n",
              "      <td>https://www.amazon.in/Puma-Dazzler-Black-Puma-...</td>\n",
              "      <td>Ashiq mohanan</td>\n",
              "      <td>08-Jan-24</td>\n",
              "      <td>5.0 out of 5 stars\\nQuality shoes on affordabl...</td>\n",
              "      <td>5</td>\n",
              "      <td>Value of money, good build quality, comfortabl...</td>\n",
              "      <td>1</td>\n",
              "      <td>0.194000</td>\n",
              "      <td>29</td>\n",
              "      <td>160</td>\n",
              "    </tr>\n",
              "    <tr>\n",
              "      <th>1</th>\n",
              "      <td>2</td>\n",
              "      <td>Amazon.in:Customer reviews: Puma Unisex-Adult ...</td>\n",
              "      <td>https://www.amazon.in/Puma-Unisex-Adult-Smashi...</td>\n",
              "      <td>Gurpreet kaur</td>\n",
              "      <td>03-Feb-24</td>\n",
              "      <td>5.0 out of 5 stars\\nGood product</td>\n",
              "      <td>5</td>\n",
              "      <td>Same as picture</td>\n",
              "      <td>1</td>\n",
              "      <td>0.000000</td>\n",
              "      <td>3</td>\n",
              "      <td>15</td>\n",
              "    </tr>\n",
              "    <tr>\n",
              "      <th>2</th>\n",
              "      <td>3</td>\n",
              "      <td>Amazon.in:Customer reviews: Puma Unisex-Adult ...</td>\n",
              "      <td>https://www.amazon.in/Puma-Unisex-Adult-Badmin...</td>\n",
              "      <td>Kf</td>\n",
              "      <td>17-Jan-24</td>\n",
              "      <td>5.0 out of 5 stars\\nWorth every Penny</td>\n",
              "      <td>5</td>\n",
              "      <td>Excellent and very comfortable, superb grip go...</td>\n",
              "      <td>1</td>\n",
              "      <td>0.553333</td>\n",
              "      <td>15</td>\n",
              "      <td>103</td>\n",
              "    </tr>\n",
              "    <tr>\n",
              "      <th>3</th>\n",
              "      <td>4</td>\n",
              "      <td>Amazon.in:Customer reviews: Puma Mens Ultimate...</td>\n",
              "      <td>https://www.amazon.in/Puma-Mens-Ultimate-Ease-...</td>\n",
              "      <td>Sharmila Das</td>\n",
              "      <td>24-Feb-24</td>\n",
              "      <td>5.0 out of 5 stars\\nAwesome quality i loved</td>\n",
              "      <td>5</td>\n",
              "      <td>I loved because shoes lightweight soft ..Comfo...</td>\n",
              "      <td>1</td>\n",
              "      <td>0.400000</td>\n",
              "      <td>7</td>\n",
              "      <td>52</td>\n",
              "    </tr>\n",
              "    <tr>\n",
              "      <th>4</th>\n",
              "      <td>5</td>\n",
              "      <td>Amazon.in:Customer reviews: Puma Mens Melanite...</td>\n",
              "      <td>https://www.amazon.in/Puma-Mens-Melanite-Gray-...</td>\n",
              "      <td>Dinesh Kumar Masta</td>\n",
              "      <td>29-Oct-23</td>\n",
              "      <td>5.0 out of 5 stars\\nGood fit and comfortable</td>\n",
              "      <td>5</td>\n",
              "      <td>Good quality, lightweight and fit well to my f...</td>\n",
              "      <td>1</td>\n",
              "      <td>0.550000</td>\n",
              "      <td>9</td>\n",
              "      <td>50</td>\n",
              "    </tr>\n",
              "    <tr>\n",
              "      <th>5</th>\n",
              "      <td>6</td>\n",
              "      <td>Amazon.in:Customer reviews: Puma Unisex Duke I...</td>\n",
              "      <td>https://www.amazon.in/Puma-White-Quarry-Runnin...</td>\n",
              "      <td>Pradeep</td>\n",
              "      <td>21-Jan-24</td>\n",
              "      <td>5.0 out of 5 stars\\nAwesome</td>\n",
              "      <td>5</td>\n",
              "      <td>It is a very good shoe, it is not heavy at all...</td>\n",
              "      <td>1</td>\n",
              "      <td>0.452500</td>\n",
              "      <td>27</td>\n",
              "      <td>121</td>\n",
              "    </tr>\n",
              "    <tr>\n",
              "      <th>6</th>\n",
              "      <td>7</td>\n",
              "      <td>Amazon.in:Customer reviews: Puma Mens Coarse B...</td>\n",
              "      <td>https://www.amazon.in/Puma-Mens-Coarse-Black-W...</td>\n",
              "      <td>Abhinav Bhutra</td>\n",
              "      <td>13-Feb-24</td>\n",
              "      <td>5.0 out of 5 stars\\n**Product Review: Average ...</td>\n",
              "      <td>5</td>\n",
              "      <td>I recently purchased a pair of shoes that were...</td>\n",
              "      <td>1</td>\n",
              "      <td>0.114897</td>\n",
              "      <td>310</td>\n",
              "      <td>1925</td>\n",
              "    </tr>\n",
              "    <tr>\n",
              "      <th>7</th>\n",
              "      <td>8</td>\n",
              "      <td>Amazon.in:Customer reviews: Puma Mens Alfarun ...</td>\n",
              "      <td>https://www.amazon.in/Puma-Alfarun-White-Team-...</td>\n",
              "      <td>Ritik roy</td>\n",
              "      <td>01-Feb-24</td>\n",
              "      <td>5.0 out of 5 stars\\nAt first fit it may would ...</td>\n",
              "      <td>5</td>\n",
              "      <td>Very happy and satisfied,value of money clearl...</td>\n",
              "      <td>1</td>\n",
              "      <td>0.366667</td>\n",
              "      <td>27</td>\n",
              "      <td>157</td>\n",
              "    </tr>\n",
              "    <tr>\n",
              "      <th>8</th>\n",
              "      <td>9</td>\n",
              "      <td>Amazon.in:Customer reviews: Puma Mens Radcliff...</td>\n",
              "      <td>https://www.amazon.in/Puma-Radcliff-Puma-Black...</td>\n",
              "      <td>amit</td>\n",
              "      <td>19-Jan-24</td>\n",
              "      <td>5.0 out of 5 stars\\nExpensive but worth the money</td>\n",
              "      <td>5</td>\n",
              "      <td>This is the most comfortable sports shoes i ha...</td>\n",
              "      <td>1</td>\n",
              "      <td>0.379259</td>\n",
              "      <td>48</td>\n",
              "      <td>237</td>\n",
              "    </tr>\n",
              "    <tr>\n",
              "      <th>9</th>\n",
              "      <td>10</td>\n",
              "      <td>Amazon.in:Customer reviews: Puma Mens Voltige ...</td>\n",
              "      <td>https://www.amazon.in/Puma-Mens-Voltige-Gray-B...</td>\n",
              "      <td>Naveen k.</td>\n",
              "      <td>19-Jan-24</td>\n",
              "      <td>5.0 out of 5 stars\\nBest purchase</td>\n",
              "      <td>5</td>\n",
              "      <td>One of the best sneaker in Puma store very lig...</td>\n",
              "      <td>1</td>\n",
              "      <td>0.497500</td>\n",
              "      <td>18</td>\n",
              "      <td>94</td>\n",
              "    </tr>\n",
              "    <tr>\n",
              "      <th>10</th>\n",
              "      <td>11</td>\n",
              "      <td>Amazon.in:Customer reviews: Puma Unisex-Adult ...</td>\n",
              "      <td>https://www.amazon.in/Puma-Unisex-Adult-Black-...</td>\n",
              "      <td>biplob p.</td>\n",
              "      <td>24-Jan-24</td>\n",
              "      <td>5.0 out of 5 stars\\nSimply worth it</td>\n",
              "      <td>5</td>\n",
              "      <td>My size is a tad bit smaller than 7 so puma fi...</td>\n",
              "      <td>1</td>\n",
              "      <td>0.200000</td>\n",
              "      <td>24</td>\n",
              "      <td>124</td>\n",
              "    </tr>\n",
              "    <tr>\n",
              "      <th>11</th>\n",
              "      <td>12</td>\n",
              "      <td>Amazon.in:Customer reviews: Puma mens Snatch V...</td>\n",
              "      <td>https://www.amazon.in/Puma-Snatch-Black-Puma-W...</td>\n",
              "      <td>souhardya</td>\n",
              "      <td>11-Nov-23</td>\n",
              "      <td>5.0 out of 5 stars\\nGo for it without a second...</td>\n",
              "      <td>5</td>\n",
              "      <td>Product itself is very good as per price, I al...</td>\n",
              "      <td>1</td>\n",
              "      <td>0.260901</td>\n",
              "      <td>131</td>\n",
              "      <td>719</td>\n",
              "    </tr>\n",
              "    <tr>\n",
              "      <th>12</th>\n",
              "      <td>13</td>\n",
              "      <td>Amazon.in:Customer reviews: Puma Unisex-Adult ...</td>\n",
              "      <td>https://www.amazon.in/Puma-Unisex-Adult-Sneake...</td>\n",
              "      <td>Pranal Khyade</td>\n",
              "      <td>04-Sep-23</td>\n",
              "      <td>5.0 out of 5 stars\\nTop notch quality</td>\n",
              "      <td>5</td>\n",
              "      <td>Top class quality and comfort but there are is...</td>\n",
              "      <td>1</td>\n",
              "      <td>0.280000</td>\n",
              "      <td>32</td>\n",
              "      <td>166</td>\n",
              "    </tr>\n",
              "    <tr>\n",
              "      <th>13</th>\n",
              "      <td>14</td>\n",
              "      <td>Amazon.in:Customer reviews: Puma Unisex-Adult ...</td>\n",
              "      <td>https://www.amazon.in/Puma-Unisex-Adult-Retali...</td>\n",
              "      <td>Sukeerth</td>\n",
              "      <td>14-Feb-24</td>\n",
              "      <td>5.0 out of 5 stars\\nExcellent shoe</td>\n",
              "      <td>5</td>\n",
              "      <td>Loved it</td>\n",
              "      <td>1</td>\n",
              "      <td>0.700000</td>\n",
              "      <td>2</td>\n",
              "      <td>8</td>\n",
              "    </tr>\n",
              "    <tr>\n",
              "      <th>14</th>\n",
              "      <td>15</td>\n",
              "      <td>Amazon.in:Customer reviews: Puma Men's Knit Sl...</td>\n",
              "      <td>https://www.amazon.in/PUMA-Mens-Black-Silver-S...</td>\n",
              "      <td>AS Kandhari</td>\n",
              "      <td>27-Dec-22</td>\n",
              "      <td>5.0 out of 5 stars\\nGood Shoes</td>\n",
              "      <td>5</td>\n",
              "      <td>Fits well and are comfortable shoes. The first...</td>\n",
              "      <td>1</td>\n",
              "      <td>0.197704</td>\n",
              "      <td>29</td>\n",
              "      <td>147</td>\n",
              "    </tr>\n",
              "    <tr>\n",
              "      <th>15</th>\n",
              "      <td>16</td>\n",
              "      <td>Amazon.in:Customer reviews: Puma Men's Black R...</td>\n",
              "      <td>https://www.amazon.in/Puma-Black-Radcliff-Spor...</td>\n",
              "      <td>KS</td>\n",
              "      <td>29-Jan-24</td>\n",
              "      <td>5.0 out of 5 stars\\nGood</td>\n",
              "      <td>5</td>\n",
              "      <td>Good buy for my school going girls</td>\n",
              "      <td>1</td>\n",
              "      <td>0.700000</td>\n",
              "      <td>7</td>\n",
              "      <td>34</td>\n",
              "    </tr>\n",
              "    <tr>\n",
              "      <th>16</th>\n",
              "      <td>17</td>\n",
              "      <td>Amazon.in:Customer reviews: Puma unisex-adult ...</td>\n",
              "      <td>https://www.amazon.in/Puma-unisex-adult-COMET-...</td>\n",
              "      <td>vishal sarkar</td>\n",
              "      <td>06-Aug-23</td>\n",
              "      <td>5.0 out of 5 stars\\nlooks good.</td>\n",
              "      <td>5</td>\n",
              "      <td>These shoes are stylish, comfortable, and prov...</td>\n",
              "      <td>1</td>\n",
              "      <td>0.358333</td>\n",
              "      <td>44</td>\n",
              "      <td>301</td>\n",
              "    </tr>\n",
              "    <tr>\n",
              "      <th>17</th>\n",
              "      <td>18</td>\n",
              "      <td>Amazon.in:Customer reviews: Puma Mens Neofuse ...</td>\n",
              "      <td>https://www.amazon.in/Puma-Mens-Neofuse-Gray-W...</td>\n",
              "      <td>Pradip Debnath</td>\n",
              "      <td>10-Feb-24</td>\n",
              "      <td>5.0 out of 5 stars\\nGood product beyond the ex...</td>\n",
              "      <td>5</td>\n",
              "      <td>Product is Light weight and nice fit. I am ful...</td>\n",
              "      <td>1</td>\n",
              "      <td>0.475000</td>\n",
              "      <td>11</td>\n",
              "      <td>59</td>\n",
              "    </tr>\n",
              "    <tr>\n",
              "      <th>18</th>\n",
              "      <td>19</td>\n",
              "      <td>Amazon.in:Customer reviews: Puma Unisex Adult ...</td>\n",
              "      <td>https://www.amazon.in/Unisexs-Black-Ultra-Gray...</td>\n",
              "      <td>prasad</td>\n",
              "      <td>07-Jul-22</td>\n",
              "      <td>5.0 out of 5 stars\\nAwesome</td>\n",
              "      <td>5</td>\n",
              "      <td>The media could not be loaded.</td>\n",
              "      <td>1</td>\n",
              "      <td>0.000000</td>\n",
              "      <td>6</td>\n",
              "      <td>30</td>\n",
              "    </tr>\n",
              "    <tr>\n",
              "      <th>19</th>\n",
              "      <td>20</td>\n",
              "      <td>Amazon.in:Customer reviews: Puma Mens Robust V...</td>\n",
              "      <td>https://www.amazon.in/Puma-Robust-Ultra-Gray-Y...</td>\n",
              "      <td>Hinglaj Dan</td>\n",
              "      <td>29-Dec-23</td>\n",
              "      <td>5.0 out of 5 stars\\nAwesome shoes</td>\n",
              "      <td>5</td>\n",
              "      <td>I got it before the delivery date,  very comfo...</td>\n",
              "      <td>1</td>\n",
              "      <td>0.573333</td>\n",
              "      <td>16</td>\n",
              "      <td>88</td>\n",
              "    </tr>\n",
              "    <tr>\n",
              "      <th>20</th>\n",
              "      <td>21</td>\n",
              "      <td>Amazon.in:Customer reviews: Puma Mens Fierce R...</td>\n",
              "      <td>https://www.amazon.in/Puma-Fierce-Persian-Blue...</td>\n",
              "      <td>Amazon Customer</td>\n",
              "      <td>28-Feb-24</td>\n",
              "      <td>5.0 out of 5 stars\\nComfortable and flexibleÃ°...</td>\n",
              "      <td>5</td>\n",
              "      <td>Light weight and looking nice</td>\n",
              "      <td>1</td>\n",
              "      <td>0.500000</td>\n",
              "      <td>5</td>\n",
              "      <td>29</td>\n",
              "    </tr>\n",
              "    <tr>\n",
              "      <th>21</th>\n",
              "      <td>22</td>\n",
              "      <td>Amazon.in:Customer reviews: Puma Unisex Adult ...</td>\n",
              "      <td>https://www.amazon.in/Puma-Unisex-Aviator-Runn...</td>\n",
              "      <td>Avik Garain</td>\n",
              "      <td>20-Nov-23</td>\n",
              "      <td>5.0 out of 5 stars\\nAwesome for running</td>\n",
              "      <td>5</td>\n",
              "      <td>I completed a mile run within 6 mins during my...</td>\n",
              "      <td>1</td>\n",
              "      <td>0.172222</td>\n",
              "      <td>64</td>\n",
              "      <td>384</td>\n",
              "    </tr>\n",
              "    <tr>\n",
              "      <th>22</th>\n",
              "      <td>23</td>\n",
              "      <td>Amazon.in:Customer reviews: Puma Unisex-Adult ...</td>\n",
              "      <td>https://www.amazon.in/Puma-Unisex-Adult-Vellfi...</td>\n",
              "      <td>JOSHI MAHENDRAKUMAR</td>\n",
              "      <td>20-Feb-24</td>\n",
              "      <td>5.0 out of 5 stars\\nGOOD</td>\n",
              "      <td>5</td>\n",
              "      <td>Good</td>\n",
              "      <td>1</td>\n",
              "      <td>0.700000</td>\n",
              "      <td>1</td>\n",
              "      <td>4</td>\n",
              "    </tr>\n",
              "    <tr>\n",
              "      <th>23</th>\n",
              "      <td>24</td>\n",
              "      <td>Amazon.in:Customer reviews: Puma mens Draco Bl...</td>\n",
              "      <td>https://www.amazon.in/Puma-Black-Silver-Sandal...</td>\n",
              "      <td>Snehangshu b.</td>\n",
              "      <td>06-Dec-23</td>\n",
              "      <td>5.0 out of 5 stars\\nNice product</td>\n",
              "      <td>5</td>\n",
              "      <td>Very comfortable and light weight, very nice,</td>\n",
              "      <td>1</td>\n",
              "      <td>0.566667</td>\n",
              "      <td>7</td>\n",
              "      <td>45</td>\n",
              "    </tr>\n",
              "    <tr>\n",
              "      <th>24</th>\n",
              "      <td>25</td>\n",
              "      <td>Amazon.in:Customer reviews: Puma Mens Cricket ...</td>\n",
              "      <td>https://www.amazon.in/Puma-Cricket-Classicat-M...</td>\n",
              "      <td>Bad quality. Does't work</td>\n",
              "      <td>13-Feb-24</td>\n",
              "      <td>5.0 out of 5 stars\\nPuma</td>\n",
              "      <td>5</td>\n",
              "      <td>Good making</td>\n",
              "      <td>1</td>\n",
              "      <td>0.700000</td>\n",
              "      <td>2</td>\n",
              "      <td>11</td>\n",
              "    </tr>\n",
              "    <tr>\n",
              "      <th>25</th>\n",
              "      <td>26</td>\n",
              "      <td>Amazon.in:Customer reviews: Puma Mens Softride...</td>\n",
              "      <td>https://www.amazon.in/Puma-Softride-Slip-Runni...</td>\n",
              "      <td>Nitish</td>\n",
              "      <td>27-Aug-23</td>\n",
              "      <td>5.0 out of 5 stars\\nA Deep Dive into the Intri...</td>\n",
              "      <td>5</td>\n",
              "      <td>Introduction:In the realm of running shoes, th...</td>\n",
              "      <td>1</td>\n",
              "      <td>0.241529</td>\n",
              "      <td>883</td>\n",
              "      <td>6175</td>\n",
              "    </tr>\n",
              "    <tr>\n",
              "      <th>26</th>\n",
              "      <td>27</td>\n",
              "      <td>Amazon.in:Customer reviews: Puma Unisex-Adult ...</td>\n",
              "      <td>https://www.amazon.in/Puma-Unisex-Adult-Resolv...</td>\n",
              "      <td>Vikash Meena</td>\n",
              "      <td>10-Apr-23</td>\n",
              "      <td>3.0 out of 5 stars\\nDifferent Colour</td>\n",
              "      <td>3</td>\n",
              "      <td>The media could not be loaded.\\n              ...</td>\n",
              "      <td>2</td>\n",
              "      <td>0.288056</td>\n",
              "      <td>38</td>\n",
              "      <td>237</td>\n",
              "    </tr>\n",
              "    <tr>\n",
              "      <th>27</th>\n",
              "      <td>28</td>\n",
              "      <td>Amazon.in:Customer reviews: Puma Mens Scorch M...</td>\n",
              "      <td>https://www.amazon.in/Puma-Mens-Scorch-Black-W...</td>\n",
              "      <td>Shankar</td>\n",
              "      <td>20-Feb-24</td>\n",
              "      <td>5.0 out of 5 stars\\nNice shoes.</td>\n",
              "      <td>5</td>\n",
              "      <td>Very comfortable and easy to wear and remove, ...</td>\n",
              "      <td>1</td>\n",
              "      <td>0.551111</td>\n",
              "      <td>16</td>\n",
              "      <td>89</td>\n",
              "    </tr>\n",
              "    <tr>\n",
              "      <th>28</th>\n",
              "      <td>29</td>\n",
              "      <td>Amazon.in:Customer reviews: Puma unisex-adult ...</td>\n",
              "      <td>https://www.amazon.in/Puma-Activate-Peacoat-Ru...</td>\n",
              "      <td>Sonakshi sethi</td>\n",
              "      <td>22-Aug-23</td>\n",
              "      <td>5.0 out of 5 stars\\nComfortable</td>\n",
              "      <td>5</td>\n",
              "      <td>Very comfortable and good quality</td>\n",
              "      <td>1</td>\n",
              "      <td>0.610000</td>\n",
              "      <td>5</td>\n",
              "      <td>33</td>\n",
              "    </tr>\n",
              "    <tr>\n",
              "      <th>29</th>\n",
              "      <td>30</td>\n",
              "      <td>Amazon.in:Customer reviews: Puma Unisex R78 SL...</td>\n",
              "      <td>https://www.amazon.in/Puma-Mens-PUMA-White-Whi...</td>\n",
              "      <td>Bharat Chavan</td>\n",
              "      <td>07-Apr-23</td>\n",
              "      <td>5.0 out of 5 stars\\nGood investment</td>\n",
              "      <td>5</td>\n",
              "      <td>IÃ¢ÂÂve been wearing this on a daily basis f...</td>\n",
              "      <td>1</td>\n",
              "      <td>0.051389</td>\n",
              "      <td>50</td>\n",
              "      <td>276</td>\n",
              "    </tr>\n",
              "    <tr>\n",
              "      <th>30</th>\n",
              "      <td>31</td>\n",
              "      <td>Amazon.in:Customer reviews: Puma Mens Flyer Ru...</td>\n",
              "      <td>https://www.amazon.in/Puma-Engineered-White-Co...</td>\n",
              "      <td>raja shekar g</td>\n",
              "      <td>09-Nov-23</td>\n",
              "      <td>5.0 out of 5 stars\\nToo good is also Bad</td>\n",
              "      <td>5</td>\n",
              "      <td>\"Thrilled with my new shoes-top-notch style an...</td>\n",
              "      <td>1</td>\n",
              "      <td>0.240341</td>\n",
              "      <td>45</td>\n",
              "      <td>280</td>\n",
              "    </tr>\n",
              "    <tr>\n",
              "      <th>31</th>\n",
              "      <td>32</td>\n",
              "      <td>Amazon.in:Customer reviews: Puma Mens Cricket ...</td>\n",
              "      <td>https://www.amazon.in/Puma-Cricket-HighRun-Whi...</td>\n",
              "      <td>Angshuman Bedajna</td>\n",
              "      <td>18-Feb-24</td>\n",
              "      <td>5.0 out of 5 stars\\nNeed better sole cushion</td>\n",
              "      <td>5</td>\n",
              "      <td>Sole is too Hard</td>\n",
              "      <td>1</td>\n",
              "      <td>-0.145833</td>\n",
              "      <td>4</td>\n",
              "      <td>16</td>\n",
              "    </tr>\n",
              "    <tr>\n",
              "      <th>32</th>\n",
              "      <td>33</td>\n",
              "      <td>Amazon.in:Customer reviews: Puma Women's Enzo ...</td>\n",
              "      <td>https://www.amazon.in/Womens-Metal-Black-Gold-...</td>\n",
              "      <td>Miza</td>\n",
              "      <td>28-Jan-24</td>\n",
              "      <td>5.0 out of 5 stars\\nWorth it</td>\n",
              "      <td>5</td>\n",
              "      <td>Super soft sole. It's been over a year and the...</td>\n",
              "      <td>1</td>\n",
              "      <td>0.286667</td>\n",
              "      <td>23</td>\n",
              "      <td>126</td>\n",
              "    </tr>\n",
              "    <tr>\n",
              "      <th>33</th>\n",
              "      <td>34</td>\n",
              "      <td>Amazon.in:Customer reviews: Puma Unisex-Adult ...</td>\n",
              "      <td>https://www.amazon.in/Puma-Unisex-Adult-Future...</td>\n",
              "      <td>Vipin p.</td>\n",
              "      <td>10-Dec-23</td>\n",
              "      <td>5.0 out of 5 stars\\nComfortable and good looking</td>\n",
              "      <td>5</td>\n",
              "      <td>Only down side is it has suede maybe it's a go...</td>\n",
              "      <td>1</td>\n",
              "      <td>0.386111</td>\n",
              "      <td>39</td>\n",
              "      <td>199</td>\n",
              "    </tr>\n",
              "    <tr>\n",
              "      <th>34</th>\n",
              "      <td>35</td>\n",
              "      <td>Amazon.in:Customer reviews: Puma Mens Amaze Ru...</td>\n",
              "      <td>https://www.amazon.in/Puma-Amaze-Runner-White-...</td>\n",
              "      <td>Placeholder</td>\n",
              "      <td>23-Nov-23</td>\n",
              "      <td>1.0 out of 5 stars\\nLooks like PT shoes</td>\n",
              "      <td>1</td>\n",
              "      <td>Not looks good in real</td>\n",
              "      <td>0</td>\n",
              "      <td>0.450000</td>\n",
              "      <td>5</td>\n",
              "      <td>22</td>\n",
              "    </tr>\n",
              "    <tr>\n",
              "      <th>35</th>\n",
              "      <td>36</td>\n",
              "      <td>Amazon.in:Customer reviews: Puma Unisex Adult ...</td>\n",
              "      <td>https://www.amazon.in/Puma-SF-Future-Cat-Ultra...</td>\n",
              "      <td>Prathmesh H</td>\n",
              "      <td>26-May-20</td>\n",
              "      <td>5.0 out of 5 stars\\nMust buy if you are Ferrar...</td>\n",
              "      <td>5</td>\n",
              "      <td>This are the best andost expensive pair of sho...</td>\n",
              "      <td>1</td>\n",
              "      <td>0.416667</td>\n",
              "      <td>47</td>\n",
              "      <td>269</td>\n",
              "    </tr>\n",
              "  </tbody>\n",
              "</table>\n",
              "</div>\n",
              "    <div class=\"colab-df-buttons\">\n",
              "\n",
              "  <div class=\"colab-df-container\">\n",
              "    <button class=\"colab-df-convert\" onclick=\"convertToInteractive('df-0bf24c83-3a18-4250-8d1c-8562fb8f8188')\"\n",
              "            title=\"Convert this dataframe to an interactive table.\"\n",
              "            style=\"display:none;\">\n",
              "\n",
              "  <svg xmlns=\"http://www.w3.org/2000/svg\" height=\"24px\" viewBox=\"0 -960 960 960\">\n",
              "    <path d=\"M120-120v-720h720v720H120Zm60-500h600v-160H180v160Zm220 220h160v-160H400v160Zm0 220h160v-160H400v160ZM180-400h160v-160H180v160Zm440 0h160v-160H620v160ZM180-180h160v-160H180v160Zm440 0h160v-160H620v160Z\"/>\n",
              "  </svg>\n",
              "    </button>\n",
              "\n",
              "  <style>\n",
              "    .colab-df-container {\n",
              "      display:flex;\n",
              "      gap: 12px;\n",
              "    }\n",
              "\n",
              "    .colab-df-convert {\n",
              "      background-color: #E8F0FE;\n",
              "      border: none;\n",
              "      border-radius: 50%;\n",
              "      cursor: pointer;\n",
              "      display: none;\n",
              "      fill: #1967D2;\n",
              "      height: 32px;\n",
              "      padding: 0 0 0 0;\n",
              "      width: 32px;\n",
              "    }\n",
              "\n",
              "    .colab-df-convert:hover {\n",
              "      background-color: #E2EBFA;\n",
              "      box-shadow: 0px 1px 2px rgba(60, 64, 67, 0.3), 0px 1px 3px 1px rgba(60, 64, 67, 0.15);\n",
              "      fill: #174EA6;\n",
              "    }\n",
              "\n",
              "    .colab-df-buttons div {\n",
              "      margin-bottom: 4px;\n",
              "    }\n",
              "\n",
              "    [theme=dark] .colab-df-convert {\n",
              "      background-color: #3B4455;\n",
              "      fill: #D2E3FC;\n",
              "    }\n",
              "\n",
              "    [theme=dark] .colab-df-convert:hover {\n",
              "      background-color: #434B5C;\n",
              "      box-shadow: 0px 1px 3px 1px rgba(0, 0, 0, 0.15);\n",
              "      filter: drop-shadow(0px 1px 2px rgba(0, 0, 0, 0.3));\n",
              "      fill: #FFFFFF;\n",
              "    }\n",
              "  </style>\n",
              "\n",
              "    <script>\n",
              "      const buttonEl =\n",
              "        document.querySelector('#df-0bf24c83-3a18-4250-8d1c-8562fb8f8188 button.colab-df-convert');\n",
              "      buttonEl.style.display =\n",
              "        google.colab.kernel.accessAllowed ? 'block' : 'none';\n",
              "\n",
              "      async function convertToInteractive(key) {\n",
              "        const element = document.querySelector('#df-0bf24c83-3a18-4250-8d1c-8562fb8f8188');\n",
              "        const dataTable =\n",
              "          await google.colab.kernel.invokeFunction('convertToInteractive',\n",
              "                                                    [key], {});\n",
              "        if (!dataTable) return;\n",
              "\n",
              "        const docLinkHtml = 'Like what you see? Visit the ' +\n",
              "          '<a target=\"_blank\" href=https://colab.research.google.com/notebooks/data_table.ipynb>data table notebook</a>'\n",
              "          + ' to learn more about interactive tables.';\n",
              "        element.innerHTML = '';\n",
              "        dataTable['output_type'] = 'display_data';\n",
              "        await google.colab.output.renderOutput(dataTable, element);\n",
              "        const docLink = document.createElement('div');\n",
              "        docLink.innerHTML = docLinkHtml;\n",
              "        element.appendChild(docLink);\n",
              "      }\n",
              "    </script>\n",
              "  </div>\n",
              "\n",
              "\n",
              "<div id=\"df-63c44e2e-30b0-4f6d-a57b-9097ec82e156\">\n",
              "  <button class=\"colab-df-quickchart\" onclick=\"quickchart('df-63c44e2e-30b0-4f6d-a57b-9097ec82e156')\"\n",
              "            title=\"Suggest charts\"\n",
              "            style=\"display:none;\">\n",
              "\n",
              "<svg xmlns=\"http://www.w3.org/2000/svg\" height=\"24px\"viewBox=\"0 0 24 24\"\n",
              "     width=\"24px\">\n",
              "    <g>\n",
              "        <path d=\"M19 3H5c-1.1 0-2 .9-2 2v14c0 1.1.9 2 2 2h14c1.1 0 2-.9 2-2V5c0-1.1-.9-2-2-2zM9 17H7v-7h2v7zm4 0h-2V7h2v10zm4 0h-2v-4h2v4z\"/>\n",
              "    </g>\n",
              "</svg>\n",
              "  </button>\n",
              "\n",
              "<style>\n",
              "  .colab-df-quickchart {\n",
              "      --bg-color: #E8F0FE;\n",
              "      --fill-color: #1967D2;\n",
              "      --hover-bg-color: #E2EBFA;\n",
              "      --hover-fill-color: #174EA6;\n",
              "      --disabled-fill-color: #AAA;\n",
              "      --disabled-bg-color: #DDD;\n",
              "  }\n",
              "\n",
              "  [theme=dark] .colab-df-quickchart {\n",
              "      --bg-color: #3B4455;\n",
              "      --fill-color: #D2E3FC;\n",
              "      --hover-bg-color: #434B5C;\n",
              "      --hover-fill-color: #FFFFFF;\n",
              "      --disabled-bg-color: #3B4455;\n",
              "      --disabled-fill-color: #666;\n",
              "  }\n",
              "\n",
              "  .colab-df-quickchart {\n",
              "    background-color: var(--bg-color);\n",
              "    border: none;\n",
              "    border-radius: 50%;\n",
              "    cursor: pointer;\n",
              "    display: none;\n",
              "    fill: var(--fill-color);\n",
              "    height: 32px;\n",
              "    padding: 0;\n",
              "    width: 32px;\n",
              "  }\n",
              "\n",
              "  .colab-df-quickchart:hover {\n",
              "    background-color: var(--hover-bg-color);\n",
              "    box-shadow: 0 1px 2px rgba(60, 64, 67, 0.3), 0 1px 3px 1px rgba(60, 64, 67, 0.15);\n",
              "    fill: var(--button-hover-fill-color);\n",
              "  }\n",
              "\n",
              "  .colab-df-quickchart-complete:disabled,\n",
              "  .colab-df-quickchart-complete:disabled:hover {\n",
              "    background-color: var(--disabled-bg-color);\n",
              "    fill: var(--disabled-fill-color);\n",
              "    box-shadow: none;\n",
              "  }\n",
              "\n",
              "  .colab-df-spinner {\n",
              "    border: 2px solid var(--fill-color);\n",
              "    border-color: transparent;\n",
              "    border-bottom-color: var(--fill-color);\n",
              "    animation:\n",
              "      spin 1s steps(1) infinite;\n",
              "  }\n",
              "\n",
              "  @keyframes spin {\n",
              "    0% {\n",
              "      border-color: transparent;\n",
              "      border-bottom-color: var(--fill-color);\n",
              "      border-left-color: var(--fill-color);\n",
              "    }\n",
              "    20% {\n",
              "      border-color: transparent;\n",
              "      border-left-color: var(--fill-color);\n",
              "      border-top-color: var(--fill-color);\n",
              "    }\n",
              "    30% {\n",
              "      border-color: transparent;\n",
              "      border-left-color: var(--fill-color);\n",
              "      border-top-color: var(--fill-color);\n",
              "      border-right-color: var(--fill-color);\n",
              "    }\n",
              "    40% {\n",
              "      border-color: transparent;\n",
              "      border-right-color: var(--fill-color);\n",
              "      border-top-color: var(--fill-color);\n",
              "    }\n",
              "    60% {\n",
              "      border-color: transparent;\n",
              "      border-right-color: var(--fill-color);\n",
              "    }\n",
              "    80% {\n",
              "      border-color: transparent;\n",
              "      border-right-color: var(--fill-color);\n",
              "      border-bottom-color: var(--fill-color);\n",
              "    }\n",
              "    90% {\n",
              "      border-color: transparent;\n",
              "      border-bottom-color: var(--fill-color);\n",
              "    }\n",
              "  }\n",
              "</style>\n",
              "\n",
              "  <script>\n",
              "    async function quickchart(key) {\n",
              "      const quickchartButtonEl =\n",
              "        document.querySelector('#' + key + ' button');\n",
              "      quickchartButtonEl.disabled = true;  // To prevent multiple clicks.\n",
              "      quickchartButtonEl.classList.add('colab-df-spinner');\n",
              "      try {\n",
              "        const charts = await google.colab.kernel.invokeFunction(\n",
              "            'suggestCharts', [key], {});\n",
              "      } catch (error) {\n",
              "        console.error('Error during call to suggestCharts:', error);\n",
              "      }\n",
              "      quickchartButtonEl.classList.remove('colab-df-spinner');\n",
              "      quickchartButtonEl.classList.add('colab-df-quickchart-complete');\n",
              "    }\n",
              "    (() => {\n",
              "      let quickchartButtonEl =\n",
              "        document.querySelector('#df-63c44e2e-30b0-4f6d-a57b-9097ec82e156 button');\n",
              "      quickchartButtonEl.style.display =\n",
              "        google.colab.kernel.accessAllowed ? 'block' : 'none';\n",
              "    })();\n",
              "  </script>\n",
              "</div>\n",
              "\n",
              "    </div>\n",
              "  </div>\n"
            ],
            "application/vnd.google.colaboratory.intrinsic+json": {
              "type": "dataframe",
              "variable_name": "df",
              "summary": "{\n  \"name\": \"df\",\n  \"rows\": 129,\n  \"fields\": [\n    {\n      \"column\": \"Unnamed: 0\",\n      \"properties\": {\n        \"dtype\": \"number\",\n        \"std\": 37,\n        \"min\": 1,\n        \"max\": 129,\n        \"num_unique_values\": 129,\n        \"samples\": [\n          56,\n          41,\n          20\n        ],\n        \"semantic_type\": \"\",\n        \"description\": \"\"\n      }\n    },\n    {\n      \"column\": \"productTitle\",\n      \"properties\": {\n        \"dtype\": \"string\",\n        \"num_unique_values\": 127,\n        \"samples\": [\n          \"Amazon.in:Customer reviews: Puma Unisex-Adult Resolve Modern Weave Bold Blue-Black Running Shoe - 11 UK (37799406)\",\n          \"Nike Men's Air Monarch Iv Cross Trainer\",\n          \"Nike Men's Low Neck top\"\n        ],\n        \"semantic_type\": \"\",\n        \"description\": \"\"\n      }\n    },\n    {\n      \"column\": \"productURL\",\n      \"properties\": {\n        \"dtype\": \"string\",\n        \"num_unique_values\": 129,\n        \"samples\": [\n          \"https://www.amazon.in/Adidas-Adispree-Running-Shoes-6-CK9529/product-reviews/B07MNZXBNF/ref=cm_cr_dp_d_show_all_btm?ie=UTF8&reviewerType=all_reviews&pageNumber=\",\n          \"https://www.amazon.in/Adidas-CBLACK-Running-Shoes-9-CL4154_9/product-reviews/B07M8S2BQX/ref=cm_cr_dp_d_show_all_btm?ie=UTF8&reviewerType=all_reviews&pageNumber=\",\n          \"https://www.amazon.in/Puma-Robust-Ultra-Gray-Yellow-Running/product-reviews/B0BVMDXVKM/ref=cm_cr_dp_d_show_all_btm?ie=UTF8&reviewerType=all_reviews&pageNumber=\"\n        ],\n        \"semantic_type\": \"\",\n        \"description\": \"\"\n      }\n    },\n    {\n      \"column\": \"Customer Name\",\n      \"properties\": {\n        \"dtype\": \"string\",\n        \"num_unique_values\": 124,\n        \"samples\": [\n          \"prasad\",\n          \"Abi Ramachandran\",\n          \"RITUPARNA BEHERA\"\n        ],\n        \"semantic_type\": \"\",\n        \"description\": \"\"\n      }\n    },\n    {\n      \"column\": \"Date\",\n      \"properties\": {\n        \"dtype\": \"object\",\n        \"num_unique_values\": 105,\n        \"samples\": [\n          \"10-Dec-23\",\n          \"18-Jul-23\",\n          \"25-Jun-23\"\n        ],\n        \"semantic_type\": \"\",\n        \"description\": \"\"\n      }\n    },\n    {\n      \"column\": \"Review Title\",\n      \"properties\": {\n        \"dtype\": \"string\",\n        \"num_unique_values\": 120,\n        \"samples\": [\n          \"5.0 out of 5 stars\\nNice\",\n          \"5.0 out of 5 stars\\nAwesome shoe\",\n          \"5.0 out of 5 stars\\nGood fit and comfortable\"\n        ],\n        \"semantic_type\": \"\",\n        \"description\": \"\"\n      }\n    },\n    {\n      \"column\": \"Rating\",\n      \"properties\": {\n        \"dtype\": \"number\",\n        \"std\": 0,\n        \"min\": 1,\n        \"max\": 5,\n        \"num_unique_values\": 5,\n        \"samples\": [\n          3,\n          2,\n          1\n        ],\n        \"semantic_type\": \"\",\n        \"description\": \"\"\n      }\n    },\n    {\n      \"column\": \"Review Body\",\n      \"properties\": {\n        \"dtype\": \"string\",\n        \"num_unique_values\": 127,\n        \"samples\": [\n          \"The media could not be loaded.\\n                \\nNot doubt Shoues Quality Superb and all original Shoues I\\u00c3\\u00a2\\u00c2\\u0080\\u00c2\\u0099ts all so very comfortable, But Problem is Colour i order White Sole Shoues But Saller send me all Black, Otherwise no problem\",\n          \"This shoe is comfortable and very fits true to size. Decent and stylish design makes for a great pair of shoes.\",\n          \"Great look, light weight and nice quality shoe for the price. Fits true to size and definitely get good looks\"\n        ],\n        \"semantic_type\": \"\",\n        \"description\": \"\"\n      }\n    },\n    {\n      \"column\": \"sentiments\",\n      \"properties\": {\n        \"dtype\": \"number\",\n        \"std\": 0,\n        \"min\": 0,\n        \"max\": 2,\n        \"num_unique_values\": 3,\n        \"samples\": [\n          1,\n          2,\n          0\n        ],\n        \"semantic_type\": \"\",\n        \"description\": \"\"\n      }\n    },\n    {\n      \"column\": \"polarity\",\n      \"properties\": {\n        \"dtype\": \"number\",\n        \"std\": 0.21791224835665282,\n        \"min\": -0.4,\n        \"max\": 0.9099999999999999,\n        \"num_unique_values\": 101,\n        \"samples\": [\n          0.4666666666666666,\n          0.10509259259259258,\n          0.4750000000000001\n        ],\n        \"semantic_type\": \"\",\n        \"description\": \"\"\n      }\n    },\n    {\n      \"column\": \"word_count\",\n      \"properties\": {\n        \"dtype\": \"number\",\n        \"std\": 92,\n        \"min\": 1,\n        \"max\": 883,\n        \"num_unique_values\": 59,\n        \"samples\": [\n          29,\n          27,\n          34\n        ],\n        \"semantic_type\": \"\",\n        \"description\": \"\"\n      }\n    },\n    {\n      \"column\": \"review_len\",\n      \"properties\": {\n        \"dtype\": \"number\",\n        \"std\": 616,\n        \"min\": 4,\n        \"max\": 6175,\n        \"num_unique_values\": 110,\n        \"samples\": [\n          54,\n          124,\n          50\n        ],\n        \"semantic_type\": \"\",\n        \"description\": \"\"\n      }\n    }\n  ]\n}"
            }
          },
          "metadata": {},
          "execution_count": 22
        }
      ]
    },
    {
      "source": [
        "# @title Date vs polarity\n",
        "\n",
        "from matplotlib import pyplot as plt\n",
        "import seaborn as sns\n",
        "def _plot_series(series, series_name, series_index=0):\n",
        "  palette = list(sns.palettes.mpl_palette('Dark2'))\n",
        "  xs = series['Date']\n",
        "  ys = series['polarity']\n",
        "\n",
        "  plt.plot(xs, ys, label=series_name, color=palette[series_index % len(palette)])\n",
        "\n",
        "fig, ax = plt.subplots(figsize=(10, 5.2), layout='constrained')\n",
        "df_sorted = df.sort_values('Date', ascending=True)\n",
        "_plot_series(df_sorted, '')\n",
        "sns.despine(fig=fig, ax=ax)\n",
        "plt.xlabel('Date')\n",
        "_ = plt.ylabel('polarity')"
      ],
      "cell_type": "code",
      "execution_count": 23,
      "outputs": [
        {
          "output_type": "display_data",
          "data": {
            "text/plain": [
              "<Figure size 1000x520 with 1 Axes>"
            ],
            "image/png": "[encoded data removed]"
          },
          "metadata": {}
        }
      ],
      "metadata": {
        "colab": {
          "base_uri": "https://localhost:8080/",
          "height": 548
        },
        "id": "Wl5WBz07geC8",
        "outputId": "6803398e-6d24-4d15-b80c-15ef816232f6"
      }
    },
    {
      "source": [
        "# @title polarity vs word_count\n",
        "\n",
        "from matplotlib import pyplot as plt\n",
        "df.plot(kind='scatter', x='polarity', y='word_count', s=32, alpha=.8)\n",
        "plt.gca().spines[['top', 'right',]].set_visible(False)"
      ],
      "cell_type": "code",
      "execution_count": 24,
      "outputs": [
        {
          "output_type": "display_data",
          "data": {
            "text/plain": [
              "<Figure size 640x480 with 1 Axes>"
            ],
            "image/png": "[encoded data removed]"
          },
          "metadata": {}
        }
      ],
      "metadata": {
        "colab": {
          "base_uri": "https://localhost:8080/",
          "height": 449
        },
        "id": "XmIe8iSsgUiF",
        "outputId": "24aef6c3-6058-4dac-93e0-67a90c149b82"
      }
    },
    {
      "cell_type": "markdown",
      "source": [
        "**sentiment** **polarity** **distribution**"
      ],
      "metadata": {
        "id": "WVF1ndnrF1Lz"
      }
    },
    {
      "cell_type": "code",
      "source": [
        "import matplotlib.pyplot as plt\n",
        "\n",
        "# Assuming sentiment_data is your DataFrame\n",
        "# Replace 'polarity' with your actual column name containing sentiment polarity\n",
        "\n",
        "# Calculate sentiment polarity if not already done\n",
        "# sentiment_data['polarity'] = ...\n",
        "\n",
        "# Plot the sentiment polarity distribution using a histogram\n",
        "plt.hist(df['polarity'], bins=50, color='blue', edgecolor='black')\n",
        "plt.title('Sentiment Polarity Distribution')\n",
        "plt.xlabel('Polarity')\n",
        "plt.ylabel('Count')\n",
        "plt.show()\n",
        "\n"
      ],
      "metadata": {
        "colab": {
          "base_uri": "https://localhost:8080/",
          "height": 472
        },
        "id": "a44KdXa2xXTa",
        "outputId": "3b501b4e-26a9-4d09-f9b9-0c486dbb1d23"
      },
      "execution_count": 25,
      "outputs": [
        {
          "output_type": "display_data",
          "data": {
            "text/plain": [
              "<Figure size 640x480 with 1 Axes>"
            ],
            "image/png": "[encoded data removed]"
          },
          "metadata": {}
        }
      ]
    },
    {
      "cell_type": "markdown",
      "source": [
        "**Review Rating** **Distribution**"
      ],
      "metadata": {
        "id": "c-7DMHFwGKzq"
      }
    },
    {
      "cell_type": "code",
      "source": [
        "import matplotlib.pyplot as plt\n",
        "\n",
        "# Assuming sentiment_data is your DataFrame\n",
        "# Replace 'Review Rating' with your actual column name containing review ratings\n",
        "\n",
        "# Plot the review rating distribution using a histogram\n",
        "plt.hist(sentiment_data['Rating'], bins=5, color='yellow', edgecolor='black', range=(1, 5))\n",
        "plt.title('Review Rating Distribution')\n",
        "plt.xlabel('Review Rating')\n",
        "plt.ylabel('Count')\n",
        "plt.show()\n"
      ],
      "metadata": {
        "colab": {
          "base_uri": "https://localhost:8080/",
          "height": 472
        },
        "id": "d0RG9-B56SZH",
        "outputId": "8969974d-c523-47c3-ef04-31101344d9c6"
      },
      "execution_count": 26,
      "outputs": [
        {
          "output_type": "display_data",
          "data": {
            "text/plain": [
              "<Figure size 640x480 with 1 Axes>"
            ],
            "image/png": "[encoded data removed]"
          },
          "metadata": {}
        }
      ]
    },
    {
      "cell_type": "markdown",
      "source": [
        "**'Review Text Length Distribution**"
      ],
      "metadata": {
        "id": "ERPRDurrGVvl"
      }
    },
    {
      "cell_type": "code",
      "source": [
        "import matplotlib.pyplot as plt\n",
        "\n",
        "# Assuming sentiment_data is your DataFrame\n",
        "# Replace 'Review Text' with your actual column name containing review text\n",
        "\n",
        "# Calculate review text lengths\n",
        "sentiment_data['review_len'] = sentiment_data['Review Body'].apply(len)\n",
        "\n",
        "# Plot the review text length distribution using a histogram\n",
        "plt.hist(sentiment_data['review_len'], bins=50, color='orange', edgecolor='black')\n",
        "plt.title('Review Text Length Distribution')\n",
        "plt.xlabel('Review Text Length')\n",
        "plt.ylabel('Count')\n",
        "plt.show()\n"
      ],
      "metadata": {
        "colab": {
          "base_uri": "https://localhost:8080/",
          "height": 472
        },
        "id": "O974mmZ4665x",
        "outputId": "68feef6b-a2f7-4e6b-b01e-3784cc496955"
      },
      "execution_count": 27,
      "outputs": [
        {
          "output_type": "display_data",
          "data": {
            "text/plain": [
              "<Figure size 640x480 with 1 Axes>"
            ],
            "image/png": "[encoded data removed]"
          },
          "metadata": {}
        }
      ]
    },
    {
      "cell_type": "markdown",
      "source": [
        "**Review Text Word Count Distribution**"
      ],
      "metadata": {
        "id": "uQiH-M9BGhDS"
      }
    },
    {
      "cell_type": "code",
      "source": [
        "import matplotlib.pyplot as plt\n",
        "\n",
        "# Assuming sentiment_data is your DataFrame\n",
        "# Replace 'Review Text' with your actual column name containing review text\n",
        "\n",
        "# Calculate review text word counts\n",
        "sentiment_data['word_count'] = sentiment_data['Review Body'].apply(lambda x: len(str(x).split()))\n",
        "\n",
        "# Plot the review text word count distribution using a histogram\n",
        "plt.hist(sentiment_data['word_count'], bins=50, color='purple', edgecolor='black')\n",
        "plt.title('Review Text Word Count Distribution')\n",
        "plt.xlabel('Word Count')\n",
        "plt.ylabel('Count')\n",
        "plt.show()\n"
      ],
      "metadata": {
        "colab": {
          "base_uri": "https://localhost:8080/",
          "height": 472
        },
        "id": "54PliYpf7Emz",
        "outputId": "adcf6409-b4d1-49cf-cc05-ef15b20e864c"
      },
      "execution_count": 28,
      "outputs": [
        {
          "output_type": "display_data",
          "data": {
            "text/plain": [
              "<Figure size 640x480 with 1 Axes>"
            ],
            "image/png": "[encoded data removed]"
          },
          "metadata": {}
        }
      ]
    },
    {
      "cell_type": "markdown",
      "source": [
        "**STOPWORDS**"
      ],
      "metadata": {
        "id": "qC0L6PnvkCpi"
      }
    },
    {
      "cell_type": "code",
      "source": [
        "from nltk.corpus import stopwords\n",
        "\n",
        "# Download stopwords if not already downloaded\n",
        "import nltk\n",
        "nltk.download('stopwords')\n",
        "\n",
        "# Get all English stopwords\n",
        "all_stopwords = set(stopwords.words('english'))\n",
        "\n",
        "# Display all stopwords\n",
        "print(all_stopwords)\n",
        "\n"
      ],
      "metadata": {
        "colab": {
          "base_uri": "https://localhost:8080/"
        },
        "id": "zL4F4XLR0fB2",
        "outputId": "52e5ef2a-2eed-4ca3-826a-6fd69316f24b"
      },
      "execution_count": 29,
      "outputs": [
        {
          "output_type": "stream",
          "name": "stdout",
          "text": [
            "{'who', 'weren', \"haven't\", 'theirs', 'under', 'shan', 'do', 'does', 'she', 'then', 'himself', 'too', 'and', 'now', 'wasn', 'ma', 'hadn', 'wouldn', 'between', 'are', 'nor', 'because', 'up', \"hadn't\", 'we', 'you', 'i', \"mightn't\", 'only', \"we've\", 'y', 'any', 'ourselves', \"should've\", 'both', 'an', 'at', 'he', \"i've\", 'for', 'very', 'were', 'again', \"you've\", 'haven', 'if', 'than', \"it'd\", 'against', 'over', \"they've\", 'about', 'above', \"she's\", 'my', 'will', 'them', 'whom', 'below', 'few', 'until', 'ours', \"you're\", 'doing', 'so', 'those', 'during', 'doesn', \"she'd\", 'o', 'there', 'own', \"needn't\", 'into', 'needn', \"he'd\", \"it'll\", 'ain', 'same', 'while', 'further', 'yours', 'some', 'd', \"we'll\", 'being', 've', 'am', 'was', 'have', 'just', 'these', \"i'll\", 'it', 'its', 'after', 'been', \"i'd\", 'such', 'off', 'what', 'other', 'but', 'his', \"i'm\", \"we're\", \"aren't\", 'has', 'this', 'in', \"you'll\", 'her', 'how', 'their', 'aren', \"doesn't\", \"weren't\", 'shouldn', 'myself', 'when', 'him', 'won', 'out', \"that'll\", 'before', 'should', 'couldn', 'a', 'don', \"they're\", 'your', 'that', 'herself', 'the', \"couldn't\", \"they'd\", \"didn't\", \"won't\", 'where', \"he's\", 'hers', 'mightn', 'having', 're', 's', 'yourself', 'they', 'of', \"wouldn't\", 'm', 'by', 'here', 'hasn', 'is', 'why', 'itself', 'no', 'which', 'all', \"shan't\", 'me', 'from', 'isn', 'll', 'themselves', 'not', 'our', 'didn', 'through', 'yourselves', \"it's\", 'once', 'did', 'more', 'or', 'to', 'most', 'can', \"we'd\", \"you'd\", \"shouldn't\", 'down', \"he'll\", \"wasn't\", 'mustn', \"mustn't\", 'with', \"don't\", 'be', 't', \"they'll\", \"isn't\", 'each', \"she'll\", 'as', \"hasn't\", 'on', 'had'}\n"
          ]
        },
        {
          "output_type": "stream",
          "name": "stderr",
          "text": [
            "[nltk_data] Downloading package stopwords to /root/nltk_data...\n",
            "[nltk_data]   Package stopwords is already up-to-date!\n"
          ]
        }
      ]
    },
    {
      "cell_type": "code",
      "source": [
        "import nltk\n",
        "from nltk.corpus import stopwords\n",
        "\n",
        "nltk.download('stopwords')\n",
        "\n",
        "# Assuming sentiment_data is your DataFrame and 'Review Body' is the column you want to process\n",
        "stopwords=set(stopwords.words('english'))\n",
        "\n",
        "sentiment_data['Review Body'] = sentiment_data['Review Body'].apply(lambda x: ' '.join([word for word in x.split() if word.lower() not in stopwords]))\n",
        "\n",
        "sentiment_data.head(130)\n"
      ],
      "metadata": {
        "colab": {
          "base_uri": "https://localhost:8080/",
          "height": 754
        },
        "id": "JJ1Ul4IG1-PT",
        "outputId": "dea605ac-147c-4bf1-952e-a89eec6a70a0"
      },
      "execution_count": 30,
      "outputs": [
        {
          "output_type": "stream",
          "name": "stderr",
          "text": [
            "[nltk_data] Downloading package stopwords to /root/nltk_data...\n",
            "[nltk_data]   Package stopwords is already up-to-date!\n"
          ]
        },
        {
          "output_type": "execute_result",
          "data": {
            "text/plain": [
              "     Unnamed: 0                                       productTitle  \\\n",
              "0             1  Amazon.in:Customer reviews: Puma mens Dazzler ...   \n",
              "1             2  Amazon.in:Customer reviews: Puma Unisex-Adult ...   \n",
              "2             3  Amazon.in:Customer reviews: Puma Unisex-Adult ...   \n",
              "3             4  Amazon.in:Customer reviews: Puma Mens Ultimate...   \n",
              "4             5  Amazon.in:Customer reviews: Puma Mens Melanite...   \n",
              "..          ...                                                ...   \n",
              "124         125                         Nike mens Metcon 8 Workout   \n",
              "125         126                   Nike Women's Air Max Excee Shoes   \n",
              "126         127                         Nike mens React Infinity 3   \n",
              "127         128                                  Nike mens Running   \n",
              "128         129                     adidas Men's Daily 3.0 Sneaker   \n",
              "\n",
              "                                            productURL       Customer Name  \\\n",
              "0    https://www.amazon.in/Puma-Dazzler-Black-Puma-...       Ashiq mohanan   \n",
              "1    https://www.amazon.in/Puma-Unisex-Adult-Smashi...       Gurpreet kaur   \n",
              "2    https://www.amazon.in/Puma-Unisex-Adult-Badmin...                  Kf   \n",
              "3    https://www.amazon.in/Puma-Mens-Ultimate-Ease-...        Sharmila Das   \n",
              "4    https://www.amazon.in/Puma-Mens-Melanite-Gray-...  Dinesh Kumar Masta   \n",
              "..                                                 ...                 ...   \n",
              "124  https://www.amazon.com/Nike-mens-Metcon-8-Work...           Ryan Nash   \n",
              "125  https://www.amazon.com/Nike-Womens-Air-Excee-S...      Nicole Monahan   \n",
              "126  https://www.amazon.com/Nike-mens-React-Infinit...          Triccia Go   \n",
              "127  https://www.amazon.com/Nike-mens-Running/produ...         Mike Kramer   \n",
              "128  https://www.amazon.com/adidas-GW6421-Mens-Snea...          Kole Riley   \n",
              "\n",
              "          Date                                       Review Title  Rating  \\\n",
              "0   2024-01-08  5.0 out of 5 stars\\nQuality shoes on affordabl...       5   \n",
              "1   2024-02-03                   5.0 out of 5 stars\\nGood product       5   \n",
              "2   2024-01-17              5.0 out of 5 stars\\nWorth every Penny       5   \n",
              "3   2024-02-24        5.0 out of 5 stars\\nAwesome quality i loved       5   \n",
              "4   2023-10-29       5.0 out of 5 stars\\nGood fit and comfortable       5   \n",
              "..         ...                                                ...     ...   \n",
              "124 2024-02-22  5.0 out of 5 stars\\nWorking great as lifting s...       5   \n",
              "125 2024-02-20                     5.0 out of 5 stars\\nGreat look       5   \n",
              "126 2024-01-12  5.0 out of 5 stars\\nDurable, comfortable every...       5   \n",
              "127 2024-01-22                      5.0 out of 5 stars\\nGood shoe       5   \n",
              "128 2024-02-27  5.0 out of 5 stars\\nClassic shoe for everyday ...       5   \n",
              "\n",
              "                                           Review Body  sentiments  \\\n",
              "0    Value money, good build quality, comfortable r...           1   \n",
              "1                                              picture           1   \n",
              "2    Excellent comfortable, superb grip go ahead wi...           1   \n",
              "3           loved shoes lightweight soft ..Comfortable           1   \n",
              "4             Good quality, lightweight fit well feet.           1   \n",
              "..                                                 ...         ...   \n",
              "124  Fit comfortable sizing expected. working great...           1   \n",
              "125  Took little longer expected get them. shoes gr...           1   \n",
              "126  title says, super durable comfortable everyday...           1   \n",
              "127  Good fit, decent style 14 year old, reasonably...           1   \n",
              "128  love shoes. thought Iâd break shoes in, fit ...           1   \n",
              "\n",
              "     review_len  word_count  \n",
              "0           160          29  \n",
              "1            15           3  \n",
              "2            99          15  \n",
              "3            52           7  \n",
              "4            50           9  \n",
              "..          ...         ...  \n",
              "124         102          18  \n",
              "125          94          18  \n",
              "126         174          30  \n",
              "127          61          11  \n",
              "128         300          55  \n",
              "\n",
              "[129 rows x 11 columns]"
            ],
            "text/html": [
              "\n",
              "  <div id=\"df-48c51378-0f21-41f4-ba86-7f29087a1fde\" class=\"colab-df-container\">\n",
              "    <div>\n",
              "<style scoped>\n",
              "    .dataframe tbody tr th:only-of-type {\n",
              "        vertical-align: middle;\n",
              "    }\n",
              "\n",
              "    .dataframe tbody tr th {\n",
              "        vertical-align: top;\n",
              "    }\n",
              "\n",
              "    .dataframe thead th {\n",
              "        text-align: right;\n",
              "    }\n",
              "</style>\n",
              "<table border=\"1\" class=\"dataframe\">\n",
              "  <thead>\n",
              "    <tr style=\"text-align: right;\">\n",
              "      <th></th>\n",
              "      <th>Unnamed: 0</th>\n",
              "      <th>productTitle</th>\n",
              "      <th>productURL</th>\n",
              "      <th>Customer Name</th>\n",
              "      <th>Date</th>\n",
              "      <th>Review Title</th>\n",
              "      <th>Rating</th>\n",
              "      <th>Review Body</th>\n",
              "      <th>sentiments</th>\n",
              "      <th>review_len</th>\n",
              "      <th>word_count</th>\n",
              "    </tr>\n",
              "  </thead>\n",
              "  <tbody>\n",
              "    <tr>\n",
              "      <th>0</th>\n",
              "      <td>1</td>\n",
              "      <td>Amazon.in:Customer reviews: Puma mens Dazzler ...</td>\n",
              "      <td>https://www.amazon.in/Puma-Dazzler-Black-Puma-...</td>\n",
              "      <td>Ashiq mohanan</td>\n",
              "      <td>2024-01-08</td>\n",
              "      <td>5.0 out of 5 stars\\nQuality shoes on affordabl...</td>\n",
              "      <td>5</td>\n",
              "      <td>Value money, good build quality, comfortable r...</td>\n",
              "      <td>1</td>\n",
              "      <td>160</td>\n",
              "      <td>29</td>\n",
              "    </tr>\n",
              "    <tr>\n",
              "      <th>1</th>\n",
              "      <td>2</td>\n",
              "      <td>Amazon.in:Customer reviews: Puma Unisex-Adult ...</td>\n",
              "      <td>https://www.amazon.in/Puma-Unisex-Adult-Smashi...</td>\n",
              "      <td>Gurpreet kaur</td>\n",
              "      <td>2024-02-03</td>\n",
              "      <td>5.0 out of 5 stars\\nGood product</td>\n",
              "      <td>5</td>\n",
              "      <td>picture</td>\n",
              "      <td>1</td>\n",
              "      <td>15</td>\n",
              "      <td>3</td>\n",
              "    </tr>\n",
              "    <tr>\n",
              "      <th>2</th>\n",
              "      <td>3</td>\n",
              "      <td>Amazon.in:Customer reviews: Puma Unisex-Adult ...</td>\n",
              "      <td>https://www.amazon.in/Puma-Unisex-Adult-Badmin...</td>\n",
              "      <td>Kf</td>\n",
              "      <td>2024-01-17</td>\n",
              "      <td>5.0 out of 5 stars\\nWorth every Penny</td>\n",
              "      <td>5</td>\n",
              "      <td>Excellent comfortable, superb grip go ahead wi...</td>\n",
              "      <td>1</td>\n",
              "      <td>99</td>\n",
              "      <td>15</td>\n",
              "    </tr>\n",
              "    <tr>\n",
              "      <th>3</th>\n",
              "      <td>4</td>\n",
              "      <td>Amazon.in:Customer reviews: Puma Mens Ultimate...</td>\n",
              "      <td>https://www.amazon.in/Puma-Mens-Ultimate-Ease-...</td>\n",
              "      <td>Sharmila Das</td>\n",
              "      <td>2024-02-24</td>\n",
              "      <td>5.0 out of 5 stars\\nAwesome quality i loved</td>\n",
              "      <td>5</td>\n",
              "      <td>loved shoes lightweight soft ..Comfortable</td>\n",
              "      <td>1</td>\n",
              "      <td>52</td>\n",
              "      <td>7</td>\n",
              "    </tr>\n",
              "    <tr>\n",
              "      <th>4</th>\n",
              "      <td>5</td>\n",
              "      <td>Amazon.in:Customer reviews: Puma Mens Melanite...</td>\n",
              "      <td>https://www.amazon.in/Puma-Mens-Melanite-Gray-...</td>\n",
              "      <td>Dinesh Kumar Masta</td>\n",
              "      <td>2023-10-29</td>\n",
              "      <td>5.0 out of 5 stars\\nGood fit and comfortable</td>\n",
              "      <td>5</td>\n",
              "      <td>Good quality, lightweight fit well feet.</td>\n",
              "      <td>1</td>\n",
              "      <td>50</td>\n",
              "      <td>9</td>\n",
              "    </tr>\n",
              "    <tr>\n",
              "      <th>...</th>\n",
              "      <td>...</td>\n",
              "      <td>...</td>\n",
              "      <td>...</td>\n",
              "      <td>...</td>\n",
              "      <td>...</td>\n",
              "      <td>...</td>\n",
              "      <td>...</td>\n",
              "      <td>...</td>\n",
              "      <td>...</td>\n",
              "      <td>...</td>\n",
              "      <td>...</td>\n",
              "    </tr>\n",
              "    <tr>\n",
              "      <th>124</th>\n",
              "      <td>125</td>\n",
              "      <td>Nike mens Metcon 8 Workout</td>\n",
              "      <td>https://www.amazon.com/Nike-mens-Metcon-8-Work...</td>\n",
              "      <td>Ryan Nash</td>\n",
              "      <td>2024-02-22</td>\n",
              "      <td>5.0 out of 5 stars\\nWorking great as lifting s...</td>\n",
              "      <td>5</td>\n",
              "      <td>Fit comfortable sizing expected. working great...</td>\n",
              "      <td>1</td>\n",
              "      <td>102</td>\n",
              "      <td>18</td>\n",
              "    </tr>\n",
              "    <tr>\n",
              "      <th>125</th>\n",
              "      <td>126</td>\n",
              "      <td>Nike Women's Air Max Excee Shoes</td>\n",
              "      <td>https://www.amazon.com/Nike-Womens-Air-Excee-S...</td>\n",
              "      <td>Nicole Monahan</td>\n",
              "      <td>2024-02-20</td>\n",
              "      <td>5.0 out of 5 stars\\nGreat look</td>\n",
              "      <td>5</td>\n",
              "      <td>Took little longer expected get them. shoes gr...</td>\n",
              "      <td>1</td>\n",
              "      <td>94</td>\n",
              "      <td>18</td>\n",
              "    </tr>\n",
              "    <tr>\n",
              "      <th>126</th>\n",
              "      <td>127</td>\n",
              "      <td>Nike mens React Infinity 3</td>\n",
              "      <td>https://www.amazon.com/Nike-mens-React-Infinit...</td>\n",
              "      <td>Triccia Go</td>\n",
              "      <td>2024-01-12</td>\n",
              "      <td>5.0 out of 5 stars\\nDurable, comfortable every...</td>\n",
              "      <td>5</td>\n",
              "      <td>title says, super durable comfortable everyday...</td>\n",
              "      <td>1</td>\n",
              "      <td>174</td>\n",
              "      <td>30</td>\n",
              "    </tr>\n",
              "    <tr>\n",
              "      <th>127</th>\n",
              "      <td>128</td>\n",
              "      <td>Nike mens Running</td>\n",
              "      <td>https://www.amazon.com/Nike-mens-Running/produ...</td>\n",
              "      <td>Mike Kramer</td>\n",
              "      <td>2024-01-22</td>\n",
              "      <td>5.0 out of 5 stars\\nGood shoe</td>\n",
              "      <td>5</td>\n",
              "      <td>Good fit, decent style 14 year old, reasonably...</td>\n",
              "      <td>1</td>\n",
              "      <td>61</td>\n",
              "      <td>11</td>\n",
              "    </tr>\n",
              "    <tr>\n",
              "      <th>128</th>\n",
              "      <td>129</td>\n",
              "      <td>adidas Men's Daily 3.0 Sneaker</td>\n",
              "      <td>https://www.amazon.com/adidas-GW6421-Mens-Snea...</td>\n",
              "      <td>Kole Riley</td>\n",
              "      <td>2024-02-27</td>\n",
              "      <td>5.0 out of 5 stars\\nClassic shoe for everyday ...</td>\n",
              "      <td>5</td>\n",
              "      <td>love shoes. thought Iâd break shoes in, fit ...</td>\n",
              "      <td>1</td>\n",
              "      <td>300</td>\n",
              "      <td>55</td>\n",
              "    </tr>\n",
              "  </tbody>\n",
              "</table>\n",
              "<p>129 rows × 11 columns</p>\n",
              "</div>\n",
              "    <div class=\"colab-df-buttons\">\n",
              "\n",
              "  <div class=\"colab-df-container\">\n",
              "    <button class=\"colab-df-convert\" onclick=\"convertToInteractive('df-48c51378-0f21-41f4-ba86-7f29087a1fde')\"\n",
              "            title=\"Convert this dataframe to an interactive table.\"\n",
              "            style=\"display:none;\">\n",
              "\n",
              "  <svg xmlns=\"http://www.w3.org/2000/svg\" height=\"24px\" viewBox=\"0 -960 960 960\">\n",
              "    <path d=\"M120-120v-720h720v720H120Zm60-500h600v-160H180v160Zm220 220h160v-160H400v160Zm0 220h160v-160H400v160ZM180-400h160v-160H180v160Zm440 0h160v-160H620v160ZM180-180h160v-160H180v160Zm440 0h160v-160H620v160Z\"/>\n",
              "  </svg>\n",
              "    </button>\n",
              "\n",
              "  <style>\n",
              "    .colab-df-container {\n",
              "      display:flex;\n",
              "      gap: 12px;\n",
              "    }\n",
              "\n",
              "    .colab-df-convert {\n",
              "      background-color: #E8F0FE;\n",
              "      border: none;\n",
              "      border-radius: 50%;\n",
              "      cursor: pointer;\n",
              "      display: none;\n",
              "      fill: #1967D2;\n",
              "      height: 32px;\n",
              "      padding: 0 0 0 0;\n",
              "      width: 32px;\n",
              "    }\n",
              "\n",
              "    .colab-df-convert:hover {\n",
              "      background-color: #E2EBFA;\n",
              "      box-shadow: 0px 1px 2px rgba(60, 64, 67, 0.3), 0px 1px 3px 1px rgba(60, 64, 67, 0.15);\n",
              "      fill: #174EA6;\n",
              "    }\n",
              "\n",
              "    .colab-df-buttons div {\n",
              "      margin-bottom: 4px;\n",
              "    }\n",
              "\n",
              "    [theme=dark] .colab-df-convert {\n",
              "      background-color: #3B4455;\n",
              "      fill: #D2E3FC;\n",
              "    }\n",
              "\n",
              "    [theme=dark] .colab-df-convert:hover {\n",
              "      background-color: #434B5C;\n",
              "      box-shadow: 0px 1px 3px 1px rgba(0, 0, 0, 0.15);\n",
              "      filter: drop-shadow(0px 1px 2px rgba(0, 0, 0, 0.3));\n",
              "      fill: #FFFFFF;\n",
              "    }\n",
              "  </style>\n",
              "\n",
              "    <script>\n",
              "      const buttonEl =\n",
              "        document.querySelector('#df-48c51378-0f21-41f4-ba86-7f29087a1fde button.colab-df-convert');\n",
              "      buttonEl.style.display =\n",
              "        google.colab.kernel.accessAllowed ? 'block' : 'none';\n",
              "\n",
              "      async function convertToInteractive(key) {\n",
              "        const element = document.querySelector('#df-48c51378-0f21-41f4-ba86-7f29087a1fde');\n",
              "        const dataTable =\n",
              "          await google.colab.kernel.invokeFunction('convertToInteractive',\n",
              "                                                    [key], {});\n",
              "        if (!dataTable) return;\n",
              "\n",
              "        const docLinkHtml = 'Like what you see? Visit the ' +\n",
              "          '<a target=\"_blank\" href=https://colab.research.google.com/notebooks/data_table.ipynb>data table notebook</a>'\n",
              "          + ' to learn more about interactive tables.';\n",
              "        element.innerHTML = '';\n",
              "        dataTable['output_type'] = 'display_data';\n",
              "        await google.colab.output.renderOutput(dataTable, element);\n",
              "        const docLink = document.createElement('div');\n",
              "        docLink.innerHTML = docLinkHtml;\n",
              "        element.appendChild(docLink);\n",
              "      }\n",
              "    </script>\n",
              "  </div>\n",
              "\n",
              "\n",
              "<div id=\"df-4ba5691f-fec2-4c44-a2cf-2e706ab4aa37\">\n",
              "  <button class=\"colab-df-quickchart\" onclick=\"quickchart('df-4ba5691f-fec2-4c44-a2cf-2e706ab4aa37')\"\n",
              "            title=\"Suggest charts\"\n",
              "            style=\"display:none;\">\n",
              "\n",
              "<svg xmlns=\"http://www.w3.org/2000/svg\" height=\"24px\"viewBox=\"0 0 24 24\"\n",
              "     width=\"24px\">\n",
              "    <g>\n",
              "        <path d=\"M19 3H5c-1.1 0-2 .9-2 2v14c0 1.1.9 2 2 2h14c1.1 0 2-.9 2-2V5c0-1.1-.9-2-2-2zM9 17H7v-7h2v7zm4 0h-2V7h2v10zm4 0h-2v-4h2v4z\"/>\n",
              "    </g>\n",
              "</svg>\n",
              "  </button>\n",
              "\n",
              "<style>\n",
              "  .colab-df-quickchart {\n",
              "      --bg-color: #E8F0FE;\n",
              "      --fill-color: #1967D2;\n",
              "      --hover-bg-color: #E2EBFA;\n",
              "      --hover-fill-color: #174EA6;\n",
              "      --disabled-fill-color: #AAA;\n",
              "      --disabled-bg-color: #DDD;\n",
              "  }\n",
              "\n",
              "  [theme=dark] .colab-df-quickchart {\n",
              "      --bg-color: #3B4455;\n",
              "      --fill-color: #D2E3FC;\n",
              "      --hover-bg-color: #434B5C;\n",
              "      --hover-fill-color: #FFFFFF;\n",
              "      --disabled-bg-color: #3B4455;\n",
              "      --disabled-fill-color: #666;\n",
              "  }\n",
              "\n",
              "  .colab-df-quickchart {\n",
              "    background-color: var(--bg-color);\n",
              "    border: none;\n",
              "    border-radius: 50%;\n",
              "    cursor: pointer;\n",
              "    display: none;\n",
              "    fill: var(--fill-color);\n",
              "    height: 32px;\n",
              "    padding: 0;\n",
              "    width: 32px;\n",
              "  }\n",
              "\n",
              "  .colab-df-quickchart:hover {\n",
              "    background-color: var(--hover-bg-color);\n",
              "    box-shadow: 0 1px 2px rgba(60, 64, 67, 0.3), 0 1px 3px 1px rgba(60, 64, 67, 0.15);\n",
              "    fill: var(--button-hover-fill-color);\n",
              "  }\n",
              "\n",
              "  .colab-df-quickchart-complete:disabled,\n",
              "  .colab-df-quickchart-complete:disabled:hover {\n",
              "    background-color: var(--disabled-bg-color);\n",
              "    fill: var(--disabled-fill-color);\n",
              "    box-shadow: none;\n",
              "  }\n",
              "\n",
              "  .colab-df-spinner {\n",
              "    border: 2px solid var(--fill-color);\n",
              "    border-color: transparent;\n",
              "    border-bottom-color: var(--fill-color);\n",
              "    animation:\n",
              "      spin 1s steps(1) infinite;\n",
              "  }\n",
              "\n",
              "  @keyframes spin {\n",
              "    0% {\n",
              "      border-color: transparent;\n",
              "      border-bottom-color: var(--fill-color);\n",
              "      border-left-color: var(--fill-color);\n",
              "    }\n",
              "    20% {\n",
              "      border-color: transparent;\n",
              "      border-left-color: var(--fill-color);\n",
              "      border-top-color: var(--fill-color);\n",
              "    }\n",
              "    30% {\n",
              "      border-color: transparent;\n",
              "      border-left-color: var(--fill-color);\n",
              "      border-top-color: var(--fill-color);\n",
              "      border-right-color: var(--fill-color);\n",
              "    }\n",
              "    40% {\n",
              "      border-color: transparent;\n",
              "      border-right-color: var(--fill-color);\n",
              "      border-top-color: var(--fill-color);\n",
              "    }\n",
              "    60% {\n",
              "      border-color: transparent;\n",
              "      border-right-color: var(--fill-color);\n",
              "    }\n",
              "    80% {\n",
              "      border-color: transparent;\n",
              "      border-right-color: var(--fill-color);\n",
              "      border-bottom-color: var(--fill-color);\n",
              "    }\n",
              "    90% {\n",
              "      border-color: transparent;\n",
              "      border-bottom-color: var(--fill-color);\n",
              "    }\n",
              "  }\n",
              "</style>\n",
              "\n",
              "  <script>\n",
              "    async function quickchart(key) {\n",
              "      const quickchartButtonEl =\n",
              "        document.querySelector('#' + key + ' button');\n",
              "      quickchartButtonEl.disabled = true;  // To prevent multiple clicks.\n",
              "      quickchartButtonEl.classList.add('colab-df-spinner');\n",
              "      try {\n",
              "        const charts = await google.colab.kernel.invokeFunction(\n",
              "            'suggestCharts', [key], {});\n",
              "      } catch (error) {\n",
              "        console.error('Error during call to suggestCharts:', error);\n",
              "      }\n",
              "      quickchartButtonEl.classList.remove('colab-df-spinner');\n",
              "      quickchartButtonEl.classList.add('colab-df-quickchart-complete');\n",
              "    }\n",
              "    (() => {\n",
              "      let quickchartButtonEl =\n",
              "        document.querySelector('#df-4ba5691f-fec2-4c44-a2cf-2e706ab4aa37 button');\n",
              "      quickchartButtonEl.style.display =\n",
              "        google.colab.kernel.accessAllowed ? 'block' : 'none';\n",
              "    })();\n",
              "  </script>\n",
              "</div>\n",
              "\n",
              "    </div>\n",
              "  </div>\n"
            ],
            "application/vnd.google.colaboratory.intrinsic+json": {
              "type": "dataframe",
              "variable_name": "sentiment_data",
              "summary": "{\n  \"name\": \"sentiment_data\",\n  \"rows\": 129,\n  \"fields\": [\n    {\n      \"column\": \"Unnamed: 0\",\n      \"properties\": {\n        \"dtype\": \"number\",\n        \"std\": 37,\n        \"min\": 1,\n        \"max\": 129,\n        \"num_unique_values\": 129,\n        \"samples\": [\n          56,\n          41,\n          20\n        ],\n        \"semantic_type\": \"\",\n        \"description\": \"\"\n      }\n    },\n    {\n      \"column\": \"productTitle\",\n      \"properties\": {\n        \"dtype\": \"string\",\n        \"num_unique_values\": 127,\n        \"samples\": [\n          \"Amazon.in:Customer reviews: Puma Unisex-Adult Resolve Modern Weave Bold Blue-Black Running Shoe - 11 UK (37799406)\",\n          \"Nike Men's Air Monarch Iv Cross Trainer\",\n          \"Nike Men's Low Neck top\"\n        ],\n        \"semantic_type\": \"\",\n        \"description\": \"\"\n      }\n    },\n    {\n      \"column\": \"productURL\",\n      \"properties\": {\n        \"dtype\": \"string\",\n        \"num_unique_values\": 129,\n        \"samples\": [\n          \"https://www.amazon.in/Adidas-Adispree-Running-Shoes-6-CK9529/product-reviews/B07MNZXBNF/ref=cm_cr_dp_d_show_all_btm?ie=UTF8&reviewerType=all_reviews&pageNumber=\",\n          \"https://www.amazon.in/Adidas-CBLACK-Running-Shoes-9-CL4154_9/product-reviews/B07M8S2BQX/ref=cm_cr_dp_d_show_all_btm?ie=UTF8&reviewerType=all_reviews&pageNumber=\",\n          \"https://www.amazon.in/Puma-Robust-Ultra-Gray-Yellow-Running/product-reviews/B0BVMDXVKM/ref=cm_cr_dp_d_show_all_btm?ie=UTF8&reviewerType=all_reviews&pageNumber=\"\n        ],\n        \"semantic_type\": \"\",\n        \"description\": \"\"\n      }\n    },\n    {\n      \"column\": \"Customer Name\",\n      \"properties\": {\n        \"dtype\": \"string\",\n        \"num_unique_values\": 124,\n        \"samples\": [\n          \"prasad\",\n          \"Abi Ramachandran\",\n          \"RITUPARNA BEHERA\"\n        ],\n        \"semantic_type\": \"\",\n        \"description\": \"\"\n      }\n    },\n    {\n      \"column\": \"Date\",\n      \"properties\": {\n        \"dtype\": \"date\",\n        \"min\": \"2020-05-26 00:00:00\",\n        \"max\": \"2024-02-29 00:00:00\",\n        \"num_unique_values\": 94,\n        \"samples\": [\n          \"2023-04-20 00:00:00\",\n          \"2023-12-06 00:00:00\",\n          \"2023-11-02 00:00:00\"\n        ],\n        \"semantic_type\": \"\",\n        \"description\": \"\"\n      }\n    },\n    {\n      \"column\": \"Review Title\",\n      \"properties\": {\n        \"dtype\": \"string\",\n        \"num_unique_values\": 120,\n        \"samples\": [\n          \"5.0 out of 5 stars\\nNice\",\n          \"5.0 out of 5 stars\\nAwesome shoe\",\n          \"5.0 out of 5 stars\\nGood fit and comfortable\"\n        ],\n        \"semantic_type\": \"\",\n        \"description\": \"\"\n      }\n    },\n    {\n      \"column\": \"Rating\",\n      \"properties\": {\n        \"dtype\": \"number\",\n        \"std\": 0,\n        \"min\": 1,\n        \"max\": 5,\n        \"num_unique_values\": 5,\n        \"samples\": [\n          3,\n          2,\n          1\n        ],\n        \"semantic_type\": \"\",\n        \"description\": \"\"\n      }\n    },\n    {\n      \"column\": \"Review Body\",\n      \"properties\": {\n        \"dtype\": \"string\",\n        \"num_unique_values\": 127,\n        \"samples\": [\n          \"media could loaded. doubt Shoues Quality Superb original Shoues I\\u00e2\\u0080\\u0099ts comfortable, Problem Colour order White Sole Shoues Saller send Black, Otherwise problem\",\n          \"shoe comfortable fits true size. Decent stylish design makes great pair shoes.\",\n          \"Great look, light weight nice quality shoe price. Fits true size definitely get good looks\"\n        ],\n        \"semantic_type\": \"\",\n        \"description\": \"\"\n      }\n    },\n    {\n      \"column\": \"sentiments\",\n      \"properties\": {\n        \"dtype\": \"number\",\n        \"std\": 0,\n        \"min\": 0,\n        \"max\": 2,\n        \"num_unique_values\": 3,\n        \"samples\": [\n          1,\n          2,\n          0\n        ],\n        \"semantic_type\": \"\",\n        \"description\": \"\"\n      }\n    },\n    {\n      \"column\": \"review_len\",\n      \"properties\": {\n        \"dtype\": \"number\",\n        \"std\": 616,\n        \"min\": 4,\n        \"max\": 6175,\n        \"num_unique_values\": 104,\n        \"samples\": [\n          276,\n          174,\n          20\n        ],\n        \"semantic_type\": \"\",\n        \"description\": \"\"\n      }\n    },\n    {\n      \"column\": \"word_count\",\n      \"properties\": {\n        \"dtype\": \"number\",\n        \"std\": 92,\n        \"min\": 1,\n        \"max\": 883,\n        \"num_unique_values\": 59,\n        \"samples\": [\n          29,\n          27,\n          34\n        ],\n        \"semantic_type\": \"\",\n        \"description\": \"\"\n      }\n    }\n  ]\n}"
            }
          },
          "metadata": {},
          "execution_count": 30
        }
      ]
    },
    {
      "cell_type": "code",
      "source": [
        "review_pos = sentiment_data[sentiment_data[\"sentiments\"]== 'Positive'].dropna()\n",
        "review_pos = sentiment_data[sentiment_data[\"sentiments\"]== 'Neutral'].dropna()\n",
        "review_pos = sentiment_data[sentiment_data[\"sentiments\"]== 'Negative'].dropna()\n",
        "\n",
        "def generate_ngrams(text, n_gram=1):\n",
        "    token = [token for token in text.lower().split(\" \")\n",
        "    if token != \"\" if token not in STOPWORDS]\n",
        "    ngrams = zip(*[token[i:] for i in range(n_gram)])\n",
        "    return [\" \".join(ngram) for ngram in ngrams]\n",
        "\n",
        "def horizontal_bar_chart(df, color):\n",
        "    trace = go.Bar(\n",
        "        y=df[\"word\"].values[::-1],\n",
        "        x=df[\"wordcount\"].values[::-1],\n",
        "        showlegend=False,\n",
        "        orientation = 'h',\n",
        "        marker=dict(\n",
        "             color=color,\n",
        "             ),\n",
        "         )\n",
        "    return trace"
      ],
      "metadata": {
        "id": "USdOYaoFlP5W"
      },
      "execution_count": 31,
      "outputs": []
    },
    {
      "cell_type": "markdown",
      "source": [
        "**TOKENIZATION**"
      ],
      "metadata": {
        "id": "iglNkt1s5QSG"
      }
    },
    {
      "cell_type": "code",
      "source": [
        "from tensorflow.keras.preprocessing.text import Tokenizer\n",
        "\n",
        "# Assuming 'sentiment_data' is your DataFrame with 'Review Body' column\n",
        "tokenizer = Tokenizer(oov_token=\"<OOV>\")\n",
        "tokenizer.fit_on_texts(sentiment_data['Review Body'])\n",
        "\n",
        "word_index = tokenizer.word_index\n",
        "print(len(word_index))\n",
        "print(word_index)\n"
      ],
      "metadata": {
        "colab": {
          "base_uri": "https://localhost:8080/"
        },
        "id": "eHzHIjd5Utj_",
        "outputId": "035e7499-8c38-4a63-d441-72fa23ebc827"
      },
      "execution_count": 32,
      "outputs": [
        {
          "output_type": "stream",
          "name": "stdout",
          "text": [
            "1204\n",
            "{'<OOV>': 1, 'shoes': 2, 'comfortable': 3, 'good': 4, 'shoe': 5, 'fit': 6, 'great': 7, 'running': 8, 'wear': 9, 'quality': 10, 'product': 11, 'design': 12, 'comfort': 13, 'price': 14, 'light': 15, 'nice': 16, 'look': 17, 'feel': 18, 'one': 19, 'size': 20, 'weight': 21, 'also': 22, 'on': 23, 'puma': 24, 'looks': 25, 'slip': 26, 'well': 27, 'pair': 28, 'support': 29, 'style': 30, 'sneakers': 31, 'foot': 32, 'even': 33, 'like': 34, 'softride': 35, 'feet': 36, 'cushioning': 37, 'buy': 38, 'adidas': 39, 'bold': 40, 'perfect': 41, 'use': 42, 'sole': 43, 'nike': 44, 'rift': 45, 'them': 46, 'time': 47, 'still': 48, \"men's\": 49, 'performance': 50, 'son': 51, 'fits': 52, 'technology': 53, 'the': 54, 'get': 55, 'bought': 56, 'money': 57, 'grip': 58, 'overall': 59, 'lightweight': 60, 'making': 61, 'recommend': 62, 'really': 63, 'long': 64, 'perfectly': 65, 'i': 66, 'it': 67, 'runners': 68, 'stability': 69, 'year': 70, 'amazon': 71, 'value': 72, 'without': 73, 'high': 74, 'construction': 75, 'durable': 76, 'offer': 77, 'aesthetics': 78, 'better': 79, 'best': 80, 'top': 81, 'day': 82, 'provide': 83, 'could': 84, 'got': 85, 'in': 86, 'every': 87, \"shoe's\": 88, 'snug': 89, 'experience': 90, 'heel': 91, 'air': 92, 'work': 93, 'super': 94, 'worth': 95, 'loves': 96, 'amazing': 97, 'walking': 98, 'itâ\\x80\\x99s': 99, 'color': 100, 'true': 101, 'regular': 102, 'excellent': 103, 'go': 104, 'loved': 105, 'soft': 106, 'purchased': 107, 'found': 108, 'materials': 109, 'premium': 110, 'would': 111, 'range': 112, 'exceptional': 113, 'much': 114, 'last': 115, 'find': 116, 'satisfied': 117, 'make': 118, 'used': 119, '5': 120, '2': 121, 'years': 122, 'looking': 123, 'original': 124, 'first': 125, 'stylish': 126, 'media': 127, 'loaded': 128, 'intricate': 129, 'mesh': 130, 'runs': 131, 'secure': 132, 'longer': 133, 'black': 134, 'iâ\\x80\\x99ve': 135, 'wearing': 136, 'right': 137, 'love': 138, 'toe': 139, 'second': 140, 'recently': 141, 'review': 142, 'average': 143, 'expected': 144, 'made': 145, 'arch': 146, 'decent': 147, 'gym': 148, 'sneaker': 149, 'very': 150, 'always': 151, 'since': 152, 'foam': 153, 'breathability': 154, 'little': 155, 'reliable': 156, 'run': 157, '6': 158, 'upper': 159, 'advanced': 160, \"puma's\": 161, 'convenience': 162, 'midsole': 163, 'outsole': 164, 'enhances': 165, 'elastic': 166, 'band': 167, 'various': 168, '3': 169, 'need': 170, 'choice': 171, 'yet': 172, 'traction': 173, 'new': 174, 'white': 175, 'months': 176, 'brand': 177, 'using': 178, 'box': 179, 'highly': 180, 'week': 181, 'blue': 182, 'colors': 183, 'ankle': 184, 'build': 185, 'thought': 186, 'happy': 187, 'heavy': 188, 'all': 189, 'unfortunately': 190, 'expectations': 191, 'outstanding': 192, 'discomfort': 193, 'prolonged': 194, 'durability': 195, 'point': 196, 'built': 197, 'signs': 198, 'tear': 199, 'quickly': 200, 'soles': 201, 'particularly': 202, 'standout': 203, 'terms': 204, 'available': 205, 'visible': 206, 'sports': 207, 'expensive': 208, 'less': 209, 'going': 210, 'part': 211, 'extra': 212, 'people': 213, 'cushioned': 214, 'within': 215, 'shock': 216, 'return': 217, 'difference': 218, 'normal': 219, 'innovative': 220, 'detail': 221, 'attention': 222, 'futuristic': 223, 'providing': 224, 'contributes': 225, 'material': 226, 'overlays': 227, 'ensures': 228, 'laces': 229, 'seeking': 230, 'easy': 231, 'ensuring': 232, 'impact': 233, 'pattern': 234, 'risk': 235, 'fatigue': 236, 'while': 237, 'real': 238, 'makes': 239, 'shoues': 240, 'colour': 241, 'order': 242, 'maybe': 243, 'worn': 244, 'me': 245, 'recommended': 246, 'getting': 247, 'definitely': 248, 'sleetwalk': 249, 'favorite': 250, 'take': 251, 'around': 252, 'move': 253, 'training': 254, 'home': 255, 'walk': 256, 'designed': 257, 'socks': 258, \"son's\": 259, 'active': 260, 'lifestyle': 261, 'seem': 262, 'wide': 263, 'exercise': 264, 'sore': 265, 'narrow': 266, 'iâ\\x80\\x99m': 267, 'sure': 268, 'iâ\\x80\\x99d': 269, '11': 270, 'everyday': 271, 'jogging': 272, 'packaging': 273, 'bad': 274, 'superb': 275, 'marketed': 276, 'considering': 277, \"here's\": 278, 'despite': 279, 'rather': 280, 'leather': 281, 'stitching': 282, 'certainly': 283, 'expect': 284, 'adequate': 285, 'given': 286, 'disappointed': 287, 'wears': 288, 'nothing': 289, 'unique': 290, 'might': 291, 'say': 292, 'live': 293, 'set': 294, 'believe': 295, 'options': 296, 'similar': 297, 'market': 298, 'may': 299, 'type': 300, 'products': 301, 'life': 302, 'regularly': 303, 'strong': 304, 'store': 305, 'tad': 306, 'bit': 307, 'smaller': 308, '7': 309, 'per': 310, 'usage': 311, 'enough': 312, 'now': 313, 'sleek': 314, 'finishing': 315, 'think': 316, 'so': 317, 'bigger': 318, 'sizes': 319, 'greater': 320, 'actual': 321, 'tight': 322, 'school': 323, 'stride': 324, 'whether': 325, 'runner': 326, 'delivery': 327, 'date': 328, 'physical': 329, 'test': 330, 'helps': 331, 'especially': 332, 'provides': 333, 'energy': 334, 'features': 335, 'enthusiasts': 336, 'commitment': 337, 'merging': 338, 'comprehensive': 339, 'engineering': 340, '1': 341, 'offers': 342, 'appearance': 343, 'meticulous': 344, 'breathable': 345, 'moisture': 346, 'synthetic': 347, 'strategically': 348, 'midfoot': 349, 'adds': 350, 'modern': 351, 'ideal': 352, 'functionality': 353, '4': 354, 'engineered': 355, 'balance': 356, 'responsiveness': 357, 'tread': 358, 'confidence': 359, 'terrains': 360, 'integration': 361, 'minimizing': 362, 'extended': 363, 'evident': 364, 'throughout': 365, 'padded': 366, 'ability': 367, 'blisters': 368, 'disappoint': 369, 'combination': 370, 'environment': 371, 'movement': 372, 'quick': 373, 'world': 374, 'road': 375, 'confidently': 376, 'enhancing': 377, 'footwear': 378, 'seamlessly': 379, 'problem': 380, 'workout': 381, 'daily': 382, 'seen': 383, 'thrilled': 384, 'notch': 385, 'decided': 386, 'unexpected': 387, 'hard': 388, \"can't\": 389, 'ever': 390, 'ordered': 391, 'wanted': 392, 'collection': 393, 'yes': 394, 'liked': 395, 'casual': 396, 'improved': 397, 'and': 398, 'wise': 399, 'ok': 400, 'loving': 401, 'thanks': 402, 'apart': 403, 'want': 404, 'sturdy': 405, 'sporty': 406, 'activities': 407, 'absolutely': 408, 'anywhere': 409, 'brilliant': 410, 'turned': 411, 'originality': 412, 'u': 413, 'anything': 414, 'leg': 415, 'ago': 416, 'thing': 417, 'pros': 418, 'laceless': 419, 'anyone': 420, 'everything': 421, 'ensure': 422, 'party': 423, 'place': 424, 'awesome': 425, \"i'm\": 426, 'another': 427, 'said': 428, 'truly': 429, 'noticeable': 430, 'abilities': 431, 'expressed': 432, 'lighter': 433, 'says': 434, 'holding': 435, 'job': 436, 'month': 437, 'vibrant': 438, 'tried': 439, 'aerobic': 440, 'finally': 441, 'metatarsal': 442, 'least': 443, 'monarchs': 444, 'never': 445, 'indoors': 446, 'pronounced': 447, 'tend': 448, 'age': 449, 'ball': 450, 'area': 451, 'larger': 452, 'often': 453, 'styles': 454, 'husband': 455, 'likes': 456, 'these': 457, 'nikes': 458, 'canâ\\x80\\x99t': 459, 'far': 460, 'they': 461, 'up': 462, 'theyâ\\x80\\x99re': 463, 'pretty': 464, 'surprised': 465, 'delivered': 466, 'immediately': 467, 'cup': 468, 'thatâ\\x80\\x99s': 469, 'enjoy': 470, 'out': 471, 'plastic': 472, 'lifting': 473, 'classic': 474, 'affect': 475, 'picture': 476, 'ahead': 477, 'ð\\x9f\\x99\\x82': 478, 'inside': 479, 'fell': 480, 'short': 481, 'steep': 482, 'tag': 483, 'honest': 484, 'supple': 485, 'seemed': 486, 'prone': 487, 'fraying': 488, 'poorly': 489, 'justify': 490, 'case': 491, 'experiencing': 492, 'lack': 493, 'left': 494, 'desired': 495, 'relatively': 496, 'showed': 497, 'scuffing': 498, 'concerned': 499, 'longevity': 500, 'continued': 501, 'special': 502, 'lacked': 503, 'elements': 504, 'underwhelming': 505, 'must': 506, 'poor': 507, 'lower': 508, 'points': 509, 'terrible': 510, 'means': 511, 'cannot': 512, 'superior': 513, 'reasonable': 514, 'clearly': 515, 'future': 516, 'alsoâ\\x80¦': 517, 'although': 518, 'effective': 519, 'jeans': 520, 'give': 521, 'star': 522, '2016': 523, 'bcuz': 524, 'budget': 525, 'gor': 526, '2000': 527, 'stay': 528, 'atleast': 529, 'stardy': 530, 'coming': 531, 'front': 532, 'layer': 533, 'smart': 534, 'chunky': 535, 'brick': 536, 'smell': 537, 'pasting': 538, 'steaching': 539, 'dis': 540, 'calling': 541, 'copy': 542, 'personally': 543, 'dont': 544, 'worry': 545, 'just': 546, 'class': 547, 'issues': 548, 'thinking': 549, 'ur': 550, 'appear': 551, 'open': 552, 'girls': 553, 'workouts': 554, 'effortless': 555, 'seasoned': 556, 'starting': 557, 'companion': 558, 'fitness': 559, 'journey': 560, 'ð\\x9f\\x91\\x8c': 561, 'fully': 562, 'completed': 563, 'mile': 564, 'mins': 565, 'ssc': 566, 'cpo': 567, 'feathery': 568, 'textile': 569, 'asphalt': 570, 'absorbes': 571, 'excess': 572, 'night': 573, 'dedicated': 574, 'introduction': 575, 'realm': 576, 'emerges': 577, 'technological': 578, 'marvel': 579, 'boasting': 580, 'plethora': 581, 'cater': 582, 'needs': 583, 'discerning': 584, 'stands': 585, 'testament': 586, 'dissect': 587, 'minute': 588, 'exploring': 589, 'celebrating': 590, 'marriage': 591, 'defines': 592, 'command': 593, 'streamlined': 594, 'interplay': 595, 'textures': 596, 'branding': 597, 'contrasting': 598, 'showcases': 599, 'asymmetrical': 600, 'creates': 601, 'visual': 602, 'identity': 603, 'crafted': 604, 'ventilation': 605, 'aids': 606, 'management': 607, 'reinforced': 608, 'placed': 609, 'structural': 610, 'integrity': 611, 'contribute': 612, 'distinctive': 613, 'across': 614, 'shapes': 615, 'mechanism': 616, 'introduces': 617, 'element': 618, 'appreciate': 619, 'absence': 620, 'traditional': 621, 'eliminates': 622, 'consuming': 623, 'adjustments': 624, 'hassle': 625, 'free': 626, 'tab': 627, 'facilitate': 628, 'entry': 629, 'exit': 630, 'approach': 631, 'aligns': 632, 'contemporary': 633, 'preferences': 634, 'embedded': 635, 'responsive': 636, 'ride': 637, 'composition': 638, 'absorbs': 639, 'forces': 640, 'translating': 641, 'efficient': 642, \"foam's\": 643, 'density': 644, 'calibrated': 645, 'strike': 646, 'plush': 647, 'needed': 648, 'optimal': 649, 'showcase': 650, 'reflects': 651, 'maximizing': 652, 'multi': 653, 'dimensional': 654, 'variety': 655, 'surfaces': 656, 'offering': 657, 'tackle': 658, 'flex': 659, 'grooves': 660, 'flexibility': 661, 'adaptability': 662, \"runner's\": 663, 'gait': 664, 'thereby': 665, 'along': 666, 'collar': 667, 'adaptive': 668, 'feeling': 669, 'weightlessness': 670, 'reducing': 671, \"system's\": 672, 'conform': 673, 'contours': 674, 'translates': 675, 'personalized': 676, 'crucial': 677, 'factor': 678, \"upper's\": 679, 'strategic': 680, 'encourages': 681, 'circulation': 682, 'preventing': 683, 'excessive': 684, 'heat': 685, 'buildup': 686, 'feature': 687, 'beneficial': 688, 'distance': 689, 'navigating': 690, 'challenging': 691, 'weather': 692, 'conditions': 693, 'wicking': 694, 'properties': 695, 'maintains': 696, 'dry': 697, '8': 698, 'raise': 699, 'questions': 700, 'skillfully': 701, 'addressed': 702, 'concerns': 703, 'together': 704, 'prevent': 705, 'lateral': 706, 'system': 707, 'areas': 708, 'absorption': 709, 'reduces': 710, 'instability': 711, 'additionally': 712, 'direction': 713, 'changes': 714, '9': 715, 'scenarios': 716, 'putting': 717, 'distances': 718, 'demonstrates': 719, 'versatility': 720, 'reliability': 721, \"technology's\": 722, 'spring': 723, 'step': 724, 'sprints': 725, 'absorb': 726, 'minimizes': 727, 'suitable': 728, 'trail': 729, 'conquer': 730, 'diverse': 731, 'environments': 732, 'conclusion': 733, 'exemplar': 734, 'driven': 735, 'embodiment': 736, 'dedication': 737, 'serious': 738, 'alike': 739, 'conclude': 740, 'benchmark': 741, 'details': 742, 'doubt': 743, 'iâ\\x80\\x99ts': 744, 'saller': 745, 'send': 746, 'otherwise': 747, 'remove': 748, 'socialise': 749, 'basis': 750, 'actually': 751, 'didnâ\\x80\\x99t': 752, 'solid': 753, 'embark': 754, 'adventure': 755, 'someone': 756, 'stolen': 757, 'ð\\x9f\\x98\\x94': 758, 'lookout': 759, 'replacement': 760, 'stars': 761, 'twist': 762, 'totally': 763, 'penny': 764, 'side': 765, 'suede': 766, 'comes': 767, 'animals': 768, 'rain': 769, 'water': 770, 'that': 771, 'shoeð\\x9f\\x99\\x82': 772, 'andost': 773, 'add': 774, 'finish': 775, 'sexy': 776, 'redð\\x9f\\x98\\x8d': 777, 'automobile': 778, 'enthusiastic': 779, 'hubby': 780, 'ð\\x9f\\x91\\x8dð\\x9f\\x91\\x8d': 781, 'styled': 782, 'affordable': 783, 'gives': 784, 'ð\\x9f¤©just': 785, 'glues': 786, 'edges': 787, 'elegant': 788, 'cool': 789, 'og': 790, 'ð\\x9f\\x98\\x84this': 791, 'runningand': 792, 'n': 793, 'ð\\x9f\\x91\\x8d': 794, 'owned': 795, '100': 796, 'nb': 797, 'packing': 798, 'damaged': 799, 'if': 800, 'sport': 801, 'designs': 802, 'done': 803, 'grass': 804, 'ground': 805, 'fiting': 806, 'genuin': 807, 'dream': 808, 'didnt': 809, 'wouldk': 810, 'near': 811, 'probably': 812, 'oen': 813, 'purchases': 814, 'football': 815, 'peckag': 816, 'skeptical': 817, 'surprise': 818, 'fashionable': 819, 'trendy': 820, 'regrets': 821, 'buying': 822, 'snugly': 823, 'be': 824, 'beautiful': 825, '2500': 826, 'inr': 827, 'write': 828, 'not': 829, 'verry': 830, 'taste': 831, 'notice': 832, 'cost': 833, 'trekking': 834, 'slightly': 835, 'loose': 836, 'due': 837, 'v': 838, 'shape': 839, 'fabulous': 840, '1500': 841, 'ask': 842, 'more': 843, 'defective': 844, 'line': 845, 'ultra': 846, 'feather': 847, 'withstand': 848, 'brutal': 849, 'routine': 850, 'charm': 851, 'searching': 852, 'teal': 853, 'till': 854, 'invented': 855, 'bored': 856, 'red': 857, 'generic': 858, 'brands': 859, 'allows': 860, 'stretching': 861, 'marble': 862, 'floor': 863, 'slipping': 864, 'added': 865, 'become': 866, 'several': 867, 'reasons': 868, 'level': 869, 'unparalleled': 870, 'periods': 871, 'compromising': 872, 'stroll': 873, 'block': 874, 'session': 875, 'deliver': 876, 'consistent': 877, 'paramount': 878, 'noting': 879, 'fantastic': 880, 'strikes': 881, 'versatile': 882, 'occasions': 883, 'summary': 884, 'combine': 885, 'option': 886, 'compromise': 887, 'drawback': 888, 'initially': 889, 'squeaking': 890, 'sounds': 891, 'gone': 892, 'again': 893, 'tore': 894, 'riding': 895, 'bike': 896, 'cushion': 897, 'intact': 898, 'terrex': 899, 'walked': 900, 'upto': 901, '18': 902, 'kms': 903, 'hilly': 904, 'terrain': 905, 'absolute': 906, 'tough': 907, 'pebble': 908, 'sharp': 909, 'rock': 910, 'felt': 911, 'important': 912, 'moment': 913, 'track': 914, 'youâ\\x80\\x99ll': 915, 'keep': 916, 'backpack': 917, 'knows': 918, 'iâ\\x80\\x99ll': 919, 'ultimate': 920, 'compatbole': 921, 'weating': 922, 'impressive': 923, 'weighted': 924, 'safety': 925, 'managed': 926, 'impressed': 927, 'two': 928, 'completely': 929, 'different': 930, 'experiences': 931, 'choose': 932, 'idea': 933, 'genuine': 934, 'looked': 935, 'share': 936, 'positive': 937, 'exceeded': 938, 'improvements': 939, 'foremost': 940, 'precision': 941, 'hug': 942, 'necessary': 943, 'satisfaction': 944, 'allowing': 945, 'freely': 946, 'experienced': 947, 'enhanced': 948, 'capabilities': 949, 'enabling': 950, 'ease': 951, 'agility': 952, 'maintain': 953, 'helped': 954, 'elevate': 955, 'game': 956, 'proven': 957, 'resilient': 958, 'capable': 959, 'withstanding': 960, 'demands': 961, 'confident': 962, 'continue': 963, 'lasting': 964, 'worthwhile': 965, 'investment': 966, 'extremely': 967, 'pleased': 968, 'significantly': 969, 'accompany': 970, 'adventures': 971, 'come': 972, 'tongue': 973, 'supposed': 974, 'wondering': 975, 'law': 976, 'christmas': 977, 'goes': 978, 'couple': 979, 'condition': 980, 'clean': 981, 'rich': 982, 'wonder': 983, 'isnâ\\x80\\x99t': 984, 'purple': 985, 'royal': 986, 'heal': 987, 'bed': 988, 'cushiony': 989, 'bounce': 990, 'stand': 991, 'turn': 992, 'times': 993, 'touch': 994, 'started': 995, 'orthotics': 996, 'plenty': 997, 'room': 998, 'retain': 999, 'form': 1000, 'depending': 1001, 'many': 1002, 'classes': 1003, 'breakdown': 1004, 'pronation': 1005, 'lot': 1006, 'start': 1007, 'round': 1008, 'spinning': 1009, 'turning': 1010, 'jazzercize': 1011, 'moves': 1012, 'holes': 1013, 'non': 1014, 'existent': 1015, 'zeroed': 1016, 'primarily': 1017, 'thick': 1018, 'stimulate': 1019, 'blood': 1020, 'considered': 1021, 'beyond': 1022, 'middle': 1023, 'swell': 1024, 'try': 1025, 'gear': 1026, 'crazy': 1027, 'there': 1028, 'struggles': 1029, 'sensible': 1030, 'neutral': 1031, 'guys': 1032, 'further': 1033, 'grey': 1034, 'timely': 1035, 'shipping': 1036, 'us': 1037, 'consumers': 1038, 'legitimate': 1039, 'ripped': 1040, 'giannis': 1041, 'check': 1042, 'boxes': 1043, 'legit': 1044, 'put': 1045, 'gift': 1046, 'boyfriend': 1047, 'hold': 1048, 'weeks': 1049, 'retro': 1050, 'exude': 1051, 'grandson': 1052, 'wants': 1053, 'complain': 1054, 'anymore': 1055, 'problems': 1056, 'okay': 1057, 'theyâ\\x80\\x99ll': 1058, 'loosen': 1059, 'wider': 1060, 'afraid': 1061, 'runningblack': 1062, '80': 1063, 'later': 1064, 'drops': 1065, '67': 1066, '100sâ\\x80¦': 1067, 'shame': 1068, 'seller': 1069, 'dress': 1070, 'code': 1071, 'for': 1072, 'co': 1073, 'workerâ\\x80\\x99s': 1074, 'â\\x80\\x9cshoe': 1075, 'abusive': 1076, 'waste': 1077, 'no': 1078, 'lasted': 1079, 'fairly': 1080, 'exceptionally': 1081, 'stylishð\\x9f\\x91\\x8dð\\x9f\\x8f¼': 1082, 'waited': 1083, 'drop': 1084, 'purchasing': 1085, 'wait': 1086, 'clothing': 1087, 'lebron': 1088, 'signature': 1089, '70': 1090, 'bucks': 1091, '104': 1092, 'standing': 1093, 'dunks': 1094, 'match': 1095, 'almost': 1096, 'complimented': 1097, 'however': 1098, 'pleasantly': 1099, 'purchase': 1100, 'deal': 1101, 'way': 1102, 'dozen': 1103, 'pairs': 1104, 'apparent': 1105, 'winning': 1106, 'structurally': 1107, 'strongthe': 1108, 'nicely': 1109, 'unlacedgreat': 1110, 'absorptionmiddle': 1111, 'neither': 1112, 'pushes': 1113, 'leave': 1114, 'floatingthe': 1115, 'widens': 1116, 'sides': 1117, 'squeezing': 1118, 'cons': 1119, 'basic': 1120, 'insole': 1121, 'shoeslow': 1122, 'rise': 1123, 'suck': 1124, 'sock': 1125, '40': 1126, '55': 1127, 'donâ\\x80\\x99t': 1128, 'youâ\\x80\\x99re': 1129, 'wife': 1130, 'womanâ\\x80\\x99s': 1131, 'wrong': 1132, 'shoeupdate': 1133, '26': 1134, '24': 1135, 'consistently': 1136, 'handled': 1137, 'full': 1138, 'disney': 1139, 'averaging': 1140, '25': 1141, '000': 1142, 'steps': 1143, 'parks': 1144, 'tired': 1145, 'chafing': 1146, 'irritation': 1147, 'formed': 1148, 'wonderfully': 1149, 'behind': 1150, 'ordering': 1151, 'whenever': 1152, 'genuinely': 1153, 'brooks': 1154, 'which': 1155, 'wonderful': 1156, 'cloud': 1157, 'hyped': 1158, 'humble': 1159, 'opinion': 1160, 'jam': 1161, 'desire': 1162, 'though': 1163, 'comfy': 1164, 'came': 1165, 'w': 1166, 'wrapped': 1167, 'bag': 1168, 'damage': 1169, 'traveling': 1170, 'thankfully': 1171, 'usually': 1172, '10': 1173, 'seeing': 1174, 'reviews': 1175, 'over': 1176, 'tennis': 1177, 'weights': 1178, 'something': 1179, 'missing': 1180, 'louder': 1181, 'pics': 1182, 'chance': 1183, 'feels': 1184, 'friends': 1185, 'buyð\\x9f\\x91\\x8dð\\x9f\\x8f½the': 1186, 'whatâ\\x80\\x99s': 1187, 'perfectâ\\x80¦': 1188, 'three': 1189, 'infinity': 1190, 'typical': 1191, 'sizing': 1192, 'working': 1193, 'took': 1194, 'exactly': 1195, 'title': 1196, 'four': 1197, '14': 1198, 'old': 1199, 'reasonably': 1200, 'priced': 1201, 'break': 1202, 'comfortably': 1203, 'typically': 1204}\n"
          ]
        }
      ]
    },
    {
      "cell_type": "code",
      "source": [
        "from tensorflow.keras.preprocessing.text import Tokenizer\n",
        "from tensorflow.keras.preprocessing.sequence import pad_sequences\n",
        "\n",
        "\n",
        "# Replace 'sentences' with your actual variable containing the text data\n",
        "sequences = tokenizer.texts_to_sequences(sentiment_data)\n",
        "padded = pad_sequences(sequences, padding=\"post\")\n",
        "\n",
        "# Printing the first padded sequence and its shape\n",
        "print(padded[0])\n",
        "print(padded.shape)\n"
      ],
      "metadata": {
        "colab": {
          "base_uri": "https://localhost:8080/"
        },
        "id": "31yQcNZWV4A1",
        "outputId": "263420ff-885f-4017-fcf3-1e1b81d7c5cb"
      },
      "execution_count": 34,
      "outputs": [
        {
          "output_type": "stream",
          "name": "stdout",
          "text": [
            "[1 1]\n",
            "(11, 2)\n"
          ]
        }
      ]
    },
    {
      "cell_type": "code",
      "source": [
        "vocab_size = 10000\n",
        "embedding_dim = 16\n",
        "max_length = 100\n",
        "trunc_type = \"post\"\n",
        "padding_type  = \"post\"\n",
        "oov_tok = \"<OOV>\"\n",
        "training_size = 8000"
      ],
      "metadata": {
        "id": "-Ut2dgnIW_lX"
      },
      "execution_count": 35,
      "outputs": []
    },
    {
      "cell_type": "code",
      "source": [
        "# Assuming 'sentiment_data' is your DataFrame with 'Review Body' and 'Sentiment' columns\n",
        "training_size = int(len(sentiment_data) * 0.8)\n",
        "\n",
        "# Replace 'Review Body' and 'Sentiment' with your actual column names\n",
        "training_sentences = sentiment_data['Review Body'][:training_size]\n",
        "testing_sentences = sentiment_data['Review Body'][training_size:]\n",
        "training_labels = sentiment_data['sentiments'][:training_size]\n",
        "testing_labels = sentiment_data['sentiments'][training_size:]\n"
      ],
      "metadata": {
        "id": "zUvJPleCXzb_"
      },
      "execution_count": 36,
      "outputs": []
    },
    {
      "cell_type": "code",
      "source": [
        "tokenizer = Tokenizer(num_words=vocab_size, oov_token=oov_tok)\n",
        "tokenizer.fit_on_texts(training_sentences)\n",
        "word_index = tokenizer.word_index\n",
        "\n",
        "training_sequences = tokenizer.texts_to_sequences(training_sentences)\n",
        "training_padded = pad_sequences(training_sequences, maxlen=max_length, padding=padding_type, truncating=trunc_type)\n",
        "\n",
        "testing_sequences = tokenizer.texts_to_sequences(testing_sentences)\n",
        "testing_padded = pad_sequences(testing_sequences, maxlen=max_length, padding=padding_type, truncating=trunc_type)"
      ],
      "metadata": {
        "id": "juEpGtdkZ-pQ"
      },
      "execution_count": 37,
      "outputs": []
    },
    {
      "cell_type": "markdown",
      "source": [
        "**Plot confusion matrix**"
      ],
      "metadata": {
        "id": "V17OAHkJkSLv"
      }
    },
    {
      "cell_type": "code",
      "source": [
        "def plot_confusion_matrix(cm, classes,\n",
        "                          normalise=False,\n",
        "                          title='Confusion matrix',\n",
        "                          cmap=plt.cm.Blues):\n",
        "  plt.imshow(cm, interpolation='nearest', cmap=cmap)\n",
        "  plt.title(title)\n",
        "  plt.colorbar()\n",
        "  tick_marks = np.arange(len(classes))\n",
        "  plt.xticks(tick_marks, classes, rotation=45)\n",
        "  plt.yticks(tick_marks, classes)\n",
        "\n",
        "  if normalise:\n",
        "    cm=cm.astype('float') / cm.sum(axis=1)[:, np.newaxis]\n",
        "    print(\"Normalised confusion matrix\")\n",
        "  else:\n",
        "     print(\"Confusion matrix, without normalisation\")"
      ],
      "metadata": {
        "id": "4xWRXe5OKbuf"
      },
      "execution_count": 38,
      "outputs": []
    },
    {
      "cell_type": "markdown",
      "source": [
        "**MODEL SELECTION**"
      ],
      "metadata": {
        "id": "qCcpOXqOM5LD"
      }
    },
    {
      "cell_type": "code",
      "source": [
        "import pandas as pd\n",
        "import numpy as np\n",
        "from sklearn.model_selection import train_test_split, cross_val_score\n",
        "from sklearn.feature_extraction.text import CountVectorizer\n",
        "from sklearn.linear_model import LogisticRegression\n",
        "from sklearn.tree import DecisionTreeClassifier\n",
        "from sklearn.ensemble import RandomForestClassifier\n",
        "from sklearn.svm import SVC\n",
        "from sklearn.naive_bayes import MultinomialNB\n",
        "\n",
        "# Assuming 'sentiment.csv' contains 'Review Body' and 'sentiment' columns\n",
        "reviews_df = pd.read_csv('sentiment.csv')\n",
        "\n",
        "# Assuming 'Review Body' contains the text data, and 'sentiment' contains labels\n",
        "X = reviews_df['Review Body']\n",
        "y = reviews_df['sentiments']\n",
        "\n",
        "# Split the data into training and test sets\n",
        "X_train, X_test, y_train, y_test = train_test_split(X, y, test_size=0.2, random_state=42)\n",
        "\n",
        "# Use CountVectorizer to convert text data to a numeric format\n",
        "vectorizer = CountVectorizer()\n",
        "X_train_vectorized = vectorizer.fit_transform(X_train)\n",
        "X_test_vectorized = vectorizer.transform(X_test)\n",
        "\n",
        "models = [\n",
        "    ('Logistic Regression', LogisticRegression()),\n",
        "    ('Decision Tree', DecisionTreeClassifier()),\n",
        "    ('Naive Bayes', MultinomialNB()),\n",
        "    ('SVM', SVC())\n",
        "]\n",
        "\n",
        "best_accuracy = 0\n",
        "best_model = None\n",
        "\n",
        "for name, model in models:\n",
        "    scores = cross_val_score(model, X_train_vectorized, y_train, cv=5)\n",
        "    mean_accuracy = np.mean(scores)\n",
        "    print(f'{name} Accuracy: {mean_accuracy}')\n",
        "\n",
        "    if mean_accuracy > best_accuracy:\n",
        "        best_accuracy = mean_accuracy\n",
        "        best_model = model\n",
        "\n",
        "# Fit the best model on the training data\n",
        "best_model.fit(X_train_vectorized, y_train)\n",
        "\n",
        "# Now use the best model to make predictions on the test set\n",
        "y_pred = best_model.predict(X_test_vectorized)\n"
      ],
      "metadata": {
        "colab": {
          "base_uri": "https://localhost:8080/"
        },
        "id": "iXXMbOnvMzgq",
        "outputId": "92bf5a71-30e3-40a6-c3cd-ad4558fae5ff"
      },
      "execution_count": 39,
      "outputs": [
        {
          "output_type": "stream",
          "name": "stdout",
          "text": [
            "Logistic Regression Accuracy: 0.980952380952381\n",
            "Decision Tree Accuracy: 0.9619047619047618\n",
            "Naive Bayes Accuracy: 0.980952380952381\n",
            "SVM Accuracy: 0.980952380952381\n"
          ]
        }
      ]
    },
    {
      "cell_type": "markdown",
      "source": [
        "**MODEL :SVM CLASSIFIER TRAINING AND TESTING**"
      ],
      "metadata": {
        "id": "pIvGIuFa49IJ"
      }
    },
    {
      "cell_type": "code",
      "source": [
        "from sklearn.pipeline import Pipeline\n",
        "from sklearn.feature_extraction.text import TfidfVectorizer\n",
        "from sklearn.svm import SVC\n",
        "text_model = Pipeline([('tfidf',TfidfVectorizer()),('model',SVC())])\n"
      ],
      "metadata": {
        "id": "S-Ax0CXozQoN"
      },
      "execution_count": 40,
      "outputs": []
    },
    {
      "cell_type": "code",
      "source": [
        "from sklearn.model_selection import train_test_split\n",
        "from sklearn.svm import SVC\n",
        "from sklearn.feature_extraction.text import CountVectorizer\n",
        "import pandas as pd\n",
        "import numpy as np\n",
        "\n",
        "# Assuming you have a dataset 'sentiment.csv' with columns 'Review Body' and 'sentiment'\n",
        "reviews_df = pd.read_csv('/content/sentiment.csv')\n",
        "\n",
        "# Assuming you have defined X and y\n",
        "X = reviews_df['Review Body']\n",
        "y = reviews_df['sentiments']\n",
        "\n",
        "# Split the data into training and testing sets\n",
        "x_train, x_test, y_train, y_test = train_test_split(X, y, test_size=0.2, random_state=42)\n",
        "\n",
        "# Use CountVectorizer to convert text data to a numeric format\n",
        "vectorizer = CountVectorizer()\n",
        "x_train_vectorized = vectorizer.fit_transform(x_train)\n",
        "x_test_vectorized = vectorizer.transform(x_test)\n",
        "\n",
        "# Assuming text_model is initialized as an SVM classifier\n",
        "text_model = SVC()\n",
        "\n",
        "# Train the SVM model\n",
        "text_model.fit(x_train_vectorized, y_train)\n",
        "\n",
        "# Make predictions on the test set\n",
        "y_pred = text_model.predict(x_test_vectorized)\n",
        "\n",
        "# Get unique values and their counts in the predicted array\n",
        "unique_values, counts = np.unique(y_pred, return_counts=True)\n",
        "\n",
        "np.unique(y_pred,return_counts=True)\n",
        "\n"
      ],
      "metadata": {
        "colab": {
          "base_uri": "https://localhost:8080/"
        },
        "id": "zFFRFVsmzUTn",
        "outputId": "976fa571-942d-4994-cb68-51723c6615cb"
      },
      "execution_count": 41,
      "outputs": [
        {
          "output_type": "execute_result",
          "data": {
            "text/plain": [
              "(array([1]), array([26]))"
            ]
          },
          "metadata": {},
          "execution_count": 41
        }
      ]
    },
    {
      "cell_type": "code",
      "source": [
        "import pandas as pd\n",
        "import numpy as np\n",
        "import re\n",
        "import warnings\n",
        "import seaborn as sns\n",
        "import matplotlib.pyplot as plt\n",
        "from sklearn.model_selection import train_test_split\n",
        "from sklearn.svm import LinearSVC\n",
        "from sklearn.feature_extraction.text import TfidfVectorizer\n",
        "from sklearn.metrics import classification_report, confusion_matrix, accuracy_score\n",
        "\n",
        "# Load the data set\n",
        "data = pd.read_csv('sentiment.csv')\n",
        "\n",
        "# Declare independent and dependent variables\n",
        "X = data['Review Body']\n",
        "y = data['sentiments']\n",
        "\n",
        "# Vectorize the text data using TF-IDF vectorizer\n",
        "tfidf = TfidfVectorizer(sublinear_tf=True, min_df=5, max_df=0.7, norm='l2', encoding='latin-1', ngram_range=(1, 2), stop_words='english')\n",
        "X_tfidf = tfidf.fit_transform(X)  # Fix variable name here, use X instead of punc_text\n",
        "\n",
        "# Split the data into train and test sets\n",
        "X_train, X_test, Y_train, Y_test = train_test_split(X_tfidf, y, test_size=0.1, random_state=0)\n",
        "\n",
        "# Build the SVM model\n",
        "clf = LinearSVC()\n",
        "\n",
        "# Fit the train data into the model\n",
        "clf.fit(X_train, Y_train)\n",
        "\n",
        "# Predict the result\n",
        "y_pred = clf.predict(X_test)\n",
        "\n",
        "# Display the confusion matrix, classification report, and accuracy score\n",
        "print(\"Confusion Matrix\\n\", confusion_matrix(Y_test, y_pred))\n",
        "print(\"\\n\")\n",
        "print(\"Classification Report\\n\", classification_report(Y_test, y_pred))\n",
        "print(\"\\n\")\n",
        "print(\"Accuracy : \", accuracy_score(Y_test, y_pred) * 100)\n"
      ],
      "metadata": {
        "colab": {
          "base_uri": "https://localhost:8080/"
        },
        "id": "-1LPH7XJr01r",
        "outputId": "ad8590ac-1779-4c0e-80d4-4a937eb7ffa6"
      },
      "execution_count": 42,
      "outputs": [
        {
          "output_type": "stream",
          "name": "stdout",
          "text": [
            "Confusion Matrix\n",
            " [[13]]\n",
            "\n",
            "\n",
            "Classification Report\n",
            "               precision    recall  f1-score   support\n",
            "\n",
            "           1       1.00      1.00      1.00        13\n",
            "\n",
            "    accuracy                           1.00        13\n",
            "   macro avg       1.00      1.00      1.00        13\n",
            "weighted avg       1.00      1.00      1.00        13\n",
            "\n",
            "\n",
            "\n",
            "Accuracy :  100.0\n"
          ]
        }
      ]
    },
    {
      "cell_type": "code",
      "source": [
        "import pandas as pd\n",
        "import numpy as np\n",
        "import re\n",
        "import warnings\n",
        "import seaborn as sns\n",
        "import matplotlib.pyplot as plt\n",
        "from sklearn.model_selection import train_test_split\n",
        "from sklearn.svm import LinearSVC\n",
        "from sklearn.feature_extraction.text import TfidfVectorizer\n",
        "from sklearn.metrics import classification_report, confusion_matrix, accuracy_score\n",
        "\n",
        "# Load the data set\n",
        "data = pd.read_csv('sentiment.csv')\n",
        "\n",
        "# Declare independent and dependent variables\n",
        "X = data['Review Body']\n",
        "y = data['sentiments']\n",
        "\n",
        "# Vectorize the text data using TF-IDF vectorizer\n",
        "tfidf = TfidfVectorizer(sublinear_tf=True, min_df=5, max_df=0.7, norm='l2', encoding='latin-1', ngram_range=(1, 2), stop_words='english')\n",
        "X_tfidf = tfidf.fit_transform(X)  # Fix variable name here, use X instead of punc_text\n",
        "\n",
        "# Split the data into train and test sets\n",
        "X_train, X_test, Y_train, Y_test = train_test_split(X_tfidf, y, test_size=0.1, random_state=0)\n",
        "\n",
        "# Build the SVM model\n",
        "clf = LinearSVC()\n",
        "\n",
        "# Fit the train data into the model\n",
        "clf.fit(X_train, Y_train)\n",
        "\n",
        "# Predict the result\n",
        "y_pred = clf.predict(X_test)\n",
        "print(\"Confusion Matrix\\n\", confusion_matrix(Y_test, y_pred))\n",
        "print(\"\\n\")\n",
        "print(\"Classification Report\\n\", classification_report(Y_test, y_pred))"
      ],
      "metadata": {
        "colab": {
          "base_uri": "https://localhost:8080/"
        },
        "id": "_iKVm8IU7PvX",
        "outputId": "a608bcfd-3ab0-4906-8d8c-e2d1ad094131"
      },
      "execution_count": 43,
      "outputs": [
        {
          "output_type": "stream",
          "name": "stdout",
          "text": [
            "Confusion Matrix\n",
            " [[13]]\n",
            "\n",
            "\n",
            "Classification Report\n",
            "               precision    recall  f1-score   support\n",
            "\n",
            "           1       1.00      1.00      1.00        13\n",
            "\n",
            "    accuracy                           1.00        13\n",
            "   macro avg       1.00      1.00      1.00        13\n",
            "weighted avg       1.00      1.00      1.00        13\n",
            "\n"
          ]
        }
      ]
    },
    {
      "cell_type": "markdown",
      "source": [
        "**svm classifier confusion matrix**"
      ],
      "metadata": {
        "id": "6OX6xXVj6-Ji"
      }
    },
    {
      "cell_type": "code",
      "source": [
        "from sklearn import metrics\n",
        "import numpy as np\n",
        "import matplotlib.pyplot as plt\n",
        "import itertools  # Add this import for itertools\n",
        "data = pd.read_csv('sentiment.csv')\n",
        "\n",
        "# Declare independent and dependent variables\n",
        "X = data['Review Body']\n",
        "y = data['sentiments']\n",
        "\n",
        "# Assuming you have y_test and y_pred defined\n",
        "# Split the data into train and test sets\n",
        "X_train, X_test, Y_train, Y_test = train_test_split(X_tfidf, y, test_size=0.2, random_state=0)\n",
        "\n",
        "# Build the SVM model\n",
        "clf = LinearSVC()\n",
        "\n",
        "# Fit the train data into the model\n",
        "clf.fit(X_train, Y_train)\n",
        "\n",
        "# Predict the result\n",
        "y_pred = clf.predict(X_test)\n",
        "\n",
        "# Calculate confusion matrix\n",
        "cm = metrics.confusion_matrix(Y_test, y_pred)\n",
        "\n",
        "# Define the function plot_confusion_matrix (you should have this function implemented)\n",
        "def plot_confusion_matrix(cm, classes, normalize=False, title='Confusion matrix', cmap=plt.cm.Blues):\n",
        "    plt.imshow(cm, interpolation='nearest', cmap=cmap)\n",
        "    plt.title(title)\n",
        "    plt.colorbar()\n",
        "\n",
        "    tick_marks = np.arange(len(classes))\n",
        "    plt.xticks(tick_marks, classes, rotation=45)\n",
        "    plt.yticks(tick_marks, classes)\n",
        "\n",
        "    fmt = '.2f' if normalize else 'd'\n",
        "    thresh = cm.max() / 2.\n",
        "    for i, j in itertools.product(range(cm.shape[0]), range(cm.shape[1])):\n",
        "        plt.text(j, i, format(cm[i, j], fmt),\n",
        "                 horizontalalignment=\"center\",\n",
        "                 color=\"white\" if cm[i, j] > thresh else \"black\")\n",
        "\n",
        "    plt.tight_layout()\n",
        "    plt.ylabel('True label')\n",
        "    plt.xlabel('Predicted label')\n",
        "\n",
        "# Plot confusion matrix\n",
        "plot_confusion_matrix(cm, classes=[\"Negative\", \"Neutral\", \"Positive\"])\n",
        "plt.show()\n"
      ],
      "metadata": {
        "colab": {
          "base_uri": "https://localhost:8080/",
          "height": 506
        },
        "id": "Q6SXK0DsmFTJ",
        "outputId": "9454f2fc-b00e-4e87-e0e1-83c6d8908080"
      },
      "execution_count": 44,
      "outputs": [
        {
          "output_type": "display_data",
          "data": {
            "text/plain": [
              "<Figure size 640x480 with 2 Axes>"
            ],
            "image/png": "[encoded data removed]"
          },
          "metadata": {}
        }
      ]
    },
    {
      "cell_type": "markdown",
      "source": [
        "**ROC curve for svm classifier**"
      ],
      "metadata": {
        "id": "hbr6Zei-70eC"
      }
    },
    {
      "cell_type": "code",
      "source": [
        "from sklearn.preprocessing import label_binarize\n",
        "from sklearn.multiclass import OneVsRestClassifier\n",
        "from sklearn import svm\n",
        "from sklearn.model_selection import train_test_split\n",
        "from sklearn.feature_extraction.text import TfidfVectorizer\n",
        "from sklearn.metrics import roc_curve, auc\n",
        "import matplotlib.pyplot as plt\n",
        "import numpy as np\n",
        "from itertools import cycle\n",
        "\n",
        "# Assuming 'X' is your input data and 'y' is your target feature\n",
        "# Replace this with your actual data\n",
        "\n",
        "# TF-IDF Vectorizer\n",
        "tfidf_vectorizer = TfidfVectorizer(stop_words='english')\n",
        "X_tfidf = tfidf_vectorizer.fit_transform(X)\n",
        "\n",
        "# Binarize the target variable\n",
        "y = label_binarize(y, classes=[0, 1, 2])\n",
        "n_classes = y.shape[1]\n",
        "\n",
        "# Train-test split (80:20)\n",
        "X_train, X_test, y_train, y_test = train_test_split(X_tfidf, y, test_size=0.2, random_state=0)\n",
        "\n",
        "# OvR Classifier\n",
        "classifier = OneVsRestClassifier(svm.SVC(kernel='linear', probability=True, random_state=10))\n",
        "\n",
        "# Fit the classifier on the training data\n",
        "classifier.fit(X_train, y_train)\n",
        "\n",
        "# Obtain decision function scores on the test data\n",
        "y_score = classifier.decision_function(X_test)\n",
        "\n",
        "# Computing TPR and FPR\n",
        "fpr = dict()\n",
        "tpr = dict()\n",
        "roc_auc = dict()\n",
        "for i in range(n_classes):\n",
        "    fpr[i], tpr[i], _ = roc_curve(y_test[:, i], y_score[:, i])\n",
        "    roc_auc[i] = auc(fpr[i], tpr[i])\n",
        "\n",
        "# Compute micro-average ROC curve and ROC area\n",
        "fpr[\"micro\"], tpr[\"micro\"], _ = roc_curve(y_test.ravel(), y_score.ravel())\n",
        "roc_auc[\"micro\"] = auc(fpr[\"micro\"], tpr[\"micro\"])\n",
        "\n",
        "# Aggregate all false positive rates\n",
        "all_fpr = np.unique(np.concatenate([fpr[i] for i in range(n_classes)]))\n",
        "\n",
        "# Interpolate all ROC curves at these points\n",
        "mean_tpr = np.zeros_like(all_fpr)\n",
        "for i in range(n_classes):\n",
        "    mean_tpr += np.interp(all_fpr, fpr[i], tpr[i])\n",
        "\n",
        "# Finally, average it and compute AUC\n",
        "mean_tpr /= n_classes\n",
        "fpr[\"macro\"] = all_fpr\n",
        "tpr[\"macro\"] = mean_tpr\n",
        "roc_auc[\"macro\"] = auc(fpr[\"macro\"], tpr[\"macro\"])\n",
        "\n",
        "# Plot all ROC curves\n",
        "plt.figure()\n",
        "plt.plot(fpr[\"micro\"], tpr[\"micro\"],\n",
        "         label=\"micro-average ROC curve (area = {0:0.2f})\"\n",
        "               ''.format(roc_auc[\"micro\"]),\n",
        "         color='deeppink', linestyle=':', linewidth=4)\n",
        "plt.plot(fpr[\"macro\"], tpr[\"macro\"],\n",
        "         label='macro-average ROC curve (area = {0:0.2f})'\n",
        "               ''.format(roc_auc[\"macro\"]),\n",
        "         color='navy', linestyle=':', linewidth=4)\n",
        "colors = cycle(['aqua', 'darkorange', 'cornflowerblue'])\n",
        "for i, color in zip(range(n_classes), colors):\n",
        "    plt.plot(fpr[i], tpr[i], color=color, lw=4,\n",
        "             label='ROC curve of class {0} (area = {0:0.2f})'\n",
        "                   ''.format(i, roc_auc[i]))\n",
        "plt.plot([0, 1], [0, 1], 'k--', lw=4)\n",
        "plt.xlim([0.0, 1.0])\n",
        "plt.ylim([0.0, 1.05])\n",
        "plt.xlabel('False Positive Rate')\n",
        "plt.ylabel('True Positive Rate')\n",
        "plt.title('Receiver operating characteristic to multi-class')\n",
        "plt.legend(loc=\"lower right\")\n",
        "plt.show()\n",
        "\n",
        "\n",
        "\n"
      ],
      "metadata": {
        "colab": {
          "base_uri": "https://localhost:8080/",
          "height": 472
        },
        "id": "-2z2utvBzUe0",
        "outputId": "a9c1396d-081d-4f67-8172-1eead797fe63"
      },
      "execution_count": 45,
      "outputs": [
        {
          "output_type": "display_data",
          "data": {
            "text/plain": [
              "<Figure size 640x480 with 1 Axes>"
            ],
            "image/png": "[encoded data removed]"
          },
          "metadata": {}
        }
      ]
    },
    {
      "cell_type": "code",
      "source": [
        "from sklearn.feature_extraction.text import TfidfVectorizer\n",
        "from sklearn.svm import LinearSVC\n",
        "import pandas as pd\n",
        "\n",
        "# Assuming X_train is a DataFrame with a column 'Review Body' containing text samples\n",
        "# Assuming y_train is a binary array (0 or 1)\n",
        "X_train = pd.read_csv('sentiment.csv')\n",
        "y_train = X_train['sentiments']  # Assuming Sentiment is the target column\n",
        "\n",
        "# Extract the text data from the DataFrame\n",
        "text_samples = X_train['Review Body']\n",
        "\n",
        "# Use TF-IDF vectorizer to convert text data to numeric format\n",
        "vectorizer = TfidfVectorizer()\n",
        "X_train_vectorized = vectorizer.fit_transform(text_samples)\n",
        "\n",
        "# Create a LinearSVC model\n",
        "model = LinearSVC()\n",
        "\n",
        "# Train the model on the training data\n",
        "model.fit(X_train_vectorized, y_train)\n",
        "\n",
        "# Function to predict sentiment\n",
        "def predict_sentiment(text):\n",
        "    # Transform the input text using the same vectorizer\n",
        "    text_vectorized = vectorizer.transform(text)\n",
        "\n",
        "    # Predict sentiment using the trained LinearSVC classifier\n",
        "    predicted_sentiment = model.predict(text_vectorized)\n",
        "\n",
        "    # Return the predicted sentiment as a string\n",
        "\n",
        "    if predicted_sentiment == 1:\n",
        "        return 'Positive'\n",
        "    elif predicted_sentiment == 2:\n",
        "        return 'Neutral'\n",
        "    elif predicted_sentiment == 0:\n",
        "        return 'Negative'\n",
        "    else:\n",
        "        return 'Unknown Sentiment'\n",
        "\n",
        "\n",
        "# Test the function with an example input text\n",
        "text = [\"Sizing runs small, didnÂ’t come in original Nike Packaging.\"]\n",
        "predicted_sentiment_str = predict_sentiment(text)\n",
        "print(predicted_sentiment_str)\n",
        "\n",
        "\n",
        "\n"
      ],
      "metadata": {
        "colab": {
          "base_uri": "https://localhost:8080/"
        },
        "id": "DPYx_LeB0p5Z",
        "outputId": "1c5828fb-bd57-48d4-f7dc-e46232bb1854"
      },
      "execution_count": 47,
      "outputs": [
        {
          "output_type": "stream",
          "name": "stdout",
          "text": [
            "Positive\n"
          ]
        }
      ]
    },
    {
      "cell_type": "code",
      "source": [
        "import pandas as pd\n",
        "import numpy as np\n",
        "import re\n",
        "import warnings\n",
        "import seaborn as sns\n",
        "import matplotlib.pyplot as plt\n",
        "from sklearn.model_selection import train_test_split\n",
        "from sklearn.svm import LinearSVC\n",
        "from sklearn.feature_extraction.text import TfidfVectorizer\n",
        "from sklearn.metrics import classification_report, confusion_matrix, accuracy_score\n",
        "\n",
        "# Load the data set\n",
        "data = pd.read_csv('sentiment.csv')\n",
        "\n",
        "# Declare independent and dependent variables\n",
        "X_text = data['Review Body']\n",
        "X_url = data['productURL']  # Assuming you have a column named 'Product URL' in your CSV file\n",
        "y = data['sentiments']\n",
        "\n",
        "# Combine text and URL information\n",
        "X_combined = X_text + ' ' + X_url\n",
        "\n",
        "# Vectorize the combined data using TF-IDF vectorizer\n",
        "tfidf = TfidfVectorizer(sublinear_tf=True, min_df=5, max_df=0.7, norm='l2', encoding='latin-1', ngram_range=(1, 2), stop_words='english')\n",
        "X_tfidf = tfidf.fit_transform(X_combined)\n",
        "\n",
        "# Split the data into train and test sets\n",
        "X_train, X_test, Y_train, Y_test = train_test_split(X_tfidf, y, test_size=0.1, random_state=0)\n",
        "\n",
        "# Build the SVM model\n",
        "clf = LinearSVC()\n",
        "\n",
        "# Fit the train data into the model\n",
        "clf.fit(X_train, Y_train)\n",
        "\n",
        "# Predict the result\n",
        "y_pred = clf.predict(X_test)\n",
        "\n",
        "# Display the confusion matrix, classification report, and accuracy score\n",
        "print(\"Confusion Matrix\\n\", confusion_matrix(Y_test, y_pred))\n",
        "print(\"\\n\")\n",
        "print(\"Classification Report\\n\", classification_report(Y_test, y_pred))\n",
        "print(\"\\n\")\n",
        "print(\"Accuracy : \", accuracy_score(Y_test, y_pred) * 100)\n"
      ],
      "metadata": {
        "id": "iHOGqnfQnwhe",
        "colab": {
          "base_uri": "https://localhost:8080/"
        },
        "outputId": "2fae52ed-23a1-4f58-f5f5-c90a5f33d449"
      },
      "execution_count": 48,
      "outputs": [
        {
          "output_type": "stream",
          "name": "stdout",
          "text": [
            "Confusion Matrix\n",
            " [[13]]\n",
            "\n",
            "\n",
            "Classification Report\n",
            "               precision    recall  f1-score   support\n",
            "\n",
            "           1       1.00      1.00      1.00        13\n",
            "\n",
            "    accuracy                           1.00        13\n",
            "   macro avg       1.00      1.00      1.00        13\n",
            "weighted avg       1.00      1.00      1.00        13\n",
            "\n",
            "\n",
            "\n",
            "Accuracy :  100.0\n"
          ]
        }
      ]
    },
    {
      "cell_type": "code",
      "source": [
        "from sklearn import metrics\n",
        "import numpy as np\n",
        "import matplotlib.pyplot as plt\n",
        "import itertools\n",
        "\n",
        "# ... (previous code)\n",
        "\n",
        "# Calculate confusion matrix\n",
        "cm = metrics.confusion_matrix(Y_test, y_pred)\n",
        "\n",
        "# Define the function plot_confusion_matrix\n",
        "def plot_confusion_matrix(cm, classes, urls, normalize=False, title='Confusion matrix', cmap=plt.cm.Blues):\n",
        "    plt.imshow(cm, interpolation='nearest', cmap=cmap)\n",
        "    plt.title(title)\n",
        "    plt.colorbar()\n",
        "\n",
        "    tick_marks = np.arange(len(classes))\n",
        "    plt.xticks(tick_marks, classes, rotation=45)\n",
        "    plt.yticks(tick_marks, classes)\n",
        "\n",
        "    fmt = '.2f' if normalize else 'd'\n",
        "    thresh = cm.max() / 2.\n",
        "    for i, j in itertools.product(range(cm.shape[0]), range(cm.shape[1])):\n",
        "        plt.text(j, i, f\"{format(cm[i, j], fmt)}\\n{urls[i, j]}\",  # Add URLs to the label\n",
        "                 horizontalalignment=\"center\",\n",
        "                 color=\"white\" if cm[i, j] > thresh else \"black\")\n",
        "\n",
        "    plt.tight_layout()\n",
        "    plt.ylabel('True label')\n",
        "    plt.xlabel('Predicted label and Product URL')\n",
        "\n",
        "# Assuming you have a column named 'Product URL' in your CSV file\n",
        "urls_test = X_test  # Modify this line based on your actual data structure\n",
        "\n",
        "# Plot confusion matrix with URLs\n",
        "plot_confusion_matrix(cm, classes=[\"Negative\", \"Neutral\", \"Positive\"], urls=urls_test)\n",
        "plt.show()\n"
      ],
      "metadata": {
        "colab": {
          "base_uri": "https://localhost:8080/",
          "height": 506
        },
        "id": "w62vel-D9_O4",
        "outputId": "3cb605ac-26dc-451f-8e41-f04bd1dbe526"
      },
      "execution_count": 49,
      "outputs": [
        {
          "output_type": "display_data",
          "data": {
            "text/plain": [
              "<Figure size 640x480 with 2 Axes>"
            ],
            "image/png": "[encoded data removed]"
          },
          "metadata": {}
        }
      ]
    },
    {
      "cell_type": "code",
      "source": [],
      "metadata": {
        "id": "zPTH4wXL-FgO"
      },
      "execution_count": null,
      "outputs": []
    },
    {
      "cell_type": "code",
      "source": [
        "import tensorflow as tf\n",
        "from tensorflow.keras.models import Sequential\n",
        "from tensorflow.keras.layers import Embedding, GlobalAveragePooling1D, Dense\n",
        "\n",
        "# Assuming you have defined vocab_size, embedding_dim, and max_length earlier in your code\n",
        "\n",
        "model = Sequential([\n",
        "    Embedding(vocab_size, embedding_dim, input_length=max_length),\n",
        "    GlobalAveragePooling1D(),\n",
        "    Dense(24, activation=\"relu\"),\n",
        "    Dense(1, activation=\"sigmoid\")\n",
        "])\n",
        "\n",
        "# Compile the model (add optimizer, loss function, and metrics)\n",
        "model.compile(optimizer=\"adam\", loss=\"binary_crossentropy\", metrics=[\"accuracy\"])\n",
        "\n",
        "# Print the model summary\n",
        "model.summary()\n"
      ],
      "metadata": {
        "colab": {
          "base_uri": "https://localhost:8080/",
          "height": 289
        },
        "id": "bclng_szeHU7",
        "outputId": "4cafa79d-95d6-46fc-9781-75ddfb4c33fc"
      },
      "execution_count": 50,
      "outputs": [
        {
          "output_type": "display_data",
          "data": {
            "text/plain": [
              "\u001b[1mModel: \"sequential\"\u001b[0m\n"
            ],
            "text/html": [
              "<pre style=\"white-space:pre;overflow-x:auto;line-height:normal;font-family:Menlo,'DejaVu Sans Mono',consolas,'Courier New',monospace\"><span style=\"font-weight: bold\">Model: \"sequential\"</span>\n",
              "</pre>\n"
            ]
          },
          "metadata": {}
        },
        {
          "output_type": "display_data",
          "data": {
            "text/plain": [
              "┏━━━━━━━━━━━━━━━━━━━━━━━━━━━━━━━━━━━━━━┳━━━━━━━━━━━━━━━━━━━━━━━━━━━━━┳━━━━━━━━━━━━━━━━━┓\n",
              "┃\u001b[1m \u001b[0m\u001b[1mLayer (type)                        \u001b[0m\u001b[1m \u001b[0m┃\u001b[1m \u001b[0m\u001b[1mOutput Shape               \u001b[0m\u001b[1m \u001b[0m┃\u001b[1m \u001b[0m\u001b[1m        Param #\u001b[0m\u001b[1m \u001b[0m┃\n",
              "┡━━━━━━━━━━━━━━━━━━━━━━━━━━━━━━━━━━━━━━╇━━━━━━━━━━━━━━━━━━━━━━━━━━━━━╇━━━━━━━━━━━━━━━━━┩\n",
              "│ embedding (\u001b[38;5;33mEmbedding\u001b[0m)                │ ?                           │     \u001b[38;5;34m0\u001b[0m (unbuilt) │\n",
              "├──────────────────────────────────────┼─────────────────────────────┼─────────────────┤\n",
              "│ global_average_pooling1d             │ ?                           │               \u001b[38;5;34m0\u001b[0m │\n",
              "│ (\u001b[38;5;33mGlobalAveragePooling1D\u001b[0m)             │                             │                 │\n",
              "├──────────────────────────────────────┼─────────────────────────────┼─────────────────┤\n",
              "│ dense (\u001b[38;5;33mDense\u001b[0m)                        │ ?                           │     \u001b[38;5;34m0\u001b[0m (unbuilt) │\n",
              "├──────────────────────────────────────┼─────────────────────────────┼─────────────────┤\n",
              "│ dense_1 (\u001b[38;5;33mDense\u001b[0m)                      │ ?                           │     \u001b[38;5;34m0\u001b[0m (unbuilt) │\n",
              "└──────────────────────────────────────┴─────────────────────────────┴─────────────────┘\n"
            ],
            "text/html": [
              "<pre style=\"white-space:pre;overflow-x:auto;line-height:normal;font-family:Menlo,'DejaVu Sans Mono',consolas,'Courier New',monospace\">┏━━━━━━━━━━━━━━━━━━━━━━━━━━━━━━━━━━━━━━┳━━━━━━━━━━━━━━━━━━━━━━━━━━━━━┳━━━━━━━━━━━━━━━━━┓\n",
              "┃<span style=\"font-weight: bold\"> Layer (type)                         </span>┃<span style=\"font-weight: bold\"> Output Shape                </span>┃<span style=\"font-weight: bold\">         Param # </span>┃\n",
              "┡━━━━━━━━━━━━━━━━━━━━━━━━━━━━━━━━━━━━━━╇━━━━━━━━━━━━━━━━━━━━━━━━━━━━━╇━━━━━━━━━━━━━━━━━┩\n",
              "│ embedding (<span style=\"color: #0087ff; text-decoration-color: #0087ff\">Embedding</span>)                │ ?                           │     <span style=\"color: #00af00; text-decoration-color: #00af00\">0</span> (unbuilt) │\n",
              "├──────────────────────────────────────┼─────────────────────────────┼─────────────────┤\n",
              "│ global_average_pooling1d             │ ?                           │               <span style=\"color: #00af00; text-decoration-color: #00af00\">0</span> │\n",
              "│ (<span style=\"color: #0087ff; text-decoration-color: #0087ff\">GlobalAveragePooling1D</span>)             │                             │                 │\n",
              "├──────────────────────────────────────┼─────────────────────────────┼─────────────────┤\n",
              "│ dense (<span style=\"color: #0087ff; text-decoration-color: #0087ff\">Dense</span>)                        │ ?                           │     <span style=\"color: #00af00; text-decoration-color: #00af00\">0</span> (unbuilt) │\n",
              "├──────────────────────────────────────┼─────────────────────────────┼─────────────────┤\n",
              "│ dense_1 (<span style=\"color: #0087ff; text-decoration-color: #0087ff\">Dense</span>)                      │ ?                           │     <span style=\"color: #00af00; text-decoration-color: #00af00\">0</span> (unbuilt) │\n",
              "└──────────────────────────────────────┴─────────────────────────────┴─────────────────┘\n",
              "</pre>\n"
            ]
          },
          "metadata": {}
        },
        {
          "output_type": "display_data",
          "data": {
            "text/plain": [
              "\u001b[1m Total params: \u001b[0m\u001b[38;5;34m0\u001b[0m (0.00 B)\n"
            ],
            "text/html": [
              "<pre style=\"white-space:pre;overflow-x:auto;line-height:normal;font-family:Menlo,'DejaVu Sans Mono',consolas,'Courier New',monospace\"><span style=\"font-weight: bold\"> Total params: </span><span style=\"color: #00af00; text-decoration-color: #00af00\">0</span> (0.00 B)\n",
              "</pre>\n"
            ]
          },
          "metadata": {}
        },
        {
          "output_type": "display_data",
          "data": {
            "text/plain": [
              "\u001b[1m Trainable params: \u001b[0m\u001b[38;5;34m0\u001b[0m (0.00 B)\n"
            ],
            "text/html": [
              "<pre style=\"white-space:pre;overflow-x:auto;line-height:normal;font-family:Menlo,'DejaVu Sans Mono',consolas,'Courier New',monospace\"><span style=\"font-weight: bold\"> Trainable params: </span><span style=\"color: #00af00; text-decoration-color: #00af00\">0</span> (0.00 B)\n",
              "</pre>\n"
            ]
          },
          "metadata": {}
        },
        {
          "output_type": "display_data",
          "data": {
            "text/plain": [
              "\u001b[1m Non-trainable params: \u001b[0m\u001b[38;5;34m0\u001b[0m (0.00 B)\n"
            ],
            "text/html": [
              "<pre style=\"white-space:pre;overflow-x:auto;line-height:normal;font-family:Menlo,'DejaVu Sans Mono',consolas,'Courier New',monospace\"><span style=\"font-weight: bold\"> Non-trainable params: </span><span style=\"color: #00af00; text-decoration-color: #00af00\">0</span> (0.00 B)\n",
              "</pre>\n"
            ]
          },
          "metadata": {}
        }
      ]
    },
    {
      "cell_type": "code",
      "source": [
        "from sklearn.feature_extraction.text import TfidfVectorizer\n",
        "from sklearn.svm import LinearSVC\n",
        "import pandas as pd\n",
        "\n",
        "# Assuming X_train is a DataFrame with a column 'Review Body' containing text samples\n",
        "# Assuming y_train is a binary array (0 or 1)\n",
        "X_train = pd.read_csv('sentiment.csv')\n",
        "y_train = X_train['sentiments']  # Assuming Sentiment is the target column\n",
        "\n",
        "# Extract the product URLs from the DataFrame\n",
        "product_urls = X_train['productURL']\n",
        "\n",
        "# Use TF-IDF vectorizer to convert text data to numeric format\n",
        "vectorizer = TfidfVectorizer()\n",
        "X_train_vectorized = vectorizer.fit_transform(product_urls.astype(str))\n",
        "\n",
        "# Create a LinearSVC model\n",
        "model = LinearSVC()\n",
        "\n",
        "# Train the model on the training data\n",
        "model.fit(X_train_vectorized, y_train)\n",
        "\n",
        "# Function to predict sentiment based on product URL\n",
        "def predict_sentiment(url):\n",
        "    # Transform the input URL using the same vectorizer\n",
        "    url_vectorized = vectorizer.transform([url])\n",
        "\n",
        "    # Predict sentiment using the trained LinearSVC classifier\n",
        "    predicted_sentiment = model.predict(url_vectorized)\n",
        "\n",
        "    # Return the predicted sentiment as a string\n",
        "    if predicted_sentiment == 1:\n",
        "        return 'Positive'\n",
        "    elif predicted_sentiment == 2:\n",
        "        return 'Neutral'\n",
        "    elif predicted_sentiment == 0:\n",
        "        return 'Negative'\n",
        "    else:\n",
        "        return 'Unknown Sentiment'\n",
        "\n",
        "# Example product URL to test\n",
        "product_url_to_test = \"https://www.amazon.com/Nike-DD9293-300-Mens-Sneaker/product-reviews/B0B6G5R7KZ/ref=cm_cr_dp_d_show_all_btm?ie=UTF8&reviewerType=all_reviews\"\n",
        "predicted_sentiment_str = predict_sentiment(product_url_to_test)\n",
        "print(f\"Predicted Sentiment for {product_url_to_test}: {predicted_sentiment_str}\")\n",
        "\n",
        "\n",
        "\n"
      ],
      "metadata": {
        "colab": {
          "base_uri": "https://localhost:8080/"
        },
        "id": "YPPu2tiz-rgC",
        "outputId": "887c0a1c-1dcd-41c0-ac2e-ed571bddb7e8"
      },
      "execution_count": 51,
      "outputs": [
        {
          "output_type": "stream",
          "name": "stdout",
          "text": [
            "Predicted Sentiment for https://www.amazon.com/Nike-DD9293-300-Mens-Sneaker/product-reviews/B0B6G5R7KZ/ref=cm_cr_dp_d_show_all_btm?ie=UTF8&reviewerType=all_reviews: Positive\n"
          ]
        }
      ]
    },
    {
      "cell_type": "code",
      "source": [
        "import requests\n",
        "from bs4 import BeautifulSoup\n",
        "from textblob import TextBlob\n",
        "from sklearn.feature_extraction.text import TfidfVectorizer\n",
        "from sklearn.svm import LinearSVC\n",
        "import pandas as pd\n",
        "\n",
        "def get_reviews_from_amazon_url(url):\n",
        "    # Assuming \"sentiment.csv\" contains a column named \"Review Body\" with reviews\n",
        "    reviews_df = pd.read_csv(\"sentiment.csv\")\n",
        "    reviews = reviews_df['Review Body'].tolist()\n",
        "    return reviews\n",
        "\n",
        "def analyze_sentiment(reviews, threshold=0.1):\n",
        "    if not reviews:\n",
        "        return None\n",
        "\n",
        "    # Perform sentiment analysis using TextBlob\n",
        "    sentiment_scores = [TextBlob(review).sentiment.polarity for review in reviews]\n",
        "    average_sentiment_score = sum(sentiment_scores) / len(sentiment_scores)\n",
        "\n",
        "    # Categorize sentiment\n",
        "    sentiment = \"Positive\" if average_sentiment_score > threshold else \"Negative\" if average_sentiment_score < -threshold else \"Neutral\"\n",
        "\n",
        "    # Calculate sentiment percentage\n",
        "    positive_percentage = sum(1 for score in sentiment_scores if score > threshold) / len(sentiment_scores) * 100\n",
        "    neutral_percentage = sum(1 for score in sentiment_scores if -threshold <= score <= threshold) / len(sentiment_scores) * 100\n",
        "    negative_percentage = sum(1 for score in sentiment_scores if score < -threshold) / len(sentiment_scores) * 100\n",
        "\n",
        "    sentiment_percentage = {\n",
        "        \"positive\": positive_percentage,\n",
        "        \"neutral\": neutral_percentage,\n",
        "        \"negative\": negative_percentage\n",
        "    }\n",
        "\n",
        "    return average_sentiment_score, sentiment, sentiment_percentage\n",
        "\n",
        "def predict_sentiment_using_model(url):\n",
        "    # Assuming X_train is a DataFrame with a column 'Review Body' containing text samples\n",
        "    # Assuming y_train is a binary array (0 or 1)\n",
        "    X_train = pd.read_csv('sentiment.csv')\n",
        "    y_train = X_train['sentiments']  # Assuming Sentiment is the target column\n",
        "\n",
        "    # Extract the product URLs from the DataFrame\n",
        "    product_urls = X_train['productURL']\n",
        "\n",
        "    # Use TF-IDF vectorizer to convert text data to numeric format\n",
        "    vectorizer = TfidfVectorizer()\n",
        "    X_train_vectorized = vectorizer.fit_transform(product_urls.astype(str))\n",
        "\n",
        "    # Create a LinearSVC model\n",
        "    model = LinearSVC()\n",
        "\n",
        "    # Train the model on the training data\n",
        "    model.fit(X_train_vectorized, y_train)\n",
        "\n",
        "    # Transform the input URL using the same vectorizer\n",
        "    url_vectorized = vectorizer.transform([url])\n",
        "\n",
        "    # Print decision function values for diagnostic purposes\n",
        "    decision_values = model.decision_function(url_vectorized)\n",
        "    print(\"Decision Function Values:\", decision_values)\n",
        "\n",
        "    # Predict sentiment using the trained LinearSVC classifier\n",
        "    predicted_sentiment = model.predict(url_vectorized)\n",
        "\n",
        "    # Return the predicted sentiment as a string\n",
        "    if predicted_sentiment == 1:\n",
        "        return 'Positive'\n",
        "    elif predicted_sentiment == 2:\n",
        "        return 'Neutral'\n",
        "    elif predicted_sentiment == 0:\n",
        "        return 'Negative'\n",
        "    else:\n",
        "        return 'Unknown Sentiment'\n",
        "\n",
        "# Example usage with the provided Amazon link\n",
        "amazon_url = 'https://www.amazon.com/Nike-DD9293-300-Mens-Sneaker/product-reviews/B0B6G5R7KZ/ref=cm_cr_dp_d_show_all_btm?ie=UTF8&reviewerType=all_reviews'\n",
        "reviews = get_reviews_from_amazon_url(amazon_url)\n",
        "\n",
        "# Adjust threshold based on your preference\n",
        "result = analyze_sentiment(reviews, threshold=-0.4)\n",
        "\n",
        "if result:\n",
        "    sentiment_score, sentiment, sentiment_percentage = result\n",
        "    print(f\"Sentiment Score: {sentiment_score}\")\n",
        "    print(f\"Sentiment: {sentiment}\")\n",
        "    print(\"Sentiment Percentage:\")\n",
        "    for label, percentage in sentiment_percentage.items():\n",
        "        print(f\"{label}: {percentage:.2f}%\")\n",
        "\n",
        "    # Predict sentiment using the trained model\n",
        "    predicted_sentiment_str = predict_sentiment_using_model(amazon_url)\n",
        "    print(f\"Predicted Sentiment for {amazon_url}: {predicted_sentiment_str}\")\n"
      ],
      "metadata": {
        "colab": {
          "base_uri": "https://localhost:8080/"
        },
        "id": "6-N9FnSR4VBR",
        "outputId": "c166c69b-bb66-4082-bc07-0495d7aea5cb"
      },
      "execution_count": 52,
      "outputs": [
        {
          "output_type": "stream",
          "name": "stdout",
          "text": [
            "Sentiment Score: 0.41123624495883176\n",
            "Sentiment: Positive\n",
            "Sentiment Percentage:\n",
            "positive: 99.22%\n",
            "neutral: 0.00%\n",
            "negative: 44.19%\n",
            "Decision Function Values: [[-0.97656874  0.98101779 -1.00559812]]\n",
            "Predicted Sentiment for https://www.amazon.com/Nike-DD9293-300-Mens-Sneaker/product-reviews/B0B6G5R7KZ/ref=cm_cr_dp_d_show_all_btm?ie=UTF8&reviewerType=all_reviews: Positive\n"
          ]
        }
      ]
    },
    {
      "cell_type": "code",
      "source": [
        "# Train the model (Remove epochs)\n",
        "history = model.fit(training_padded, training_labels)\n",
        "\n",
        "# Evaluate the model\n",
        "accuracy = model.score(testing_padded, testing_labels)\n",
        "\n",
        "# Print accuracy\n",
        "print(f\"Accuracy: {accuracy * 100:.2f}%\")\n",
        "\n"
      ],
      "metadata": {
        "colab": {
          "base_uri": "https://localhost:8080/"
        },
        "id": "WqSVCE5KhAKP",
        "outputId": "125acf1a-b91d-4c08-b4f5-fe87b29b23aa"
      },
      "execution_count": 55,
      "outputs": [
        {
          "output_type": "stream",
          "name": "stdout",
          "text": [
            "Accuracy: 92.31%\n"
          ]
        }
      ]
    },
    {
      "cell_type": "markdown",
      "source": [
        "**load and save the model**"
      ],
      "metadata": {
        "id": "cquI-2EFE-cg"
      }
    },
    {
      "cell_type": "code",
      "source": [
        "import pickle\n",
        "\n",
        "# Save the trained model and vectorizer\n",
        "with open('sentiment_model.pkl', 'wb') as model_file:\n",
        "    pickle.dump(model, model_file)\n",
        "\n",
        "with open('sentiment_vectorizer.pkl', 'wb') as vectorizer_file:\n",
        "    pickle.dump(vectorizer, vectorizer_file)\n"
      ],
      "metadata": {
        "id": "baMuKxBiFBO5"
      },
      "execution_count": 56,
      "outputs": []
    },
    {
      "cell_type": "code",
      "source": [
        "import pickle\n",
        "\n",
        "# Load the trained model\n",
        "with open('sentiment_model.pkl', 'rb') as model_file:\n",
        "    loaded_model = pickle.load(model_file)\n",
        "\n",
        "# Load the vectorizer\n",
        "with open('sentiment_vectorizer.pkl', 'rb') as vectorizer_file:\n",
        "    loaded_vectorizer = pickle.load(vectorizer_file)\n"
      ],
      "metadata": {
        "id": "ULkxGbDdKCzA"
      },
      "execution_count": 57,
      "outputs": []
    },
    {
      "cell_type": "code",
      "source": [
        "import joblib\n",
        "\n",
        "# Save the trained model and vectorizer with joblib\n",
        "joblib.dump(model, 'sentiment_model.joblib')\n",
        "joblib.dump(vectorizer, 'sentiment_vectorizer.joblib')\n",
        "\n",
        "# Load the trained model with joblib\n",
        "loaded_model = joblib.load('sentiment_model.joblib')\n",
        "\n",
        "# Load the vectorizer with joblib\n",
        "loaded_vectorizer = joblib.load('sentiment_vectorizer.joblib')\n"
      ],
      "metadata": {
        "id": "sbkPpCXVLqeR"
      },
      "execution_count": 58,
      "outputs": []
    },
    {
      "cell_type": "code",
      "source": [],
      "metadata": {
        "id": "T7CX3kWOximD"
      },
      "execution_count": null,
      "outputs": []
    }
  ]
}